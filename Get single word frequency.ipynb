{
 "cells": [
  {
   "cell_type": "code",
   "execution_count": 46,
   "metadata": {
    "collapsed": true
   },
   "outputs": [],
   "source": [
    "import pandas as pd\n",
    "import numpy as np\n",
    "from sklearn.feature_extraction.text import CountVectorizer\n",
    "import re\n",
    "import matplotlib.pyplot as plt\n",
    "%matplotlib inline\n",
    "import my_speller\n",
    "import imp\n",
    "imp.reload(my_speller)\n",
    "from autocorrect import spell as spell_eng\n",
    "\n",
    "import pygtrie as trie\n",
    "\n",
    "from scipy.optimize import curve_fit\n",
    "\n",
    "from tqdm import tqdm_notebook\n",
    "\n",
    "from scipy import statsts"
   ]
  },
  {
   "cell_type": "markdown",
   "metadata": {},
   "source": [
    "Загрузка датасета"
   ]
  },
  {
   "cell_type": "code",
   "execution_count": 2,
   "metadata": {
    "collapsed": true
   },
   "outputs": [],
   "source": [
    "client_mess = pd.read_csv('Client_messages_cleaned.csv', encoding='Windows-1251', delimiter=';', header=None)"
   ]
  },
  {
   "cell_type": "code",
   "execution_count": 3,
   "metadata": {
    "scrolled": true
   },
   "outputs": [
    {
     "data": {
      "text/html": [
       "<div>\n",
       "<style>\n",
       "    .dataframe thead tr:only-child th {\n",
       "        text-align: right;\n",
       "    }\n",
       "\n",
       "    .dataframe thead th {\n",
       "        text-align: left;\n",
       "    }\n",
       "\n",
       "    .dataframe tbody tr th {\n",
       "        vertical-align: top;\n",
       "    }\n",
       "</style>\n",
       "<table border=\"1\" class=\"dataframe\">\n",
       "  <thead>\n",
       "    <tr style=\"text-align: right;\">\n",
       "      <th></th>\n",
       "      <th>0</th>\n",
       "      <th>1</th>\n",
       "    </tr>\n",
       "  </thead>\n",
       "  <tbody>\n",
       "    <tr>\n",
       "      <th>0</th>\n",
       "      <td>2</td>\n",
       "      <td>Я внес деньги на карту. Когда они придут, я их...</td>\n",
       "    </tr>\n",
       "    <tr>\n",
       "      <th>1</th>\n",
       "      <td>4</td>\n",
       "      <td>Кредитная</td>\n",
       "    </tr>\n",
       "    <tr>\n",
       "      <th>2</th>\n",
       "      <td>6</td>\n",
       "      <td>По карте</td>\n",
       "    </tr>\n",
       "    <tr>\n",
       "      <th>3</th>\n",
       "      <td>8</td>\n",
       "      <td>Да</td>\n",
       "    </tr>\n",
       "    <tr>\n",
       "      <th>4</th>\n",
       "      <td>10</td>\n",
       "      <td>Да</td>\n",
       "    </tr>\n",
       "    <tr>\n",
       "      <th>5</th>\n",
       "      <td>17</td>\n",
       "      <td>ООО, вас чат появился</td>\n",
       "    </tr>\n",
       "    <tr>\n",
       "      <th>6</th>\n",
       "      <td>19</td>\n",
       "      <td>Прикольное</td>\n",
       "    </tr>\n",
       "    <tr>\n",
       "      <th>7</th>\n",
       "      <td>21</td>\n",
       "      <td>А баланс можете сказать</td>\n",
       "    </tr>\n",
       "    <tr>\n",
       "      <th>8</th>\n",
       "      <td>22</td>\n",
       "      <td>А нет, не надо</td>\n",
       "    </tr>\n",
       "    <tr>\n",
       "      <th>9</th>\n",
       "      <td>23</td>\n",
       "      <td>А до # Name вы работаете</td>\n",
       "    </tr>\n",
       "    <tr>\n",
       "      <th>10</th>\n",
       "      <td>25</td>\n",
       "      <td>А где вы находитесь</td>\n",
       "    </tr>\n",
       "    <tr>\n",
       "      <th>11</th>\n",
       "      <td>30</td>\n",
       "      <td>Что такое спасибо</td>\n",
       "    </tr>\n",
       "    <tr>\n",
       "      <th>12</th>\n",
       "      <td>38</td>\n",
       "      <td>Привет</td>\n",
       "    </tr>\n",
       "    <tr>\n",
       "      <th>13</th>\n",
       "      <td>42</td>\n",
       "      <td>Бесплатная она ?</td>\n",
       "    </tr>\n",
       "    <tr>\n",
       "      <th>14</th>\n",
       "      <td>45</td>\n",
       "      <td>А могу к счету мужа подключить ?</td>\n",
       "    </tr>\n",
       "    <tr>\n",
       "      <th>15</th>\n",
       "      <td>47</td>\n",
       "      <td>Жаль</td>\n",
       "    </tr>\n",
       "    <tr>\n",
       "      <th>16</th>\n",
       "      <td>48</td>\n",
       "      <td>Понятно, спасибо</td>\n",
       "    </tr>\n",
       "    <tr>\n",
       "      <th>17</th>\n",
       "      <td>52</td>\n",
       "      <td>Что такое арест ?</td>\n",
       "    </tr>\n",
       "    <tr>\n",
       "      <th>18</th>\n",
       "      <td>54</td>\n",
       "      <td>А исполнительный документ что это</td>\n",
       "    </tr>\n",
       "    <tr>\n",
       "      <th>19</th>\n",
       "      <td>56</td>\n",
       "      <td>А на каком основании банк л наложи арест</td>\n",
       "    </tr>\n",
       "    <tr>\n",
       "      <th>20</th>\n",
       "      <td>58</td>\n",
       "      <td>Такс</td>\n",
       "    </tr>\n",
       "    <tr>\n",
       "      <th>21</th>\n",
       "      <td>59</td>\n",
       "      <td>И что мне делать</td>\n",
       "    </tr>\n",
       "    <tr>\n",
       "      <th>22</th>\n",
       "      <td>61</td>\n",
       "      <td>Да</td>\n",
       "    </tr>\n",
       "    <tr>\n",
       "      <th>23</th>\n",
       "      <td>67</td>\n",
       "      <td>Что такое кредитная история ?</td>\n",
       "    </tr>\n",
       "    <tr>\n",
       "      <th>24</th>\n",
       "      <td>70</td>\n",
       "      <td>Аку</td>\n",
       "    </tr>\n",
       "    <tr>\n",
       "      <th>25</th>\n",
       "      <td>84</td>\n",
       "      <td>Вот, скажите-ка, мне</td>\n",
       "    </tr>\n",
       "    <tr>\n",
       "      <th>26</th>\n",
       "      <td>85</td>\n",
       "      <td>Что такое хорошая кредитная история</td>\n",
       "    </tr>\n",
       "    <tr>\n",
       "      <th>27</th>\n",
       "      <td>90</td>\n",
       "      <td>Я заказала кредитную историю у себя в кабинете...</td>\n",
       "    </tr>\n",
       "    <tr>\n",
       "      <th>28</th>\n",
       "      <td>91</td>\n",
       "      <td>Я после этого # Surname подала заявку на креди...</td>\n",
       "    </tr>\n",
       "    <tr>\n",
       "      <th>29</th>\n",
       "      <td>93</td>\n",
       "      <td>А еще скажите, если я поручитель у подружки. о...</td>\n",
       "    </tr>\n",
       "    <tr>\n",
       "      <th>30</th>\n",
       "      <td>95</td>\n",
       "      <td>А она может заменить меня другим человеком. Чт...</td>\n",
       "    </tr>\n",
       "    <tr>\n",
       "      <th>31</th>\n",
       "      <td>101</td>\n",
       "      <td>Здравствуйте. Я сменила оператора, но номер ос...</td>\n",
       "    </tr>\n",
       "    <tr>\n",
       "      <th>32</th>\n",
       "      <td>103</td>\n",
       "      <td>Здорово. Спасибо. А то я думала мне придётся и...</td>\n",
       "    </tr>\n",
       "    <tr>\n",
       "      <th>33</th>\n",
       "      <td>104</td>\n",
       "      <td>До свидания .</td>\n",
       "    </tr>\n",
       "    <tr>\n",
       "      <th>34</th>\n",
       "      <td>109</td>\n",
       "      <td>Что такое кредитная история хорошая</td>\n",
       "    </tr>\n",
       "    <tr>\n",
       "      <th>35</th>\n",
       "      <td>112</td>\n",
       "      <td>Да</td>\n",
       "    </tr>\n",
       "    <tr>\n",
       "      <th>36</th>\n",
       "      <td>113</td>\n",
       "      <td>Почему кредит не выдаете мне</td>\n",
       "    </tr>\n",
       "    <tr>\n",
       "      <th>37</th>\n",
       "      <td>116</td>\n",
       "      <td>Ясно</td>\n",
       "    </tr>\n",
       "    <tr>\n",
       "      <th>38</th>\n",
       "      <td>120</td>\n",
       "      <td>Мне, # Name, надо папе перевести деньги</td>\n",
       "    </tr>\n",
       "    <tr>\n",
       "      <th>39</th>\n",
       "      <td>122</td>\n",
       "      <td>Да</td>\n",
       "    </tr>\n",
       "    <tr>\n",
       "      <th>40</th>\n",
       "      <td>124</td>\n",
       "      <td>Да</td>\n",
       "    </tr>\n",
       "    <tr>\n",
       "      <th>41</th>\n",
       "      <td>126</td>\n",
       "      <td>Да, у него тоже ваша карта</td>\n",
       "    </tr>\n",
       "    <tr>\n",
       "      <th>42</th>\n",
       "      <td>128</td>\n",
       "      <td>Угу</td>\n",
       "    </tr>\n",
       "    <tr>\n",
       "      <th>43</th>\n",
       "      <td>134</td>\n",
       "      <td>Деньгами, желательно</td>\n",
       "    </tr>\n",
       "    <tr>\n",
       "      <th>44</th>\n",
       "      <td>135</td>\n",
       "      <td>Кредит посоветуйте</td>\n",
       "    </tr>\n",
       "    <tr>\n",
       "      <th>45</th>\n",
       "      <td>137</td>\n",
       "      <td>Где</td>\n",
       "    </tr>\n",
       "    <tr>\n",
       "      <th>46</th>\n",
       "      <td>139</td>\n",
       "      <td>Мебель</td>\n",
       "    </tr>\n",
       "    <tr>\n",
       "      <th>47</th>\n",
       "      <td>142</td>\n",
       "      <td>Ок. .. Пошел почитаю. .. С утром вас. .. Светит</td>\n",
       "    </tr>\n",
       "    <tr>\n",
       "      <th>48</th>\n",
       "      <td>151</td>\n",
       "      <td>Доброе доброе утро</td>\n",
       "    </tr>\n",
       "    <tr>\n",
       "      <th>49</th>\n",
       "      <td>152</td>\n",
       "      <td>Ну, скажите, малейшая</td>\n",
       "    </tr>\n",
       "    <tr>\n",
       "      <th>50</th>\n",
       "      <td>153</td>\n",
       "      <td>Я вроде регистрировался в спасибо</td>\n",
       "    </tr>\n",
       "    <tr>\n",
       "      <th>51</th>\n",
       "      <td>154</td>\n",
       "      <td>А как проверить это есть я там или нет</td>\n",
       "    </tr>\n",
       "    <tr>\n",
       "      <th>52</th>\n",
       "      <td>156</td>\n",
       "      <td>Сейчас проверю</td>\n",
       "    </tr>\n",
       "    <tr>\n",
       "      <th>53</th>\n",
       "      <td>157</td>\n",
       "      <td>А сколько бонусов как проверить</td>\n",
       "    </tr>\n",
       "    <tr>\n",
       "      <th>54</th>\n",
       "      <td>165</td>\n",
       "      <td>Я в метро сейчас нашла карту вашу</td>\n",
       "    </tr>\n",
       "    <tr>\n",
       "      <th>55</th>\n",
       "      <td>166</td>\n",
       "      <td>Позвоните хозяину</td>\n",
       "    </tr>\n",
       "    <tr>\n",
       "      <th>56</th>\n",
       "      <td>172</td>\n",
       "      <td>Здравствуйте !</td>\n",
       "    </tr>\n",
       "    <tr>\n",
       "      <th>57</th>\n",
       "      <td>173</td>\n",
       "      <td>Хотел бы больше узнать про вклад сохраняй. как...</td>\n",
       "    </tr>\n",
       "    <tr>\n",
       "      <th>58</th>\n",
       "      <td>174</td>\n",
       "      <td>?</td>\n",
       "    </tr>\n",
       "    <tr>\n",
       "      <th>59</th>\n",
       "      <td>177</td>\n",
       "      <td>Что такое пакет премьер ей РФ я</td>\n",
       "    </tr>\n",
       "  </tbody>\n",
       "</table>\n",
       "</div>"
      ],
      "text/plain": [
       "      0                                                  1\n",
       "0     2  Я внес деньги на карту. Когда они придут, я их...\n",
       "1     4                                          Кредитная\n",
       "2     6                                           По карте\n",
       "3     8                                                 Да\n",
       "4    10                                                 Да\n",
       "5    17                              ООО, вас чат появился\n",
       "6    19                                         Прикольное\n",
       "7    21                            А баланс можете сказать\n",
       "8    22                                     А нет, не надо\n",
       "9    23                           А до # Name вы работаете\n",
       "10   25                                А где вы находитесь\n",
       "11   30                                  Что такое спасибо\n",
       "12   38                                             Привет\n",
       "13   42                                   Бесплатная она ?\n",
       "14   45                   А могу к счету мужа подключить ?\n",
       "15   47                                               Жаль\n",
       "16   48                                   Понятно, спасибо\n",
       "17   52                                  Что такое арест ?\n",
       "18   54                  А исполнительный документ что это\n",
       "19   56           А на каком основании банк л наложи арест\n",
       "20   58                                               Такс\n",
       "21   59                                   И что мне делать\n",
       "22   61                                                 Да\n",
       "23   67                      Что такое кредитная история ?\n",
       "24   70                                                Аку\n",
       "25   84                               Вот, скажите-ка, мне\n",
       "26   85                Что такое хорошая кредитная история\n",
       "27   90  Я заказала кредитную историю у себя в кабинете...\n",
       "28   91  Я после этого # Surname подала заявку на креди...\n",
       "29   93  А еще скажите, если я поручитель у подружки. о...\n",
       "30   95  А она может заменить меня другим человеком. Чт...\n",
       "31  101  Здравствуйте. Я сменила оператора, но номер ос...\n",
       "32  103  Здорово. Спасибо. А то я думала мне придётся и...\n",
       "33  104                                      До свидания .\n",
       "34  109                Что такое кредитная история хорошая\n",
       "35  112                                                 Да\n",
       "36  113                       Почему кредит не выдаете мне\n",
       "37  116                                               Ясно\n",
       "38  120            Мне, # Name, надо папе перевести деньги\n",
       "39  122                                                 Да\n",
       "40  124                                                 Да\n",
       "41  126                         Да, у него тоже ваша карта\n",
       "42  128                                                Угу\n",
       "43  134                               Деньгами, желательно\n",
       "44  135                                 Кредит посоветуйте\n",
       "45  137                                                Где\n",
       "46  139                                             Мебель\n",
       "47  142    Ок. .. Пошел почитаю. .. С утром вас. .. Светит\n",
       "48  151                                 Доброе доброе утро\n",
       "49  152                              Ну, скажите, малейшая\n",
       "50  153                  Я вроде регистрировался в спасибо\n",
       "51  154             А как проверить это есть я там или нет\n",
       "52  156                                     Сейчас проверю\n",
       "53  157                    А сколько бонусов как проверить\n",
       "54  165                  Я в метро сейчас нашла карту вашу\n",
       "55  166                                  Позвоните хозяину\n",
       "56  172                                     Здравствуйте !\n",
       "57  173  Хотел бы больше узнать про вклад сохраняй. как...\n",
       "58  174                                                  ?\n",
       "59  177                    Что такое пакет премьер ей РФ я"
      ]
     },
     "execution_count": 3,
     "metadata": {},
     "output_type": "execute_result"
    }
   ],
   "source": [
    "client_mess.head(60)"
   ]
  },
  {
   "cell_type": "markdown",
   "metadata": {},
   "source": [
    "Создадим векторизатор"
   ]
  },
  {
   "cell_type": "code",
   "execution_count": 4,
   "metadata": {
    "collapsed": true
   },
   "outputs": [],
   "source": [
    "CV = CountVectorizer(ngram_range=(1,1))"
   ]
  },
  {
   "cell_type": "markdown",
   "metadata": {},
   "source": [
    "Модуль исправления ошибок"
   ]
  },
  {
   "cell_type": "code",
   "execution_count": 5,
   "metadata": {
    "collapsed": true
   },
   "outputs": [],
   "source": [
    "fn_dict = 'data/word_freq_dict.csv.zip'\n",
    "fn_letters = 'data/letter_typos_matrix.json'\n",
    "fn_typical = 'data/typical_typos.json'\n",
    "fn_bigrams = 'data/bigrams.zip'\n",
    "speller = my_speller.Speller(fn_dict, fn_letters, fn_typical, fn_bigrams, fix_register=True, verbose=False, try_split=True)"
   ]
  },
  {
   "cell_type": "markdown",
   "metadata": {},
   "source": [
    "Запустим CountVectorizer на клиентских сообщениях."
   ]
  },
  {
   "cell_type": "code",
   "execution_count": 6,
   "metadata": {},
   "outputs": [
    {
     "name": "stdout",
     "output_type": "stream",
     "text": [
      "Wall time: 14.8 s\n"
     ]
    }
   ],
   "source": [
    "%%time\n",
    "cnt = CV.fit_transform(client_mess[1].dropna())"
   ]
  },
  {
   "cell_type": "code",
   "execution_count": 7,
   "metadata": {},
   "outputs": [
    {
     "data": {
      "text/plain": [
       "(812312, 74916)"
      ]
     },
     "execution_count": 7,
     "metadata": {},
     "output_type": "execute_result"
    }
   ],
   "source": [
    "cnt.shape"
   ]
  },
  {
   "cell_type": "markdown",
   "metadata": {},
   "source": [
    "Выделим все слова и подсчитаем суммарное количество упоминаний во всех сообщениях"
   ]
  },
  {
   "cell_type": "code",
   "execution_count": 8,
   "metadata": {},
   "outputs": [
    {
     "name": "stdout",
     "output_type": "stream",
     "text": [
      "Wall time: 151 ms\n"
     ]
    }
   ],
   "source": [
    "%%time\n",
    "# Все слова\n",
    "features = CV.get_feature_names()\n",
    "# Суммарное упоминание каждого слова во всех сообщениях\n",
    "total_count = np.array(np.sum(cnt, axis=0))"
   ]
  },
  {
   "cell_type": "markdown",
   "metadata": {},
   "source": [
    "Датафрейм с парами слов и количеством появлений"
   ]
  },
  {
   "cell_type": "code",
   "execution_count": 9,
   "metadata": {
    "collapsed": true
   },
   "outputs": [],
   "source": [
    "w = pd.DataFrame({'word':features, 'count':total_count.reshape(-1)})\n",
    "w.to_csv('All_words.csv', encoding='Windows-1251')"
   ]
  },
  {
   "cell_type": "code",
   "execution_count": null,
   "metadata": {
    "collapsed": true
   },
   "outputs": [],
   "source": []
  },
  {
   "cell_type": "code",
   "execution_count": 10,
   "metadata": {
    "scrolled": true
   },
   "outputs": [
    {
     "data": {
      "text/html": [
       "<div>\n",
       "<style>\n",
       "    .dataframe thead tr:only-child th {\n",
       "        text-align: right;\n",
       "    }\n",
       "\n",
       "    .dataframe thead th {\n",
       "        text-align: left;\n",
       "    }\n",
       "\n",
       "    .dataframe tbody tr th {\n",
       "        vertical-align: top;\n",
       "    }\n",
       "</style>\n",
       "<table border=\"1\" class=\"dataframe\">\n",
       "  <thead>\n",
       "    <tr style=\"text-align: right;\">\n",
       "      <th></th>\n",
       "      <th>count</th>\n",
       "      <th>word</th>\n",
       "    </tr>\n",
       "  </thead>\n",
       "  <tbody>\n",
       "    <tr>\n",
       "      <th>0</th>\n",
       "      <td>1</td>\n",
       "      <td>aaa</td>\n",
       "    </tr>\n",
       "    <tr>\n",
       "      <th>1</th>\n",
       "      <td>2</td>\n",
       "      <td>aaaa</td>\n",
       "    </tr>\n",
       "    <tr>\n",
       "      <th>2</th>\n",
       "      <td>1</td>\n",
       "      <td>aadroid</td>\n",
       "    </tr>\n",
       "    <tr>\n",
       "      <th>3</th>\n",
       "      <td>1</td>\n",
       "      <td>aarbekovich</td>\n",
       "    </tr>\n",
       "    <tr>\n",
       "      <th>4</th>\n",
       "      <td>1</td>\n",
       "      <td>aastasia</td>\n",
       "    </tr>\n",
       "    <tr>\n",
       "      <th>5</th>\n",
       "      <td>3</td>\n",
       "      <td>aaр</td>\n",
       "    </tr>\n",
       "    <tr>\n",
       "      <th>6</th>\n",
       "      <td>13</td>\n",
       "      <td>ab</td>\n",
       "    </tr>\n",
       "    <tr>\n",
       "      <th>7</th>\n",
       "      <td>5</td>\n",
       "      <td>aba</td>\n",
       "    </tr>\n",
       "    <tr>\n",
       "      <th>8</th>\n",
       "      <td>1</td>\n",
       "      <td>abdaily</td>\n",
       "    </tr>\n",
       "    <tr>\n",
       "      <th>9</th>\n",
       "      <td>2</td>\n",
       "      <td>abdukarim</td>\n",
       "    </tr>\n",
       "    <tr>\n",
       "      <th>10</th>\n",
       "      <td>1</td>\n",
       "      <td>abl</td>\n",
       "    </tr>\n",
       "    <tr>\n",
       "      <th>11</th>\n",
       "      <td>1</td>\n",
       "      <td>able</td>\n",
       "    </tr>\n",
       "    <tr>\n",
       "      <th>12</th>\n",
       "      <td>2</td>\n",
       "      <td>aboccnbj</td>\n",
       "    </tr>\n",
       "    <tr>\n",
       "      <th>13</th>\n",
       "      <td>11</td>\n",
       "      <td>about</td>\n",
       "    </tr>\n",
       "    <tr>\n",
       "      <th>14</th>\n",
       "      <td>1</td>\n",
       "      <td>above</td>\n",
       "    </tr>\n",
       "    <tr>\n",
       "      <th>15</th>\n",
       "      <td>1</td>\n",
       "      <td>abroad</td>\n",
       "    </tr>\n",
       "    <tr>\n",
       "      <th>16</th>\n",
       "      <td>1</td>\n",
       "      <td>abshatse</td>\n",
       "    </tr>\n",
       "    <tr>\n",
       "      <th>17</th>\n",
       "      <td>1</td>\n",
       "      <td>abuichno</td>\n",
       "    </tr>\n",
       "    <tr>\n",
       "      <th>18</th>\n",
       "      <td>3</td>\n",
       "      <td>abuladze</td>\n",
       "    </tr>\n",
       "    <tr>\n",
       "      <th>19</th>\n",
       "      <td>2</td>\n",
       "      <td>abuladzebirth</td>\n",
       "    </tr>\n",
       "    <tr>\n",
       "      <th>20</th>\n",
       "      <td>1</td>\n",
       "      <td>abw</td>\n",
       "    </tr>\n",
       "    <tr>\n",
       "      <th>21</th>\n",
       "      <td>3</td>\n",
       "      <td>ac</td>\n",
       "    </tr>\n",
       "    <tr>\n",
       "      <th>22</th>\n",
       "      <td>1</td>\n",
       "      <td>acb</td>\n",
       "    </tr>\n",
       "    <tr>\n",
       "      <th>23</th>\n",
       "      <td>1</td>\n",
       "      <td>acba</td>\n",
       "    </tr>\n",
       "    <tr>\n",
       "      <th>24</th>\n",
       "      <td>1</td>\n",
       "      <td>acbar</td>\n",
       "    </tr>\n",
       "    <tr>\n",
       "      <th>25</th>\n",
       "      <td>1</td>\n",
       "      <td>acc</td>\n",
       "    </tr>\n",
       "    <tr>\n",
       "      <th>26</th>\n",
       "      <td>1</td>\n",
       "      <td>accept</td>\n",
       "    </tr>\n",
       "    <tr>\n",
       "      <th>27</th>\n",
       "      <td>2</td>\n",
       "      <td>acceptace</td>\n",
       "    </tr>\n",
       "    <tr>\n",
       "      <th>28</th>\n",
       "      <td>2</td>\n",
       "      <td>access</td>\n",
       "    </tr>\n",
       "    <tr>\n",
       "      <th>29</th>\n",
       "      <td>26</td>\n",
       "      <td>account</td>\n",
       "    </tr>\n",
       "    <tr>\n",
       "      <th>30</th>\n",
       "      <td>1</td>\n",
       "      <td>accounts</td>\n",
       "    </tr>\n",
       "    <tr>\n",
       "      <th>31</th>\n",
       "      <td>50</td>\n",
       "      <td>accout</td>\n",
       "    </tr>\n",
       "    <tr>\n",
       "      <th>32</th>\n",
       "      <td>1</td>\n",
       "      <td>accouts</td>\n",
       "    </tr>\n",
       "    <tr>\n",
       "      <th>33</th>\n",
       "      <td>5</td>\n",
       "      <td>acct</td>\n",
       "    </tr>\n",
       "    <tr>\n",
       "      <th>34</th>\n",
       "      <td>1</td>\n",
       "      <td>acer</td>\n",
       "    </tr>\n",
       "    <tr>\n",
       "      <th>35</th>\n",
       "      <td>1</td>\n",
       "      <td>achmizov</td>\n",
       "    </tr>\n",
       "    <tr>\n",
       "      <th>36</th>\n",
       "      <td>1</td>\n",
       "      <td>acht</td>\n",
       "    </tr>\n",
       "    <tr>\n",
       "      <th>37</th>\n",
       "      <td>1</td>\n",
       "      <td>acquired</td>\n",
       "    </tr>\n",
       "    <tr>\n",
       "      <th>38</th>\n",
       "      <td>1</td>\n",
       "      <td>acro</td>\n",
       "    </tr>\n",
       "    <tr>\n",
       "      <th>39</th>\n",
       "      <td>1</td>\n",
       "      <td>acs</td>\n",
       "    </tr>\n",
       "    <tr>\n",
       "      <th>40</th>\n",
       "      <td>1</td>\n",
       "      <td>activ</td>\n",
       "    </tr>\n",
       "    <tr>\n",
       "      <th>41</th>\n",
       "      <td>1</td>\n",
       "      <td>active</td>\n",
       "    </tr>\n",
       "    <tr>\n",
       "      <th>42</th>\n",
       "      <td>3</td>\n",
       "      <td>acute</td>\n",
       "    </tr>\n",
       "    <tr>\n",
       "      <th>43</th>\n",
       "      <td>36</td>\n",
       "      <td>ad</td>\n",
       "    </tr>\n",
       "    <tr>\n",
       "      <th>44</th>\n",
       "      <td>1</td>\n",
       "      <td>adat</td>\n",
       "    </tr>\n",
       "    <tr>\n",
       "      <th>45</th>\n",
       "      <td>1</td>\n",
       "      <td>adayosh</td>\n",
       "    </tr>\n",
       "    <tr>\n",
       "      <th>46</th>\n",
       "      <td>1</td>\n",
       "      <td>adblock</td>\n",
       "    </tr>\n",
       "    <tr>\n",
       "      <th>47</th>\n",
       "      <td>1</td>\n",
       "      <td>adc</td>\n",
       "    </tr>\n",
       "    <tr>\n",
       "      <th>48</th>\n",
       "      <td>1</td>\n",
       "      <td>add</td>\n",
       "    </tr>\n",
       "    <tr>\n",
       "      <th>49</th>\n",
       "      <td>1</td>\n",
       "      <td>addig</td>\n",
       "    </tr>\n",
       "    <tr>\n",
       "      <th>50</th>\n",
       "      <td>1</td>\n",
       "      <td>additional</td>\n",
       "    </tr>\n",
       "    <tr>\n",
       "      <th>51</th>\n",
       "      <td>17</td>\n",
       "      <td>address</td>\n",
       "    </tr>\n",
       "    <tr>\n",
       "      <th>52</th>\n",
       "      <td>1</td>\n",
       "      <td>adi</td>\n",
       "    </tr>\n",
       "    <tr>\n",
       "      <th>53</th>\n",
       "      <td>1</td>\n",
       "      <td>adidas</td>\n",
       "    </tr>\n",
       "    <tr>\n",
       "      <th>54</th>\n",
       "      <td>1</td>\n",
       "      <td>adjustmet</td>\n",
       "    </tr>\n",
       "    <tr>\n",
       "      <th>55</th>\n",
       "      <td>1</td>\n",
       "      <td>admiistrator</td>\n",
       "    </tr>\n",
       "    <tr>\n",
       "      <th>56</th>\n",
       "      <td>1</td>\n",
       "      <td>adminiban</td>\n",
       "    </tr>\n",
       "    <tr>\n",
       "      <th>57</th>\n",
       "      <td>4</td>\n",
       "      <td>administrator</td>\n",
       "    </tr>\n",
       "    <tr>\n",
       "      <th>58</th>\n",
       "      <td>1</td>\n",
       "      <td>admiral</td>\n",
       "    </tr>\n",
       "    <tr>\n",
       "      <th>59</th>\n",
       "      <td>7</td>\n",
       "      <td>ado</td>\n",
       "    </tr>\n",
       "  </tbody>\n",
       "</table>\n",
       "</div>"
      ],
      "text/plain": [
       "    count           word\n",
       "0       1            aaa\n",
       "1       2           aaaa\n",
       "2       1        aadroid\n",
       "3       1    aarbekovich\n",
       "4       1       aastasia\n",
       "5       3            aaр\n",
       "6      13             ab\n",
       "7       5            aba\n",
       "8       1        abdaily\n",
       "9       2      abdukarim\n",
       "10      1            abl\n",
       "11      1           able\n",
       "12      2       aboccnbj\n",
       "13     11          about\n",
       "14      1          above\n",
       "15      1         abroad\n",
       "16      1       abshatse\n",
       "17      1       abuichno\n",
       "18      3       abuladze\n",
       "19      2  abuladzebirth\n",
       "20      1            abw\n",
       "21      3             ac\n",
       "22      1            acb\n",
       "23      1           acba\n",
       "24      1          acbar\n",
       "25      1            acc\n",
       "26      1         accept\n",
       "27      2      acceptace\n",
       "28      2         access\n",
       "29     26        account\n",
       "30      1       accounts\n",
       "31     50         accout\n",
       "32      1        accouts\n",
       "33      5           acct\n",
       "34      1           acer\n",
       "35      1       achmizov\n",
       "36      1           acht\n",
       "37      1       acquired\n",
       "38      1           acro\n",
       "39      1            acs\n",
       "40      1          activ\n",
       "41      1         active\n",
       "42      3          acute\n",
       "43     36             ad\n",
       "44      1           adat\n",
       "45      1        adayosh\n",
       "46      1        adblock\n",
       "47      1            adc\n",
       "48      1            add\n",
       "49      1          addig\n",
       "50      1     additional\n",
       "51     17        address\n",
       "52      1            adi\n",
       "53      1         adidas\n",
       "54      1      adjustmet\n",
       "55      1   admiistrator\n",
       "56      1      adminiban\n",
       "57      4  administrator\n",
       "58      1        admiral\n",
       "59      7            ado"
      ]
     },
     "execution_count": 10,
     "metadata": {},
     "output_type": "execute_result"
    }
   ],
   "source": [
    "w.head(60)"
   ]
  },
  {
   "cell_type": "markdown",
   "metadata": {},
   "source": [
    "Уберем слишком редкие слова"
   ]
  },
  {
   "cell_type": "code",
   "execution_count": 11,
   "metadata": {
    "collapsed": true
   },
   "outputs": [],
   "source": [
    "w = w[w['count']>20]"
   ]
  },
  {
   "cell_type": "markdown",
   "metadata": {},
   "source": [
    "Убираем слова, неизвестные спеллчекеру"
   ]
  },
  {
   "cell_type": "code",
   "execution_count": 12,
   "metadata": {
    "collapsed": true
   },
   "outputs": [],
   "source": [
    "w['is_known'] = w['word'].apply(speller._word_is_known)"
   ]
  },
  {
   "cell_type": "code",
   "execution_count": 13,
   "metadata": {
    "collapsed": true
   },
   "outputs": [],
   "source": [
    "w.dropna(inplace=True)"
   ]
  },
  {
   "cell_type": "code",
   "execution_count": 14,
   "metadata": {
    "collapsed": true
   },
   "outputs": [],
   "source": [
    "w.to_csv('known_words.csv', encoding='Windows-1251')"
   ]
  },
  {
   "cell_type": "code",
   "execution_count": 16,
   "metadata": {},
   "outputs": [
    {
     "data": {
      "text/plain": [
       "(9031, 3)"
      ]
     },
     "execution_count": 16,
     "metadata": {},
     "output_type": "execute_result"
    }
   ],
   "source": [
    "w.shape"
   ]
  },
  {
   "cell_type": "code",
   "execution_count": 16,
   "metadata": {
    "collapsed": true
   },
   "outputs": [],
   "source": [
    "w = pd.read_csv('known_words.csv', encoding='cp1251')"
   ]
  },
  {
   "cell_type": "code",
   "execution_count": 17,
   "metadata": {},
   "outputs": [
    {
     "data": {
      "text/html": [
       "<div>\n",
       "<style>\n",
       "    .dataframe thead tr:only-child th {\n",
       "        text-align: right;\n",
       "    }\n",
       "\n",
       "    .dataframe thead th {\n",
       "        text-align: left;\n",
       "    }\n",
       "\n",
       "    .dataframe tbody tr th {\n",
       "        vertical-align: top;\n",
       "    }\n",
       "</style>\n",
       "<table border=\"1\" class=\"dataframe\">\n",
       "  <thead>\n",
       "    <tr style=\"text-align: right;\">\n",
       "      <th></th>\n",
       "      <th>Unnamed: 0</th>\n",
       "      <th>count</th>\n",
       "      <th>word</th>\n",
       "      <th>is_known</th>\n",
       "    </tr>\n",
       "  </thead>\n",
       "  <tbody>\n",
       "    <tr>\n",
       "      <th>0</th>\n",
       "      <td>29</td>\n",
       "      <td>26</td>\n",
       "      <td>account</td>\n",
       "      <td>account</td>\n",
       "    </tr>\n",
       "    <tr>\n",
       "      <th>1</th>\n",
       "      <td>43</td>\n",
       "      <td>36</td>\n",
       "      <td>ad</td>\n",
       "      <td>ad</td>\n",
       "    </tr>\n",
       "    <tr>\n",
       "      <th>2</th>\n",
       "      <td>128</td>\n",
       "      <td>25</td>\n",
       "      <td>aliexpress</td>\n",
       "      <td>aliexpress</td>\n",
       "    </tr>\n",
       "    <tr>\n",
       "      <th>3</th>\n",
       "      <td>149</td>\n",
       "      <td>39</td>\n",
       "      <td>am</td>\n",
       "      <td>am</td>\n",
       "    </tr>\n",
       "    <tr>\n",
       "      <th>4</th>\n",
       "      <td>154</td>\n",
       "      <td>23</td>\n",
       "      <td>ame</td>\n",
       "      <td>ame</td>\n",
       "    </tr>\n",
       "  </tbody>\n",
       "</table>\n",
       "</div>"
      ],
      "text/plain": [
       "   Unnamed: 0  count        word    is_known\n",
       "0          29     26     account     account\n",
       "1          43     36          ad          ad\n",
       "2         128     25  aliexpress  aliexpress\n",
       "3         149     39          am          am\n",
       "4         154     23         ame         ame"
      ]
     },
     "execution_count": 17,
     "metadata": {},
     "output_type": "execute_result"
    }
   ],
   "source": [
    "w.head()"
   ]
  },
  {
   "cell_type": "code",
   "execution_count": 18,
   "metadata": {
    "collapsed": true
   },
   "outputs": [],
   "source": [
    "cnt1 = w.sort_values(['count'], ascending=False)['count']"
   ]
  },
  {
   "cell_type": "markdown",
   "metadata": {},
   "source": [
    "Just for fun: проверим закон Ципфа для клиентских сообщений"
   ]
  },
  {
   "cell_type": "code",
   "execution_count": 19,
   "metadata": {},
   "outputs": [
    {
     "data": {
      "image/png": "[encoded data removed]",
      "text/plain": [
       "<matplotlib.figure.Figure at 0xf265b7ca20>"
      ]
     },
     "metadata": {},
     "output_type": "display_data"
    }
   ],
   "source": [
    "plt.plot(np.arange(0, len(cnt1)), cnt1.values, 'k*')\n",
    "plt.gca().set_xscale('log')\n",
    "plt.gca().set_yscale('log')"
   ]
  },
  {
   "cell_type": "code",
   "execution_count": 62,
   "metadata": {},
   "outputs": [
    {
     "data": {
      "application/vnd.jupyter.widget-view+json": {
       "model_id": "2eb1af2a5af748aba783caf86d307f72",
       "version_major": 2,
       "version_minor": 0
      },
      "text/plain": [
       "A Jupyter Widget"
      ]
     },
     "metadata": {},
     "output_type": "display_data"
    },
    {
     "name": "stdout",
     "output_type": "stream",
     "text": [
      "[42.162120662808952, -0.9643731104187061] [  4.81389216e+06  -1.31756879e+00]\n",
      "[1.7163330572504965, -0.24383010678715025] [  4.81391352e+06  -1.31756944e+00]\n",
      "[47.070484733147545, -0.60921985612391993] [  4.81390328e+06  -1.31756913e+00]\n",
      "[80.713963308542432, -0.65908268846464357] [  4.81389914e+06  -1.31756900e+00]\n",
      "[9.1633796520848581, -0.54615317770616945] [  4.81390174e+06  -1.31756908e+00]\n",
      "[20.922073130689324, -0.23431764707305169] [  4.81389010e+06  -1.31756873e+00]\n",
      "[6.0568632390362032, -0.65398355092569638] [  4.81388986e+06  -1.31756872e+00]\n",
      "[15.530094392134508, -0.86816895326062105] [  4.81391397e+06  -1.31756946e+00]\n",
      "[31.1015703964738, -0.34679437401783469] [  4.81390220e+06  -1.31756910e+00]\n",
      "[93.38260083696369, -0.66390503238461163] [  4.81390317e+06  -1.31756913e+00]\n",
      "\n"
     ]
    }
   ],
   "source": [
    "def power_law_func(x, C, alpha):\n",
    "    return C * np.power(x, alpha)\n",
    "x = np.arange(1, len(cnt1) + 1)\n",
    "for i in tqdm_notebook(range(10)):\n",
    "    p0 = [np.random.uniform(0, 100, 1)[0], np.random.uniform(-0.1, -1.0, 1)[0]]\n",
    "    popt, pcov = curve_fit(power_law_func, x[500:], cnt1.values[500:], p0 = p0)\n",
    "    print(p0, popt)"
   ]
  },
  {
   "cell_type": "code",
   "execution_count": 63,
   "metadata": {},
   "outputs": [
    {
     "data": {
      "text/plain": [
       "9031"
      ]
     },
     "execution_count": 63,
     "metadata": {},
     "output_type": "execute_result"
    }
   ],
   "source": [
    "pcov\n",
    "len(cnt1)"
   ]
  },
  {
   "cell_type": "code",
   "execution_count": 65,
   "metadata": {},
   "outputs": [
    {
     "data": {
      "text/plain": [
       "Text(0.5,1,'Kolomogorov-Smirnov test pvalue=1.000000')"
      ]
     },
     "execution_count": 65,
     "metadata": {},
     "output_type": "execute_result"
    },
    {
     "data": {
      "image/png": "[encoded data removed]",
      "text/plain": [
       "<matplotlib.figure.Figure at 0xf2664ff4a8>"
      ]
     },
     "metadata": {},
     "output_type": "display_data"
    }
   ],
   "source": [
    "D, pvalue = stats.kstest(cnt1.values[500:], power_law_func, args=popt, alternative='greater')\n",
    "plt.plot(x, cnt1.values, 'k*')\n",
    "plt.plot(x, power_law_func(x, *popt))\n",
    "plt.gca().set_xscale('log')\n",
    "plt.gca().set_yscale('log')\n",
    "plt.legend(['Empiric curve', 'Zipf\\'s law approximation'])\n",
    "plt.title('Kolomogorov-Smirnov test pvalue=%f'%pvalue)"
   ]
  },
  {
   "cell_type": "markdown",
   "metadata": {},
   "source": [
    "Словарь нецензурной лексики (от Дайховской). Приводим к нижнему регистру, чтобы сравнивать "
   ]
  },
  {
   "cell_type": "code",
   "execution_count": 45,
   "metadata": {
    "collapsed": true,
    "scrolled": true
   },
   "outputs": [],
   "source": [
    "obsc = pd.read_table('obscene_corpus.txt', header=None)\n",
    "obsc[0] = obsc[0].apply(str.lower)"
   ]
  },
  {
   "cell_type": "code",
   "execution_count": 46,
   "metadata": {},
   "outputs": [
    {
     "data": {
      "text/html": [
       "<div>\n",
       "<style>\n",
       "    .dataframe thead tr:only-child th {\n",
       "        text-align: right;\n",
       "    }\n",
       "\n",
       "    .dataframe thead th {\n",
       "        text-align: left;\n",
       "    }\n",
       "\n",
       "    .dataframe tbody tr th {\n",
       "        vertical-align: top;\n",
       "    }\n",
       "</style>\n",
       "<table border=\"1\" class=\"dataframe\">\n",
       "  <thead>\n",
       "    <tr style=\"text-align: right;\">\n",
       "      <th></th>\n",
       "      <th>0</th>\n",
       "    </tr>\n",
       "  </thead>\n",
       "  <tbody>\n",
       "    <tr>\n",
       "      <th>0</th>\n",
       "      <td>6ля</td>\n",
       "    </tr>\n",
       "    <tr>\n",
       "      <th>1</th>\n",
       "      <td>6ляд</td>\n",
       "    </tr>\n",
       "    <tr>\n",
       "      <th>2</th>\n",
       "      <td>fuck</td>\n",
       "    </tr>\n",
       "    <tr>\n",
       "      <th>3</th>\n",
       "      <td>pizd</td>\n",
       "    </tr>\n",
       "    <tr>\n",
       "      <th>4</th>\n",
       "      <td>pizda</td>\n",
       "    </tr>\n",
       "  </tbody>\n",
       "</table>\n",
       "</div>"
      ],
      "text/plain": [
       "       0\n",
       "0    6ля\n",
       "1   6ляд\n",
       "2   fuck\n",
       "3   pizd\n",
       "4  pizda"
      ]
     },
     "execution_count": 46,
     "metadata": {},
     "output_type": "execute_result"
    }
   ],
   "source": [
    "obsc.head()"
   ]
  },
  {
   "cell_type": "code",
   "execution_count": 48,
   "metadata": {},
   "outputs": [
    {
     "data": {
      "text/plain": [
       "True"
      ]
     },
     "execution_count": 48,
     "metadata": {},
     "output_type": "execute_result"
    }
   ],
   "source": [
    "'бля' in obsc.values"
   ]
  },
  {
   "cell_type": "code",
   "execution_count": 49,
   "metadata": {
    "collapsed": true
   },
   "outputs": [],
   "source": [
    "is_obsc = lambda x: x in obsc.values\n",
    "w['obsc'] = w['word'].apply(is_obsc)"
   ]
  },
  {
   "cell_type": "code",
   "execution_count": 50,
   "metadata": {},
   "outputs": [
    {
     "data": {
      "text/html": [
       "<div>\n",
       "<style>\n",
       "    .dataframe thead tr:only-child th {\n",
       "        text-align: right;\n",
       "    }\n",
       "\n",
       "    .dataframe thead th {\n",
       "        text-align: left;\n",
       "    }\n",
       "\n",
       "    .dataframe tbody tr th {\n",
       "        vertical-align: top;\n",
       "    }\n",
       "</style>\n",
       "<table border=\"1\" class=\"dataframe\">\n",
       "  <thead>\n",
       "    <tr style=\"text-align: right;\">\n",
       "      <th></th>\n",
       "      <th>count</th>\n",
       "      <th>word</th>\n",
       "      <th>is_known</th>\n",
       "      <th>obsc</th>\n",
       "    </tr>\n",
       "  </thead>\n",
       "  <tbody>\n",
       "    <tr>\n",
       "      <th>9425</th>\n",
       "      <td>22</td>\n",
       "      <td>бля</td>\n",
       "      <td>бля</td>\n",
       "      <td>True</td>\n",
       "    </tr>\n",
       "    <tr>\n",
       "      <th>72308</th>\n",
       "      <td>31</td>\n",
       "      <td>хуй</td>\n",
       "      <td>хуй</td>\n",
       "      <td>True</td>\n",
       "    </tr>\n",
       "  </tbody>\n",
       "</table>\n",
       "</div>"
      ],
      "text/plain": [
       "       count word is_known  obsc\n",
       "9425      22  бля      бля  True\n",
       "72308     31  хуй      хуй  True"
      ]
     },
     "execution_count": 50,
     "metadata": {},
     "output_type": "execute_result"
    }
   ],
   "source": [
    "w[w.obsc == True]"
   ]
  },
  {
   "cell_type": "code",
   "execution_count": 51,
   "metadata": {
    "collapsed": true
   },
   "outputs": [],
   "source": [
    "w = w[w.obsc == False]"
   ]
  },
  {
   "cell_type": "code",
   "execution_count": 52,
   "metadata": {
    "collapsed": true
   },
   "outputs": [],
   "source": [
    "t = trie.CharTrie()"
   ]
  },
  {
   "cell_type": "code",
   "execution_count": null,
   "metadata": {},
   "outputs": [],
   "source": [
    "import pygtrie as trie\n",
    "t = trie.CharTrie()\n",
    "for word, count in zip(w.word.values, w['count'].values):\n",
    "    t[word] = count\n",
    "import pickle\n",
    "with open('trie_words.pkl', 'wb') as f:\n",
    "    pickle.dump(t, f)"
   ]
  },
  {
   "cell_type": "markdown",
   "metadata": {},
   "source": [
    "Внесем все слова в префиксное дерево"
   ]
  },
  {
   "cell_type": "code",
   "execution_count": 53,
   "metadata": {
    "collapsed": true
   },
   "outputs": [],
   "source": [
    "for word, count in zip(w.word.values, w['count'].values):\n",
    "    t[word] = count"
   ]
  },
  {
   "cell_type": "code",
   "execution_count": 177,
   "metadata": {},
   "outputs": [
    {
     "data": {
      "text/plain": [
       "True"
      ]
     },
     "execution_count": 177,
     "metadata": {},
     "output_type": "execute_result"
    }
   ],
   "source": [
    "t.has_subtrie('здравст')"
   ]
  },
  {
   "cell_type": "markdown",
   "metadata": {},
   "source": [
    "Тест обхода по дереву с целью выявить наиболее частое слово.\n",
    "\n",
    "Однозначно нужно ставить shallow=False при обходе. В обратном случае, если префикс является словом, то будет возвращен именно он, и дальше обход дерева не пойдет. Есть большой шанс потерять более длинные и при этом более частые слова. Например, слово *бан* встречается 25 раз, слово *банк* - 19000, но по запросу *бан* выдается слово *бан*"
   ]
  },
  {
   "cell_type": "code",
   "execution_count": 145,
   "metadata": {
    "scrolled": true
   },
   "outputs": [
    {
     "name": "stdout",
     "output_type": "stream",
     "text": [
      "Wall time: 1 ms\n"
     ]
    }
   ],
   "source": [
    "%%time\n",
    "best_choice = ''\n",
    "best_count = 0\n",
    "pref = 'бан'\n",
    "num_vars = 10\n",
    "\n",
    "if t.has_subtrie(pref):\n",
    "    for key, value in t.iteritems(pref, shallow=False):\n",
    "        #print(key, value)\n",
    "        if value > best_count:\n",
    "            best_choice = key\n",
    "            best_count = value\n",
    "else:\n",
    "    print('Префикс отсутствует')"
   ]
  },
  {
   "cell_type": "code",
   "execution_count": 171,
   "metadata": {},
   "outputs": [
    {
     "name": "stdout",
     "output_type": "stream",
     "text": [
      "Wall time: 1 ms\n"
     ]
    }
   ],
   "source": [
    "%%time\n",
    "best_choice = ''\n",
    "best_count = 0\n",
    "pref = 'са'\n",
    "num_vars = 10\n",
    "\n",
    "if t.has_subtrie(pref):\n",
    "    s = [x[0] for x in sorted(list(t.iteritems(pref, shallow=False)), key=lambda x:x[1], reverse=True)[0:num_vars]]"
   ]
  },
  {
   "cell_type": "code",
   "execution_count": 169,
   "metadata": {},
   "outputs": [
    {
     "data": {
      "text/plain": [
       "['банк',\n",
       " 'банка',\n",
       " 'банке',\n",
       " 'банкомат',\n",
       " 'баланс',\n",
       " 'банком',\n",
       " 'банкомате',\n",
       " 'банку',\n",
       " 'банках',\n",
       " 'банкомата']"
      ]
     },
     "execution_count": 169,
     "metadata": {},
     "output_type": "execute_result"
    }
   ],
   "source": [
    "s"
   ]
  },
  {
   "cell_type": "markdown",
   "metadata": {},
   "source": [
    "Как должен работать класс:\n",
    "\n",
    "* Поступает на вход полная строка из того, что пользователь уже ввел\n",
    "* Если она кончается на пробел или символ конца строки, то предлагаем варианты нового слова\n",
    "* Если нет, то ищем вариант дописывания. Если варианты отсутствуют, то предлагаем варианты нового слова."
   ]
  },
  {
   "cell_type": "code",
   "execution_count": 268,
   "metadata": {
    "collapsed": true
   },
   "outputs": [],
   "source": [
    "from lazy import lazy\n",
    "from collections import Counter\n",
    "\n",
    "class Autofill():\n",
    "    def __init__(self, trie, bigrams_filename, num_vars=10):\n",
    "        self.trie = trie\n",
    "        self.bigrams_filename = bigrams_filename\n",
    "        self.num_vars = num_vars\n",
    "        \n",
    "    def __call__(self, s):\n",
    "        last_word = self.get_last_word(s)\n",
    "        if self.is_new_word(s):\n",
    "            res = self.get_new_word(last_word)\n",
    "        else:\n",
    "            res = self.get_continuation(last_word)\n",
    "        return res\n",
    "\n",
    "    @lazy\n",
    "    def bigrams(self):\n",
    "        df = pd.read_csv(self.bigrams_filename, encoding='cp1251')\n",
    "        bigrams = dict()\n",
    "    #    total_word_entries = df.num.sum()\n",
    "        for w1, w2, n in zip(df.word1, df.word2, df.num):\n",
    "            bigrams[w1] = bigrams.get(w1, dict())\n",
    "            bigrams[w1][w2] = n #/ total_word_entries\n",
    "        for w1 in bigrams:\n",
    "            bigrams[w1] = [w for w, n in Counter(bigrams[w1]).most_common(self.num_vars)]\n",
    "        return bigrams\n",
    "            \n",
    "    # Последнее слово в строке\n",
    "    #self.last_word = s.rstrip().rsplit(' ', maxsplit=1)[-1]\n",
    "    def get_last_word_old(self, s):\n",
    "        s = s.rstrip()\n",
    "        i = len(s) - 1 \n",
    "        is_started = False\n",
    "        is_ended = False\n",
    "        i_start = 0\n",
    "        i_end = i\n",
    "        while not is_ended:\n",
    "            if not is_started:\n",
    "                if s[i].isalpha():\n",
    "                    is_started = True\n",
    "                    i_end = i\n",
    "                i-=1\n",
    "                continue\n",
    "            else:\n",
    "                if s[i].isalpha():\n",
    "                    i-=1\n",
    "                    continue\n",
    "                else:\n",
    "                    i_start = i + 1\n",
    "                    return s[i_start:i_end]\n",
    "                \n",
    "    def get_last_word(self, s):\n",
    "        return s.split()[-1]\n",
    "\n",
    "    def is_new_word(self, s):\n",
    "        return s[-1] in [' ', '\\n']\n",
    "\n",
    "    def get_new_word(self, s):\n",
    "        return self.bigrams.get(s)\n",
    "        \n",
    "    \n",
    "    def get_continuation(self, pref):\n",
    "        # Принимаем на вход начало слова, возвращаем варианты следующего слова, отсортированные по убыванию частоты\n",
    "        # Если не нашлось, возвращаем None и переходим в классе к возвращению нового слова\n",
    "        if self.trie.has_subtrie(pref):\n",
    "            s = [x[0] for x in sorted(list(self.trie.iteritems(pref, shallow=False)), key=lambda x:x[1], reverse=True)[0:self.num_vars]]\n",
    "            return s\n",
    "        else:\n",
    "            return None\n"
   ]
  },
  {
   "cell_type": "code",
   "execution_count": 225,
   "metadata": {
    "collapsed": true
   },
   "outputs": [],
   "source": []
  },
  {
   "cell_type": "code",
   "execution_count": null,
   "metadata": {
    "collapsed": true
   },
   "outputs": [],
   "source": [
    "autofill"
   ]
  },
  {
   "cell_type": "code",
   "execution_count": 235,
   "metadata": {
    "collapsed": true
   },
   "outputs": [],
   "source": [
    "import pickle\n",
    "with open('trie_words.pkl', 'wb') as f:\n",
    "    pickle.dump(t, f)\n"
   ]
  },
  {
   "cell_type": "code",
   "execution_count": 236,
   "metadata": {
    "collapsed": true
   },
   "outputs": [],
   "source": [
    "with open('trie_words.pkl', 'rb') as f:\n",
    "    t = pickle.load(f)"
   ]
  },
  {
   "cell_type": "code",
   "execution_count": 274,
   "metadata": {
    "collapsed": true
   },
   "outputs": [],
   "source": [
    "autofill = Autofill(t, 'bigrams.csv')\n"
   ]
  },
  {
   "cell_type": "code",
   "execution_count": 283,
   "metadata": {},
   "outputs": [
    {
     "data": {
      "text/plain": [
       "['банке', 'сайте', 'же', 'отделении']"
      ]
     },
     "execution_count": 283,
     "metadata": {},
     "output_type": "execute_result"
    }
   ],
   "source": [
    "autofill(\"вашем \")"
   ]
  },
  {
   "cell_type": "code",
   "execution_count": null,
   "metadata": {
    "collapsed": true
   },
   "outputs": [],
   "source": []
  },
  {
   "cell_type": "code",
   "execution_count": 184,
   "metadata": {},
   "outputs": [
    {
     "data": {
      "text/plain": [
       "'wreupw'"
      ]
     },
     "execution_count": 184,
     "metadata": {},
     "output_type": "execute_result"
    }
   ],
   "source": [
    "s = 'sdfkjl sdkfjlkwe wreupw    '\n",
    "s.rstrip().rsplit(' ', maxsplit=1)[-1]"
   ]
  },
  {
   "cell_type": "code",
   "execution_count": 155,
   "metadata": {
    "collapsed": true
   },
   "outputs": [],
   "source": [
    "s = 'sdfk dsfhjk %s'%chr(10)"
   ]
  },
  {
   "cell_type": "code",
   "execution_count": 156,
   "metadata": {},
   "outputs": [
    {
     "data": {
      "text/plain": [
       "['sdfk', 'dsfhjk', '\\n']"
      ]
     },
     "execution_count": 156,
     "metadata": {},
     "output_type": "execute_result"
    }
   ],
   "source": [
    "s.split(' ')"
   ]
  },
  {
   "cell_type": "code",
   "execution_count": 154,
   "metadata": {},
   "outputs": [
    {
     "data": {
      "text/plain": [
       "'\\n'"
      ]
     },
     "execution_count": 154,
     "metadata": {},
     "output_type": "execute_result"
    }
   ],
   "source": [
    "chr(10)"
   ]
  },
  {
   "cell_type": "code",
   "execution_count": 185,
   "metadata": {},
   "outputs": [
    {
     "data": {
      "text/plain": [
       "True"
      ]
     },
     "execution_count": 185,
     "metadata": {},
     "output_type": "execute_result"
    }
   ],
   "source": [
    "s = 'asc'\n",
    "s[1].isalnum()"
   ]
  },
  {
   "cell_type": "code",
   "execution_count": 193,
   "metadata": {
    "collapsed": true
   },
   "outputs": [],
   "source": [
    "def get_last_word(s):\n",
    "    s = s.rstrip()\n",
    "    i = len(s) - 1 \n",
    "    is_started = False\n",
    "    is_ended = False\n",
    "    i_start = 0\n",
    "    i_end = i\n",
    "    while not is_ended:\n",
    "        if not is_started:\n",
    "            if s[i].isalpha():\n",
    "                is_started = True\n",
    "                i_end = i\n",
    "            i-=1\n",
    "            continue\n",
    "        else:\n",
    "            if s[i].isalpha():\n",
    "                i-=1\n",
    "                continue\n",
    "            else:\n",
    "                i_start = i + 1\n",
    "                return s[i_start:i_end]"
   ]
  },
  {
   "cell_type": "code",
   "execution_count": 208,
   "metadata": {},
   "outputs": [
    {
     "name": "stdout",
     "output_type": "stream",
     "text": [
      "Wall time: 0 ns\n"
     ]
    }
   ],
   "source": [
    "%%time\n",
    "s = 'sdkjfp woiurewop, lsdkfj, '\n",
    "#print(get_last_word(s))"
   ]
  },
  {
   "cell_type": "code",
   "execution_count": 199,
   "metadata": {
    "collapsed": true
   },
   "outputs": [],
   "source": [
    "import re"
   ]
  },
  {
   "cell_type": "code",
   "execution_count": 211,
   "metadata": {
    "collapsed": true
   },
   "outputs": [],
   "source": [
    "x = re.search('\\w+', s)"
   ]
  },
  {
   "cell_type": "code",
   "execution_count": 212,
   "metadata": {},
   "outputs": [
    {
     "name": "stdout",
     "output_type": "stream",
     "text": [
      "None\n"
     ]
    }
   ],
   "source": [
    "print(x.)"
   ]
  },
  {
   "cell_type": "code",
   "execution_count": 216,
   "metadata": {},
   "outputs": [
    {
     "name": "stdout",
     "output_type": "stream",
     "text": [
      "Wall time: 1 ms\n"
     ]
    }
   ],
   "source": [
    "%%time\n",
    "s = 'sdkjfp woiurewop, lsdkfj, '\n",
    "x = re.findall('\\w+', s)[-1]\n"
   ]
  },
  {
   "cell_type": "code",
   "execution_count": null,
   "metadata": {
    "collapsed": true
   },
   "outputs": [],
   "source": [
    "x."
   ]
  }
 ],
 "metadata": {
  "kernelspec": {
   "display_name": "Python 3",
   "language": "python",
   "name": "python3"
  },
  "language_info": {
   "codemirror_mode": {
    "name": "ipython",
    "version": 3
   },
   "file_extension": ".py",
   "mimetype": "text/x-python",
   "name": "python",
   "nbconvert_exporter": "python",
   "pygments_lexer": "ipython3",
   "version": "3.6.4"
  }
 },
 "nbformat": 4,
 "nbformat_minor": 2
}
