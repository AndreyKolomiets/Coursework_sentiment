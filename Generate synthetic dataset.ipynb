{
 "cells": [
  {
   "cell_type": "code",
   "execution_count": 37,
   "metadata": {},
   "outputs": [],
   "source": [
    "from sklearn.datasets import make_classification\n",
    "from sklearn.tree import DecisionTreeClassifier, export_graphviz\n",
    "from sklearn.model_selection import train_test_split\n",
    "import numpy as np\n",
    "import pandas as pd"
   ]
  },
  {
   "cell_type": "markdown",
   "metadata": {},
   "source": [
    "Создадим синтетический датасет"
   ]
  },
  {
   "cell_type": "code",
   "execution_count": 70,
   "metadata": {},
   "outputs": [],
   "source": [
    "n_features = 6\n",
    "n_classes = 6\n",
    "n_samples = 100\n",
    "_, y = make_classification(n_samples=n_samples, \n",
    "                           n_features=n_features, \n",
    "                           n_informative=n_features, \n",
    "                           n_redundant=0, \n",
    "                           n_classes=n_classes)\n",
    "values = np.random.uniform(size=(n_samples, n_features))\n",
    "t =  np.random.uniform(size=6)\n",
    "X = values > t\n",
    "X = X.astype('int32')"
   ]
  },
  {
   "cell_type": "code",
   "execution_count": 71,
   "metadata": {},
   "outputs": [],
   "source": [
    "cnt = np.random.randint(low=1, high=100, size=n_samples)"
   ]
  },
  {
   "cell_type": "code",
   "execution_count": 72,
   "metadata": {},
   "outputs": [],
   "source": [
    "feature_names = ['Признак' + str(i) for i in range(n_features)]\n",
    "target_name = 'Итог'\n",
    "target_map = {i:'Итог' + str(i) for i in range(n_classes)}\n",
    "target_mapped = [target_map[yy] for yy in y]\n"
   ]
  },
  {
   "cell_type": "markdown",
   "metadata": {},
   "source": [
    "Сохраним его в Excel"
   ]
  },
  {
   "cell_type": "code",
   "execution_count": 73,
   "metadata": {},
   "outputs": [],
   "source": [
    "dct = {feature_name:X[:, i] for i, feature_name in enumerate(feature_names)}\n",
    "dct.update({'Итог':target_mapped, 'Количество':cnt})\n",
    "df = pd.DataFrame(dct)\n",
    "df.to_excel('Synthetic dataset.xls', index=False, encoding='cp1251')"
   ]
  },
  {
   "cell_type": "code",
   "execution_count": null,
   "metadata": {},
   "outputs": [],
   "source": []
  }
 ],
 "metadata": {
  "kernelspec": {
   "display_name": "Python 3",
   "language": "python",
   "name": "python3"
  },
  "language_info": {
   "codemirror_mode": {
    "name": "ipython",
    "version": 3
   },
   "file_extension": ".py",
   "mimetype": "text/x-python",
   "name": "python",
   "nbconvert_exporter": "python",
   "pygments_lexer": "ipython3",
   "version": "3.6.4"
  }
 },
 "nbformat": 4,
 "nbformat_minor": 2
}
