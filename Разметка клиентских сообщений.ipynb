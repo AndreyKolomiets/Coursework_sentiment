{
 "cells": [
  {
   "cell_type": "code",
   "execution_count": 1,
   "metadata": {},
   "outputs": [
    {
     "name": "stdout",
     "output_type": "stream",
     "text": [
      "Populating the interactive namespace from numpy and matplotlib\n"
     ]
    }
   ],
   "source": [
    "import pandas as pd\n",
    "import numpy as np\n",
    "import requests\n",
    "import json\n",
    "from tqdm import tqdm_notebook, tqdm\n",
    "import re\n",
    "%pylab inline\n",
    "from sklearn.metrics import accuracy_score, f1_score"
   ]
  },
  {
   "cell_type": "code",
   "execution_count": 79,
   "metadata": {},
   "outputs": [],
   "source": [
    "from itertools import zip_longest\n",
    "\n",
    "def grouper(iterable, n, fillvalue=None):\n",
    "    args = [iter(iterable)] * n\n",
    "    return zip_longest(*args, fillvalue=fillvalue)"
   ]
  },
  {
   "cell_type": "markdown",
   "metadata": {},
   "source": [
    "Загрузим размеченные клиентские сообщения и приведем разметку к единому формату"
   ]
  },
  {
   "cell_type": "code",
   "execution_count": 80,
   "metadata": {},
   "outputs": [
    {
     "data": {
      "text/html": [
       "<div>\n",
       "<style scoped>\n",
       "    .dataframe tbody tr th:only-of-type {\n",
       "        vertical-align: middle;\n",
       "    }\n",
       "\n",
       "    .dataframe tbody tr th {\n",
       "        vertical-align: top;\n",
       "    }\n",
       "\n",
       "    .dataframe thead th {\n",
       "        text-align: right;\n",
       "    }\n",
       "</style>\n",
       "<table border=\"1\" class=\"dataframe\">\n",
       "  <thead>\n",
       "    <tr style=\"text-align: right;\">\n",
       "      <th></th>\n",
       "      <th>mes</th>\n",
       "      <th>score</th>\n",
       "    </tr>\n",
       "  </thead>\n",
       "  <tbody>\n",
       "    <tr>\n",
       "      <th>0</th>\n",
       "      <td>Ок. .. Пошел почитаю. .. С утром вас. .. Светит</td>\n",
       "      <td>3</td>\n",
       "    </tr>\n",
       "    <tr>\n",
       "      <th>1</th>\n",
       "      <td>Хорошо, вклад хочу открыть под максимальную ст...</td>\n",
       "      <td>3</td>\n",
       "    </tr>\n",
       "    <tr>\n",
       "      <th>2</th>\n",
       "      <td>Хочу вклад открыть под максимальную ставку</td>\n",
       "      <td>3</td>\n",
       "    </tr>\n",
       "    <tr>\n",
       "      <th>3</th>\n",
       "      <td>как я открыть могу открыть брокерский счет ?</td>\n",
       "      <td>3</td>\n",
       "    </tr>\n",
       "    <tr>\n",
       "      <th>4</th>\n",
       "      <td>как я открыть могу открыть брокерский счет ?</td>\n",
       "      <td>3</td>\n",
       "    </tr>\n",
       "  </tbody>\n",
       "</table>\n",
       "</div>"
      ],
      "text/plain": [
       "                                                 mes  score\n",
       "0    Ок. .. Пошел почитаю. .. С утром вас. .. Светит      3\n",
       "1  Хорошо, вклад хочу открыть под максимальную ст...      3\n",
       "2         Хочу вклад открыть под максимальную ставку      3\n",
       "3       как я открыть могу открыть брокерский счет ?      3\n",
       "4       как я открыть могу открыть брокерский счет ?      3"
      ]
     },
     "execution_count": 80,
     "metadata": {},
     "output_type": "execute_result"
    }
   ],
   "source": [
    "samples = pd.read_csv('samples_from_client_mes.csv', \n",
    "                      encoding='mac_cyrillic', \n",
    "                      delimiter=';', \n",
    "                      names=['mes', 'score'], \n",
    "                     skiprows=1)\n",
    "samples.score.fillna(value=3, inplace=True)\n",
    "samples.score.replace(to_replace={'полож':5, 'отриц':1, \"п\":5, \"о\":1}, inplace=True)\n",
    "samples.mes = samples.mes.str.replace('& amp, quo,', '')\n",
    "samples.head()"
   ]
  },
  {
   "cell_type": "markdown",
   "metadata": {},
   "source": [
    "Столбцы с бинарными метками (принадлежит классу или нет)"
   ]
  },
  {
   "cell_type": "code",
   "execution_count": 4,
   "metadata": {},
   "outputs": [],
   "source": [
    "samples['score_5_vs_all'] = samples.score == 5\n",
    "samples['score_1_vs_all'] = samples.score == 1"
   ]
  },
  {
   "cell_type": "code",
   "execution_count": null,
   "metadata": {},
   "outputs": [],
   "source": []
  },
  {
   "cell_type": "code",
   "execution_count": 5,
   "metadata": {},
   "outputs": [
    {
     "data": {
      "text/html": [
       "<div>\n",
       "<style scoped>\n",
       "    .dataframe tbody tr th:only-of-type {\n",
       "        vertical-align: middle;\n",
       "    }\n",
       "\n",
       "    .dataframe tbody tr th {\n",
       "        vertical-align: top;\n",
       "    }\n",
       "\n",
       "    .dataframe thead th {\n",
       "        text-align: right;\n",
       "    }\n",
       "</style>\n",
       "<table border=\"1\" class=\"dataframe\">\n",
       "  <thead>\n",
       "    <tr style=\"text-align: right;\">\n",
       "      <th></th>\n",
       "      <th>mes</th>\n",
       "      <th>score</th>\n",
       "      <th>score_5_vs_all</th>\n",
       "      <th>score_1_vs_all</th>\n",
       "    </tr>\n",
       "  </thead>\n",
       "  <tbody>\n",
       "    <tr>\n",
       "      <th>0</th>\n",
       "      <td>Ок. .. Пошел почитаю. .. С утром вас. .. Светит</td>\n",
       "      <td>3</td>\n",
       "      <td>False</td>\n",
       "      <td>False</td>\n",
       "    </tr>\n",
       "    <tr>\n",
       "      <th>1</th>\n",
       "      <td>Хорошо, вклад хочу открыть под максимальную ст...</td>\n",
       "      <td>3</td>\n",
       "      <td>False</td>\n",
       "      <td>False</td>\n",
       "    </tr>\n",
       "    <tr>\n",
       "      <th>2</th>\n",
       "      <td>Хочу вклад открыть под максимальную ставку</td>\n",
       "      <td>3</td>\n",
       "      <td>False</td>\n",
       "      <td>False</td>\n",
       "    </tr>\n",
       "    <tr>\n",
       "      <th>3</th>\n",
       "      <td>как я открыть могу открыть брокерский счет ?</td>\n",
       "      <td>3</td>\n",
       "      <td>False</td>\n",
       "      <td>False</td>\n",
       "    </tr>\n",
       "    <tr>\n",
       "      <th>4</th>\n",
       "      <td>как я открыть могу открыть брокерский счет ?</td>\n",
       "      <td>3</td>\n",
       "      <td>False</td>\n",
       "      <td>False</td>\n",
       "    </tr>\n",
       "  </tbody>\n",
       "</table>\n",
       "</div>"
      ],
      "text/plain": [
       "                                                 mes  score  score_5_vs_all  \\\n",
       "0    Ок. .. Пошел почитаю. .. С утром вас. .. Светит      3           False   \n",
       "1  Хорошо, вклад хочу открыть под максимальную ст...      3           False   \n",
       "2         Хочу вклад открыть под максимальную ставку      3           False   \n",
       "3       как я открыть могу открыть брокерский счет ?      3           False   \n",
       "4       как я открыть могу открыть брокерский счет ?      3           False   \n",
       "\n",
       "   score_1_vs_all  \n",
       "0           False  \n",
       "1           False  \n",
       "2           False  \n",
       "3           False  \n",
       "4           False  "
      ]
     },
     "execution_count": 5,
     "metadata": {},
     "output_type": "execute_result"
    }
   ],
   "source": [
    "samples.head()"
   ]
  },
  {
   "cell_type": "code",
   "execution_count": 6,
   "metadata": {},
   "outputs": [
    {
     "data": {
      "text/plain": [
       "3    14964\n",
       "5      637\n",
       "1       95\n",
       "Name: score, dtype: int64"
      ]
     },
     "execution_count": 6,
     "metadata": {},
     "output_type": "execute_result"
    }
   ],
   "source": [
    "samples.score.value_counts(dropna=False)"
   ]
  },
  {
   "cell_type": "markdown",
   "metadata": {},
   "source": [
    "Получим вероятности принадлежности к каждому из классов"
   ]
  },
  {
   "cell_type": "code",
   "execution_count": 7,
   "metadata": {},
   "outputs": [
    {
     "data": {
      "application/vnd.jupyter.widget-view+json": {
       "model_id": "8fb30388cdf04824a43b5761926ecc53",
       "version_major": 2,
       "version_minor": 0
      },
      "text/html": [
       "<p>Failed to display Jupyter Widget of type <code>HBox</code>.</p>\n",
       "<p>\n",
       "  If you're reading this message in the Jupyter Notebook or JupyterLab Notebook, it may mean\n",
       "  that the widgets JavaScript is still loading. If this message persists, it\n",
       "  likely means that the widgets JavaScript library is either not installed or\n",
       "  not enabled. See the <a href=\"https://ipywidgets.readthedocs.io/en/stable/user_install.html\">Jupyter\n",
       "  Widgets Documentation</a> for setup instructions.\n",
       "</p>\n",
       "<p>\n",
       "  If you're reading this message in another frontend (for example, a static\n",
       "  rendering on GitHub or <a href=\"https://nbviewer.jupyter.org/\">NBViewer</a>),\n",
       "  it may mean that your frontend doesn't currently support widgets.\n",
       "</p>\n"
      ],
      "text/plain": [
       "HBox(children=(IntProgress(value=1, bar_style='info', max=1), HTML(value='')))"
      ]
     },
     "metadata": {},
     "output_type": "display_data"
    },
    {
     "name": "stdout",
     "output_type": "stream",
     "text": [
      "\n"
     ]
    }
   ],
   "source": [
    "scores = []\n",
    "#num_samples = 15000\n",
    "source = 'foursquare.com'\n",
    "for mes in tqdm_notebook(grouper(samples['mes'].values, 2000)):\n",
    "    data = {'text':mes, 'source':source}\n",
    "    res = requests.post(url='http://0.0.0.0:5000/api/proba', data=data)\n",
    "    try:\n",
    "        score = res.json()['proba']\n",
    "        score = np.array(score)\n",
    "        scores.append(score)\n",
    "        #sentiments_fsq[i] = score\n",
    "    except:\n",
    "        print('fail')\n",
    "        continue\n",
    "scores_np = np.vstack(scores)"
   ]
  },
  {
   "cell_type": "markdown",
   "metadata": {},
   "source": [
    "Построим бинарный классификатор для метки 5 и посмотрим на f1 при различных порогах"
   ]
  },
  {
   "cell_type": "code",
   "execution_count": 9,
   "metadata": {},
   "outputs": [
    {
     "data": {
      "image/png": "[encoded data removed]",
      "text/plain": [
       "<matplotlib.figure.Figure at 0x1a146c83c8>"
      ]
     },
     "metadata": {},
     "output_type": "display_data"
    }
   ],
   "source": [
    "thresholds = arange(0.01, 1, 0.01)\n",
    "f1_scores = []\n",
    "for thr in thresholds:\n",
    "    is_5 = scores_np[:, 2] > thr\n",
    "    f1 = f1_score(samples.score_5_vs_all.values, is_5)\n",
    "    f1_scores.append(f1)\n",
    "    #print(thr, f1)\n",
    "plot(thresholds, f1_scores)\n",
    "best_t_5 = thresholds[argmax(f1_scores)]"
   ]
  },
  {
   "cell_type": "markdown",
   "metadata": {},
   "source": [
    "Аналогично для метки 1"
   ]
  },
  {
   "cell_type": "code",
   "execution_count": 10,
   "metadata": {},
   "outputs": [
    {
     "name": "stderr",
     "output_type": "stream",
     "text": [
      "/Users/ak/anaconda3/lib/python3.6/site-packages/sklearn/metrics/classification.py:1135: UndefinedMetricWarning: F-score is ill-defined and being set to 0.0 due to no predicted samples.\n",
      "  'precision', 'predicted', average, warn_for)\n"
     ]
    },
    {
     "data": {
      "image/png": "[encoded data removed]",
      "text/plain": [
       "<matplotlib.figure.Figure at 0x1a146c8ba8>"
      ]
     },
     "metadata": {},
     "output_type": "display_data"
    }
   ],
   "source": [
    "f1_scores = []\n",
    "for thr in thresholds:\n",
    "    is_1 = scores_np[:, 0] > thr\n",
    "    f1 = f1_score(samples.score_1_vs_all.values, is_1)\n",
    "    f1_scores.append(f1)\n",
    "    #print(thr, f1)\n",
    "plot(thresholds, f1_scores)\n",
    "best_t_1 = thresholds[argmax(f1_scores)]"
   ]
  },
  {
   "cell_type": "code",
   "execution_count": 11,
   "metadata": {},
   "outputs": [
    {
     "data": {
      "text/plain": [
       "(0.81, 0.81)"
      ]
     },
     "execution_count": 11,
     "metadata": {},
     "output_type": "execute_result"
    }
   ],
   "source": [
    "best_t_1, best_t_5"
   ]
  },
  {
   "cell_type": "code",
   "execution_count": 12,
   "metadata": {},
   "outputs": [
    {
     "data": {
      "text/plain": [
       "0.3351140022277832"
      ]
     },
     "execution_count": 12,
     "metadata": {},
     "output_type": "execute_result"
    }
   ],
   "source": [
    "scores_np.max(axis=1).min()"
   ]
  },
  {
   "cell_type": "markdown",
   "metadata": {},
   "source": [
    "Попробуем классифицировать по максимальной вероятности"
   ]
  },
  {
   "cell_type": "code",
   "execution_count": 13,
   "metadata": {},
   "outputs": [],
   "source": [
    "mapping = {0:1, 1:3, 2:5}\n",
    "am = argmax(scores_np, axis=1)\n",
    "am_score = [mapping[i] for i in am]"
   ]
  },
  {
   "cell_type": "code",
   "execution_count": 15,
   "metadata": {},
   "outputs": [
    {
     "data": {
      "text/plain": [
       "(0.7542686034658511, 0.42038268015147967)"
      ]
     },
     "execution_count": 15,
     "metadata": {},
     "output_type": "execute_result"
    }
   ],
   "source": [
    "accuracy_score(samples.score.values, am_score), f1_score(samples.score.values, am_score, average='macro')"
   ]
  },
  {
   "cell_type": "code",
   "execution_count": 39,
   "metadata": {},
   "outputs": [],
   "source": [
    "pos = samples[samples.score == 5]\n",
    "neg = samples[samples.score == 1]\n",
    "neut = samples[samples.score == 3]"
   ]
  },
  {
   "cell_type": "code",
   "execution_count": 20,
   "metadata": {
    "scrolled": true
   },
   "outputs": [
    {
     "data": {
      "application/vnd.jupyter.widget-view+json": {
       "model_id": "b408f5474ad34534ad94e887d0c87a45",
       "version_major": 2,
       "version_minor": 0
      },
      "text/html": [
       "<p>Failed to display Jupyter Widget of type <code>HBox</code>.</p>\n",
       "<p>\n",
       "  If you're reading this message in the Jupyter Notebook or JupyterLab Notebook, it may mean\n",
       "  that the widgets JavaScript is still loading. If this message persists, it\n",
       "  likely means that the widgets JavaScript library is either not installed or\n",
       "  not enabled. See the <a href=\"https://ipywidgets.readthedocs.io/en/stable/user_install.html\">Jupyter\n",
       "  Widgets Documentation</a> for setup instructions.\n",
       "</p>\n",
       "<p>\n",
       "  If you're reading this message in another frontend (for example, a static\n",
       "  rendering on GitHub or <a href=\"https://nbviewer.jupyter.org/\">NBViewer</a>),\n",
       "  it may mean that your frontend doesn't currently support widgets.\n",
       "</p>\n"
      ],
      "text/plain": [
       "HBox(children=(IntProgress(value=1, bar_style='info', max=1), HTML(value='')))"
      ]
     },
     "metadata": {},
     "output_type": "display_data"
    },
    {
     "name": "stdout",
     "output_type": "stream",
     "text": [
      "\n"
     ]
    }
   ],
   "source": [
    "scores = []\n",
    "source = 'foursquare.com'\n",
    "for mes in tqdm_notebook(grouper(samples['mes'].values, 100)):\n",
    "    data = {'text':mes, 'source':source}\n",
    "    res = requests.post(url='http://0.0.0.0:5000/api/proba', data=data)\n",
    "    try:\n",
    "        score = res.json()['proba']\n",
    "        score = np.array(score)\n",
    "        scores.append(score)\n",
    "        #sentiments_fsq[i] = score\n",
    "    except:\n",
    "        print('fail')\n",
    "        continue\n",
    "scores_np = np.vstack(scores)"
   ]
  },
  {
   "cell_type": "markdown",
   "metadata": {},
   "source": [
    "Получим вероятности каждой тональности для сообщений с позитивной тональностью"
   ]
  },
  {
   "cell_type": "code",
   "execution_count": 40,
   "metadata": {},
   "outputs": [
    {
     "data": {
      "application/vnd.jupyter.widget-view+json": {
       "model_id": "ab80d5b3c5794135a609af05469dc3e1",
       "version_major": 2,
       "version_minor": 0
      },
      "text/html": [
       "<p>Failed to display Jupyter Widget of type <code>HBox</code>.</p>\n",
       "<p>\n",
       "  If you're reading this message in the Jupyter Notebook or JupyterLab Notebook, it may mean\n",
       "  that the widgets JavaScript is still loading. If this message persists, it\n",
       "  likely means that the widgets JavaScript library is either not installed or\n",
       "  not enabled. See the <a href=\"https://ipywidgets.readthedocs.io/en/stable/user_install.html\">Jupyter\n",
       "  Widgets Documentation</a> for setup instructions.\n",
       "</p>\n",
       "<p>\n",
       "  If you're reading this message in another frontend (for example, a static\n",
       "  rendering on GitHub or <a href=\"https://nbviewer.jupyter.org/\">NBViewer</a>),\n",
       "  it may mean that your frontend doesn't currently support widgets.\n",
       "</p>\n"
      ],
      "text/plain": [
       "HBox(children=(IntProgress(value=1, bar_style='info', max=1), HTML(value='')))"
      ]
     },
     "metadata": {},
     "output_type": "display_data"
    },
    {
     "name": "stdout",
     "output_type": "stream",
     "text": [
      "\n"
     ]
    }
   ],
   "source": [
    "scores = []\n",
    "source = 'foursquare.com'\n",
    "for mes in tqdm_notebook(grouper(pos['mes'].values, 100)):\n",
    "    data = {'text':mes, 'source':source}\n",
    "    res = requests.post(url='http://0.0.0.0:5000/api/proba', data=data)\n",
    "    try:\n",
    "        score = res.json()['proba']\n",
    "        score = np.array(score)\n",
    "        scores.append(score)\n",
    "        # sentiments_fsq[i] = score\n",
    "    except:\n",
    "        print('fail')\n",
    "        continue\n",
    "scores_np = np.vstack(scores)"
   ]
  },
  {
   "cell_type": "markdown",
   "metadata": {},
   "source": [
    "Построим распределение вероятностей для каждой тональност"
   ]
  },
  {
   "cell_type": "code",
   "execution_count": 41,
   "metadata": {},
   "outputs": [
    {
     "data": {
      "text/plain": [
       "<matplotlib.legend.Legend at 0x1a1ef62c50>"
      ]
     },
     "execution_count": 41,
     "metadata": {},
     "output_type": "execute_result"
    },
    {
     "data": {
      "image/png": "[encoded data removed]",
      "text/plain": [
       "<matplotlib.figure.Figure at 0x1a1477d080>"
      ]
     },
     "metadata": {},
     "output_type": "display_data"
    }
   ],
   "source": [
    "plt.figure(figsize=(15,10))\n",
    "for i in range(scores_np.shape[1]):\n",
    "    hist(scores_np[:, i], alpha=0.5, bins=20)\n",
    "legend(['1', '3', '5'])"
   ]
  },
  {
   "cell_type": "markdown",
   "metadata": {},
   "source": [
    "Аналогично проделаем для сообщений с негативной тональностью"
   ]
  },
  {
   "cell_type": "code",
   "execution_count": 42,
   "metadata": {},
   "outputs": [
    {
     "data": {
      "application/vnd.jupyter.widget-view+json": {
       "model_id": "b45f7304e5c540ceab7307cd79bc5294",
       "version_major": 2,
       "version_minor": 0
      },
      "text/html": [
       "<p>Failed to display Jupyter Widget of type <code>HBox</code>.</p>\n",
       "<p>\n",
       "  If you're reading this message in the Jupyter Notebook or JupyterLab Notebook, it may mean\n",
       "  that the widgets JavaScript is still loading. If this message persists, it\n",
       "  likely means that the widgets JavaScript library is either not installed or\n",
       "  not enabled. See the <a href=\"https://ipywidgets.readthedocs.io/en/stable/user_install.html\">Jupyter\n",
       "  Widgets Documentation</a> for setup instructions.\n",
       "</p>\n",
       "<p>\n",
       "  If you're reading this message in another frontend (for example, a static\n",
       "  rendering on GitHub or <a href=\"https://nbviewer.jupyter.org/\">NBViewer</a>),\n",
       "  it may mean that your frontend doesn't currently support widgets.\n",
       "</p>\n"
      ],
      "text/plain": [
       "HBox(children=(IntProgress(value=1, bar_style='info', max=1), HTML(value='')))"
      ]
     },
     "metadata": {},
     "output_type": "display_data"
    },
    {
     "name": "stdout",
     "output_type": "stream",
     "text": [
      "\n"
     ]
    },
    {
     "data": {
      "text/plain": [
       "<matplotlib.legend.Legend at 0x1a146e2320>"
      ]
     },
     "execution_count": 42,
     "metadata": {},
     "output_type": "execute_result"
    },
    {
     "data": {
      "image/png": "[encoded data removed]",
      "text/plain": [
       "<matplotlib.figure.Figure at 0x10e860438>"
      ]
     },
     "metadata": {},
     "output_type": "display_data"
    }
   ],
   "source": [
    "scores = []\n",
    "source = 'foursquare.com'\n",
    "for mes in tqdm_notebook(grouper(neg['mes'].values, 100)):\n",
    "    data = {'text':mes, 'source':source}\n",
    "    res = requests.post(url='http://0.0.0.0:5000/api/proba', data=data)\n",
    "    try:\n",
    "        score = res.json()['proba']\n",
    "        score = np.array(score)\n",
    "        scores.append(score)\n",
    "        #sentiments_fsq[i] = score\n",
    "    except:\n",
    "        print('fail')\n",
    "        continue\n",
    "scores_np = np.vstack(scores)\n",
    "plt.figure(figsize=(8,5))\n",
    "for i in range(scores_np.shape[1]):\n",
    "    hist(scores_np[:, i], alpha=0.5, bins=10)\n",
    "legend(['1', '3', '5'])"
   ]
  },
  {
   "cell_type": "code",
   "execution_count": 43,
   "metadata": {},
   "outputs": [
    {
     "data": {
      "text/plain": [
       "<matplotlib.legend.Legend at 0x10d5c19e8>"
      ]
     },
     "execution_count": 43,
     "metadata": {},
     "output_type": "execute_result"
    },
    {
     "data": {
      "image/png": "[encoded data removed]",
      "text/plain": [
       "<matplotlib.figure.Figure at 0x1a1486b160>"
      ]
     },
     "metadata": {},
     "output_type": "display_data"
    }
   ],
   "source": [
    "hist(scores_np[:, 0], alpha=0.5, bins=10)\n",
    "hist(scores_np[:, 1], alpha=0.5, bins=10)\n",
    "legend(['1','3'])"
   ]
  },
  {
   "cell_type": "code",
   "execution_count": 46,
   "metadata": {
    "scrolled": true
   },
   "outputs": [
    {
     "data": {
      "text/html": [
       "<div>\n",
       "<style scoped>\n",
       "    .dataframe tbody tr th:only-of-type {\n",
       "        vertical-align: middle;\n",
       "    }\n",
       "\n",
       "    .dataframe tbody tr th {\n",
       "        vertical-align: top;\n",
       "    }\n",
       "\n",
       "    .dataframe thead th {\n",
       "        text-align: right;\n",
       "    }\n",
       "</style>\n",
       "<table border=\"1\" class=\"dataframe\">\n",
       "  <thead>\n",
       "    <tr style=\"text-align: right;\">\n",
       "      <th></th>\n",
       "      <th>mes</th>\n",
       "      <th>score</th>\n",
       "      <th>score_5_vs_all</th>\n",
       "      <th>score_1_vs_all</th>\n",
       "    </tr>\n",
       "  </thead>\n",
       "  <tbody>\n",
       "    <tr>\n",
       "      <th>24</th>\n",
       "      <td>Отлично. Потерял карту. А пин-код изменится ?</td>\n",
       "      <td>1</td>\n",
       "      <td>False</td>\n",
       "      <td>True</td>\n",
       "    </tr>\n",
       "    <tr>\n",
       "      <th>456</th>\n",
       "      <td>Как плохо, а они тогда как быстро сгорают ?</td>\n",
       "      <td>1</td>\n",
       "      <td>False</td>\n",
       "      <td>True</td>\n",
       "    </tr>\n",
       "    <tr>\n",
       "      <th>888</th>\n",
       "      <td>не один из предложенных вариантов не подошёл</td>\n",
       "      <td>1</td>\n",
       "      <td>False</td>\n",
       "      <td>True</td>\n",
       "    </tr>\n",
       "    <tr>\n",
       "      <th>899</th>\n",
       "      <td>Не могу совершить покупки в интернете через карту</td>\n",
       "      <td>1</td>\n",
       "      <td>False</td>\n",
       "      <td>True</td>\n",
       "    </tr>\n",
       "    <tr>\n",
       "      <th>1067</th>\n",
       "      <td>А потом вы берете и отказываете, где логика ?</td>\n",
       "      <td>1</td>\n",
       "      <td>False</td>\n",
       "      <td>True</td>\n",
       "    </tr>\n",
       "    <tr>\n",
       "      <th>2275</th>\n",
       "      <td>У меня банкомат карту захватил. Что мне делать</td>\n",
       "      <td>1</td>\n",
       "      <td>False</td>\n",
       "      <td>True</td>\n",
       "    </tr>\n",
       "    <tr>\n",
       "      <th>2519</th>\n",
       "      <td>Жаль. .. а его можно как-то получить ? ) )</td>\n",
       "      <td>1</td>\n",
       "      <td>False</td>\n",
       "      <td>True</td>\n",
       "    </tr>\n",
       "    <tr>\n",
       "      <th>2812</th>\n",
       "      <td>Отказал мне предоставить личный номер и нес чушь</td>\n",
       "      <td>1</td>\n",
       "      <td>False</td>\n",
       "      <td>True</td>\n",
       "    </tr>\n",
       "    <tr>\n",
       "      <th>3133</th>\n",
       "      <td>Спасибо, за зря потраченное время. Досвиданье</td>\n",
       "      <td>1</td>\n",
       "      <td>False</td>\n",
       "      <td>True</td>\n",
       "    </tr>\n",
       "    <tr>\n",
       "      <th>3284</th>\n",
       "      <td>Я # Name заявку для вашего приложения и нет от...</td>\n",
       "      <td>1</td>\n",
       "      <td>False</td>\n",
       "      <td>True</td>\n",
       "    </tr>\n",
       "    <tr>\n",
       "      <th>3285</th>\n",
       "      <td>до сих пор мне не позвонили и не дали ответ</td>\n",
       "      <td>1</td>\n",
       "      <td>False</td>\n",
       "      <td>True</td>\n",
       "    </tr>\n",
       "    <tr>\n",
       "      <th>3286</th>\n",
       "      <td>зачем вводить человека в заблуждение ? ? ?</td>\n",
       "      <td>1</td>\n",
       "      <td>False</td>\n",
       "      <td>True</td>\n",
       "    </tr>\n",
       "    <tr>\n",
       "      <th>3308</th>\n",
       "      <td>не так не пойдёт чат - отстой я лучше перезвоню .</td>\n",
       "      <td>1</td>\n",
       "      <td>False</td>\n",
       "      <td>True</td>\n",
       "    </tr>\n",
       "    <tr>\n",
       "      <th>3361</th>\n",
       "      <td>Выдаёт ошибку и говорит, что нет полномочий</td>\n",
       "      <td>1</td>\n",
       "      <td>False</td>\n",
       "      <td>True</td>\n",
       "    </tr>\n",
       "    <tr>\n",
       "      <th>3454</th>\n",
       "      <td>Вместо нечего внятного я не чего понял ! !</td>\n",
       "      <td>1</td>\n",
       "      <td>False</td>\n",
       "      <td>True</td>\n",
       "    </tr>\n",
       "    <tr>\n",
       "      <th>3503</th>\n",
       "      <td>на сайте не получилось оформить нужную сумму</td>\n",
       "      <td>1</td>\n",
       "      <td>False</td>\n",
       "      <td>True</td>\n",
       "    </tr>\n",
       "    <tr>\n",
       "      <th>3770</th>\n",
       "      <td>Я выражаюсь очень корректно уважаемая ! ! ! ! .</td>\n",
       "      <td>1</td>\n",
       "      <td>False</td>\n",
       "      <td>True</td>\n",
       "    </tr>\n",
       "    <tr>\n",
       "      <th>4698</th>\n",
       "      <td>МДА, нововведение ввели, а Сбербанк все тот же .</td>\n",
       "      <td>1</td>\n",
       "      <td>False</td>\n",
       "      <td>True</td>\n",
       "    </tr>\n",
       "    <tr>\n",
       "      <th>5377</th>\n",
       "      <td>спасибо за ответ, буду искать другой банк</td>\n",
       "      <td>1</td>\n",
       "      <td>False</td>\n",
       "      <td>True</td>\n",
       "    </tr>\n",
       "    <tr>\n",
       "      <th>5572</th>\n",
       "      <td>Блин, то есть пролонгация не сохранится ? (</td>\n",
       "      <td>1</td>\n",
       "      <td>False</td>\n",
       "      <td>True</td>\n",
       "    </tr>\n",
       "    <tr>\n",
       "      <th>5854</th>\n",
       "      <td>Хотел сказать что сайт гавно. кнопку хуй найдешь</td>\n",
       "      <td>1</td>\n",
       "      <td>False</td>\n",
       "      <td>True</td>\n",
       "    </tr>\n",
       "    <tr>\n",
       "      <th>6119</th>\n",
       "      <td>Так получилось что кредитная история плохая</td>\n",
       "      <td>1</td>\n",
       "      <td>False</td>\n",
       "      <td>True</td>\n",
       "    </tr>\n",
       "    <tr>\n",
       "      <th>6147</th>\n",
       "      <td>Так я и подавал на меньше сумму и то отказали</td>\n",
       "      <td>1</td>\n",
       "      <td>False</td>\n",
       "      <td>True</td>\n",
       "    </tr>\n",
       "    <tr>\n",
       "      <th>6172</th>\n",
       "      <td>Спасибо # Name но очень большой процент .</td>\n",
       "      <td>1</td>\n",
       "      <td>False</td>\n",
       "      <td>True</td>\n",
       "    </tr>\n",
       "    <tr>\n",
       "      <th>6179</th>\n",
       "      <td>Спасибо а почему Крымчанам отказывают ? ? ? ?</td>\n",
       "      <td>1</td>\n",
       "      <td>False</td>\n",
       "      <td>True</td>\n",
       "    </tr>\n",
       "    <tr>\n",
       "      <th>6844</th>\n",
       "      <td>Как будто я миллионы беру. Странно. Очень странно</td>\n",
       "      <td>1</td>\n",
       "      <td>False</td>\n",
       "      <td>True</td>\n",
       "    </tr>\n",
       "    <tr>\n",
       "      <th>6876</th>\n",
       "      <td>Спасибо. А мне в СПб отказали город Зеленогорск</td>\n",
       "      <td>1</td>\n",
       "      <td>False</td>\n",
       "      <td>True</td>\n",
       "    </tr>\n",
       "    <tr>\n",
       "      <th>6911</th>\n",
       "      <td>Спасибо, при такой ставке останусь лучше в АИЖК</td>\n",
       "      <td>1</td>\n",
       "      <td>False</td>\n",
       "      <td>True</td>\n",
       "    </tr>\n",
       "    <tr>\n",
       "      <th>7181</th>\n",
       "      <td>значит вы не отнеслись серьезно к вопросу .</td>\n",
       "      <td>1</td>\n",
       "      <td>False</td>\n",
       "      <td>True</td>\n",
       "    </tr>\n",
       "    <tr>\n",
       "      <th>7182</th>\n",
       "      <td>зачем тогда в начале написали про максимум .</td>\n",
       "      <td>1</td>\n",
       "      <td>False</td>\n",
       "      <td>True</td>\n",
       "    </tr>\n",
       "    <tr>\n",
       "      <th>7183</th>\n",
       "      <td>вы можете ответить на написанный вопрос вначале ?</td>\n",
       "      <td>1</td>\n",
       "      <td>False</td>\n",
       "      <td>True</td>\n",
       "    </tr>\n",
       "    <tr>\n",
       "      <th>7312</th>\n",
       "      <td>Только сумма все ровно минимум тыс ( ( ( (</td>\n",
       "      <td>1</td>\n",
       "      <td>False</td>\n",
       "      <td>True</td>\n",
       "    </tr>\n",
       "    <tr>\n",
       "      <th>7603</th>\n",
       "      <td>К сожалению нет. Но со следующего месяца буду</td>\n",
       "      <td>1</td>\n",
       "      <td>False</td>\n",
       "      <td>True</td>\n",
       "    </tr>\n",
       "    <tr>\n",
       "      <th>7719</th>\n",
       "      <td>К сожалению, вы не сможете мне помочь ? Спасибо .</td>\n",
       "      <td>1</td>\n",
       "      <td>False</td>\n",
       "      <td>True</td>\n",
       "    </tr>\n",
       "    <tr>\n",
       "      <th>7924</th>\n",
       "      <td>Уже чувствую как ребята из центра Э едут за мной</td>\n",
       "      <td>1</td>\n",
       "      <td>False</td>\n",
       "      <td>True</td>\n",
       "    </tr>\n",
       "    <tr>\n",
       "      <th>8003</th>\n",
       "      <td>Да я пробовал у меня не получается не могу зайти</td>\n",
       "      <td>1</td>\n",
       "      <td>False</td>\n",
       "      <td>True</td>\n",
       "    </tr>\n",
       "    <tr>\n",
       "      <th>8159</th>\n",
       "      <td>Здравствуйте, не приходит одноразовый пароль .</td>\n",
       "      <td>1</td>\n",
       "      <td>False</td>\n",
       "      <td>True</td>\n",
       "    </tr>\n",
       "    <tr>\n",
       "      <th>8362</th>\n",
       "      <td>Спасибо. .. с такими ставками не интересует</td>\n",
       "      <td>1</td>\n",
       "      <td>False</td>\n",
       "      <td>True</td>\n",
       "    </tr>\n",
       "    <tr>\n",
       "      <th>8550</th>\n",
       "      <td>перешел по ссылке, но там нет этого перечня</td>\n",
       "      <td>1</td>\n",
       "      <td>False</td>\n",
       "      <td>True</td>\n",
       "    </tr>\n",
       "    <tr>\n",
       "      <th>8614</th>\n",
       "      <td># Surname явно не справляется. Понял, спасибо .</td>\n",
       "      <td>1</td>\n",
       "      <td>False</td>\n",
       "      <td>True</td>\n",
       "    </tr>\n",
       "    <tr>\n",
       "      <th>8655</th>\n",
       "      <td>Подал заявку на онлайн кредит не могу отправить</td>\n",
       "      <td>1</td>\n",
       "      <td>False</td>\n",
       "      <td>True</td>\n",
       "    </tr>\n",
       "    <tr>\n",
       "      <th>9224</th>\n",
       "      <td>Попугайка, норм у вас отношение к клиентам</td>\n",
       "      <td>1</td>\n",
       "      <td>False</td>\n",
       "      <td>True</td>\n",
       "    </tr>\n",
       "    <tr>\n",
       "      <th>9678</th>\n",
       "      <td>Я у вас спрашиваю, вы можете ответить ? ?</td>\n",
       "      <td>1</td>\n",
       "      <td>False</td>\n",
       "      <td>True</td>\n",
       "    </tr>\n",
       "    <tr>\n",
       "      <th>10072</th>\n",
       "      <td>Да но моя пенсия. маленькая для получения кредита</td>\n",
       "      <td>1</td>\n",
       "      <td>False</td>\n",
       "      <td>True</td>\n",
       "    </tr>\n",
       "    <tr>\n",
       "      <th>10135</th>\n",
       "      <td>Что то не пойму как это через браузер заходить</td>\n",
       "      <td>1</td>\n",
       "      <td>False</td>\n",
       "      <td>True</td>\n",
       "    </tr>\n",
       "    <tr>\n",
       "      <th>10136</th>\n",
       "      <td>и Че вот так каждый раз регестрироватся заново</td>\n",
       "      <td>1</td>\n",
       "      <td>False</td>\n",
       "      <td>True</td>\n",
       "    </tr>\n",
       "    <tr>\n",
       "      <th>10226</th>\n",
       "      <td>Чтоб # Name деньги ? ? ? Идите НАХУЙ ! ! !</td>\n",
       "      <td>1</td>\n",
       "      <td>False</td>\n",
       "      <td>True</td>\n",
       "    </tr>\n",
       "    <tr>\n",
       "      <th>10270</th>\n",
       "      <td>Спасибо, но думаю мне откажут, как всегда</td>\n",
       "      <td>1</td>\n",
       "      <td>False</td>\n",
       "      <td>True</td>\n",
       "    </tr>\n",
       "    <tr>\n",
       "      <th>10297</th>\n",
       "      <td>Минус это за дизайн карты сняли # num рублей</td>\n",
       "      <td>1</td>\n",
       "      <td>False</td>\n",
       "      <td>True</td>\n",
       "    </tr>\n",
       "    <tr>\n",
       "      <th>10403</th>\n",
       "      <td>у меня на андроиде слетел Сбербанк онлайн</td>\n",
       "      <td>1</td>\n",
       "      <td>False</td>\n",
       "      <td>True</td>\n",
       "    </tr>\n",
       "    <tr>\n",
       "      <th>10420</th>\n",
       "      <td>Понятно неработающим пенсионерам не дают кредиты</td>\n",
       "      <td>1</td>\n",
       "      <td>False</td>\n",
       "      <td>True</td>\n",
       "    </tr>\n",
       "    <tr>\n",
       "      <th>10543</th>\n",
       "      <td>Это воздух за который я не хочу платить спасибо</td>\n",
       "      <td>1</td>\n",
       "      <td>False</td>\n",
       "      <td>True</td>\n",
       "    </tr>\n",
       "    <tr>\n",
       "      <th>10578</th>\n",
       "      <td>Не могу продать серебро в Сбербанк онлайн</td>\n",
       "      <td>1</td>\n",
       "      <td>False</td>\n",
       "      <td>True</td>\n",
       "    </tr>\n",
       "    <tr>\n",
       "      <th>10786</th>\n",
       "      <td>Я не куда не переходила !</td>\n",
       "      <td>1</td>\n",
       "      <td>False</td>\n",
       "      <td>True</td>\n",
       "    </tr>\n",
       "    <tr>\n",
       "      <th>10787</th>\n",
       "      <td>Я ничего не заключала !</td>\n",
       "      <td>1</td>\n",
       "      <td>False</td>\n",
       "      <td>True</td>\n",
       "    </tr>\n",
       "    <tr>\n",
       "      <th>10798</th>\n",
       "      <td>я думал что он бесплатный</td>\n",
       "      <td>1</td>\n",
       "      <td>False</td>\n",
       "      <td>True</td>\n",
       "    </tr>\n",
       "    <tr>\n",
       "      <th>10812</th>\n",
       "      <td>Вы меня расстроили ( ( (</td>\n",
       "      <td>1</td>\n",
       "      <td>False</td>\n",
       "      <td>True</td>\n",
       "    </tr>\n",
       "    <tr>\n",
       "      <th>10829</th>\n",
       "      <td>Ну жалко, что не известна</td>\n",
       "      <td>1</td>\n",
       "      <td>False</td>\n",
       "      <td>True</td>\n",
       "    </tr>\n",
       "    <tr>\n",
       "      <th>10910</th>\n",
       "      <td>Жаль, посмотрю хорошо</td>\n",
       "      <td>1</td>\n",
       "      <td>False</td>\n",
       "      <td>True</td>\n",
       "    </tr>\n",
       "    <tr>\n",
       "      <th>10915</th>\n",
       "      <td>Очень долго ждать вас</td>\n",
       "      <td>1</td>\n",
       "      <td>False</td>\n",
       "      <td>True</td>\n",
       "    </tr>\n",
       "  </tbody>\n",
       "</table>\n",
       "</div>"
      ],
      "text/plain": [
       "                                                     mes  score  \\\n",
       "24         Отлично. Потерял карту. А пин-код изменится ?      1   \n",
       "456          Как плохо, а они тогда как быстро сгорают ?      1   \n",
       "888         не один из предложенных вариантов не подошёл      1   \n",
       "899    Не могу совершить покупки в интернете через карту      1   \n",
       "1067       А потом вы берете и отказываете, где логика ?      1   \n",
       "2275      У меня банкомат карту захватил. Что мне делать      1   \n",
       "2519          Жаль. .. а его можно как-то получить ? ) )      1   \n",
       "2812    Отказал мне предоставить личный номер и нес чушь      1   \n",
       "3133       Спасибо, за зря потраченное время. Досвиданье      1   \n",
       "3284   Я # Name заявку для вашего приложения и нет от...      1   \n",
       "3285         до сих пор мне не позвонили и не дали ответ      1   \n",
       "3286          зачем вводить человека в заблуждение ? ? ?      1   \n",
       "3308   не так не пойдёт чат - отстой я лучше перезвоню .      1   \n",
       "3361         Выдаёт ошибку и говорит, что нет полномочий      1   \n",
       "3454          Вместо нечего внятного я не чего понял ! !      1   \n",
       "3503        на сайте не получилось оформить нужную сумму      1   \n",
       "3770     Я выражаюсь очень корректно уважаемая ! ! ! ! .      1   \n",
       "4698    МДА, нововведение ввели, а Сбербанк все тот же .      1   \n",
       "5377           спасибо за ответ, буду искать другой банк      1   \n",
       "5572         Блин, то есть пролонгация не сохранится ? (      1   \n",
       "5854    Хотел сказать что сайт гавно. кнопку хуй найдешь      1   \n",
       "6119         Так получилось что кредитная история плохая      1   \n",
       "6147       Так я и подавал на меньше сумму и то отказали      1   \n",
       "6172           Спасибо # Name но очень большой процент .      1   \n",
       "6179       Спасибо а почему Крымчанам отказывают ? ? ? ?      1   \n",
       "6844   Как будто я миллионы беру. Странно. Очень странно      1   \n",
       "6876     Спасибо. А мне в СПб отказали город Зеленогорск      1   \n",
       "6911     Спасибо, при такой ставке останусь лучше в АИЖК      1   \n",
       "7181         значит вы не отнеслись серьезно к вопросу .      1   \n",
       "7182        зачем тогда в начале написали про максимум .      1   \n",
       "7183   вы можете ответить на написанный вопрос вначале ?      1   \n",
       "7312          Только сумма все ровно минимум тыс ( ( ( (      1   \n",
       "7603       К сожалению нет. Но со следующего месяца буду      1   \n",
       "7719   К сожалению, вы не сможете мне помочь ? Спасибо .      1   \n",
       "7924    Уже чувствую как ребята из центра Э едут за мной      1   \n",
       "8003    Да я пробовал у меня не получается не могу зайти      1   \n",
       "8159      Здравствуйте, не приходит одноразовый пароль .      1   \n",
       "8362         Спасибо. .. с такими ставками не интересует      1   \n",
       "8550         перешел по ссылке, но там нет этого перечня      1   \n",
       "8614     # Surname явно не справляется. Понял, спасибо .      1   \n",
       "8655     Подал заявку на онлайн кредит не могу отправить      1   \n",
       "9224          Попугайка, норм у вас отношение к клиентам      1   \n",
       "9678           Я у вас спрашиваю, вы можете ответить ? ?      1   \n",
       "10072  Да но моя пенсия. маленькая для получения кредита      1   \n",
       "10135     Что то не пойму как это через браузер заходить      1   \n",
       "10136     и Че вот так каждый раз регестрироватся заново      1   \n",
       "10226         Чтоб # Name деньги ? ? ? Идите НАХУЙ ! ! !      1   \n",
       "10270          Спасибо, но думаю мне откажут, как всегда      1   \n",
       "10297       Минус это за дизайн карты сняли # num рублей      1   \n",
       "10403          у меня на андроиде слетел Сбербанк онлайн      1   \n",
       "10420   Понятно неработающим пенсионерам не дают кредиты      1   \n",
       "10543    Это воздух за который я не хочу платить спасибо      1   \n",
       "10578          Не могу продать серебро в Сбербанк онлайн      1   \n",
       "10786                          Я не куда не переходила !      1   \n",
       "10787                            Я ничего не заключала !      1   \n",
       "10798                          я думал что он бесплатный      1   \n",
       "10812                           Вы меня расстроили ( ( (      1   \n",
       "10829                          Ну жалко, что не известна      1   \n",
       "10910                              Жаль, посмотрю хорошо      1   \n",
       "10915                              Очень долго ждать вас      1   \n",
       "\n",
       "       score_5_vs_all  score_1_vs_all  \n",
       "24              False            True  \n",
       "456             False            True  \n",
       "888             False            True  \n",
       "899             False            True  \n",
       "1067            False            True  \n",
       "2275            False            True  \n",
       "2519            False            True  \n",
       "2812            False            True  \n",
       "3133            False            True  \n",
       "3284            False            True  \n",
       "3285            False            True  \n",
       "3286            False            True  \n",
       "3308            False            True  \n",
       "3361            False            True  \n",
       "3454            False            True  \n",
       "3503            False            True  \n",
       "3770            False            True  \n",
       "4698            False            True  \n",
       "5377            False            True  \n",
       "5572            False            True  \n",
       "5854            False            True  \n",
       "6119            False            True  \n",
       "6147            False            True  \n",
       "6172            False            True  \n",
       "6179            False            True  \n",
       "6844            False            True  \n",
       "6876            False            True  \n",
       "6911            False            True  \n",
       "7181            False            True  \n",
       "7182            False            True  \n",
       "7183            False            True  \n",
       "7312            False            True  \n",
       "7603            False            True  \n",
       "7719            False            True  \n",
       "7924            False            True  \n",
       "8003            False            True  \n",
       "8159            False            True  \n",
       "8362            False            True  \n",
       "8550            False            True  \n",
       "8614            False            True  \n",
       "8655            False            True  \n",
       "9224            False            True  \n",
       "9678            False            True  \n",
       "10072           False            True  \n",
       "10135           False            True  \n",
       "10136           False            True  \n",
       "10226           False            True  \n",
       "10270           False            True  \n",
       "10297           False            True  \n",
       "10403           False            True  \n",
       "10420           False            True  \n",
       "10543           False            True  \n",
       "10578           False            True  \n",
       "10786           False            True  \n",
       "10787           False            True  \n",
       "10798           False            True  \n",
       "10812           False            True  \n",
       "10829           False            True  \n",
       "10910           False            True  \n",
       "10915           False            True  "
      ]
     },
     "execution_count": 46,
     "metadata": {},
     "output_type": "execute_result"
    }
   ],
   "source": [
    "neg.head(60)"
   ]
  },
  {
   "cell_type": "code",
   "execution_count": 45,
   "metadata": {},
   "outputs": [
    {
     "data": {
      "application/vnd.jupyter.widget-view+json": {
       "model_id": "4acf6962f9be4f099ef49cb89d557777",
       "version_major": 2,
       "version_minor": 0
      },
      "text/html": [
       "<p>Failed to display Jupyter Widget of type <code>HBox</code>.</p>\n",
       "<p>\n",
       "  If you're reading this message in the Jupyter Notebook or JupyterLab Notebook, it may mean\n",
       "  that the widgets JavaScript is still loading. If this message persists, it\n",
       "  likely means that the widgets JavaScript library is either not installed or\n",
       "  not enabled. See the <a href=\"https://ipywidgets.readthedocs.io/en/stable/user_install.html\">Jupyter\n",
       "  Widgets Documentation</a> for setup instructions.\n",
       "</p>\n",
       "<p>\n",
       "  If you're reading this message in another frontend (for example, a static\n",
       "  rendering on GitHub or <a href=\"https://nbviewer.jupyter.org/\">NBViewer</a>),\n",
       "  it may mean that your frontend doesn't currently support widgets.\n",
       "</p>\n"
      ],
      "text/plain": [
       "HBox(children=(IntProgress(value=1, bar_style='info', max=1), HTML(value='')))"
      ]
     },
     "metadata": {},
     "output_type": "display_data"
    },
    {
     "name": "stdout",
     "output_type": "stream",
     "text": [
      "\n"
     ]
    },
    {
     "data": {
      "text/plain": [
       "<matplotlib.legend.Legend at 0x1a14863240>"
      ]
     },
     "execution_count": 45,
     "metadata": {},
     "output_type": "execute_result"
    },
    {
     "data": {
      "image/png": "[encoded data removed]",
      "text/plain": [
       "<matplotlib.figure.Figure at 0x1a14daa550>"
      ]
     },
     "metadata": {},
     "output_type": "display_data"
    }
   ],
   "source": [
    "scores = []\n",
    "source = 'foursquare.com'\n",
    "for mes in tqdm_notebook(grouper(neut['mes'].values, 1000)):\n",
    "    data = {'text':mes, 'source':source}\n",
    "    res = requests.post(url='http://0.0.0.0:5000/api/proba', data=data)\n",
    "    try:\n",
    "        score = res.json()['proba']\n",
    "        score = np.array(score)\n",
    "        scores.append(score)\n",
    "        #sentiments_fsq[i] = score\n",
    "    except:\n",
    "        print('fail')\n",
    "        continue\n",
    "scores_np = np.vstack(scores)\n",
    "plt.figure(figsize=(8,5))\n",
    "for i in range(scores_np.shape[1]):\n",
    "    hist(scores_np[:, i], alpha=0.5, bins=10)\n",
    "legend(['negative', 'neutral', 'positive'])"
   ]
  },
  {
   "cell_type": "code",
   "execution_count": 181,
   "metadata": {},
   "outputs": [],
   "source": [
    "scores_np = np.vstack(scores)"
   ]
  },
  {
   "cell_type": "code",
   "execution_count": 153,
   "metadata": {},
   "outputs": [
    {
     "name": "stderr",
     "output_type": "stream",
     "text": [
      "/Users/ak/anaconda3/lib/python3.6/site-packages/sklearn/metrics/classification.py:1137: UndefinedMetricWarning: F-score is ill-defined and being set to 0.0 in labels with no true samples.\n",
      "  'recall', 'true', average, warn_for)\n"
     ]
    },
    {
     "data": {
      "text/plain": [
       "(0.5232198142414861, array([0.        , 0.        , 0.68699187]))"
      ]
     },
     "execution_count": 153,
     "metadata": {},
     "output_type": "execute_result"
    }
   ],
   "source": [
    "y_true = ones_like(scores) * 5\n",
    "accuracy_score(y_true, scores), f1_score(y_true, scores, average=None)"
   ]
  },
  {
   "cell_type": "code",
   "execution_count": 90,
   "metadata": {},
   "outputs": [],
   "source": [
    "texts = ['Спасибо', 'пожалуйста', 'отстой']\n",
    "source = 'foursquare.com'\n",
    "#data = [{'text':t, 'source':source} for t in texts]\n",
    "data = {'text':texts, 'source':source}"
   ]
  },
  {
   "cell_type": "code",
   "execution_count": 109,
   "metadata": {},
   "outputs": [],
   "source": [
    "df.dropna(inplace=True)\n",
    "df.drop_duplicates(subset=['mes'], inplace=True)"
   ]
  },
  {
   "cell_type": "code",
   "execution_count": 119,
   "metadata": {},
   "outputs": [
    {
     "data": {
      "application/vnd.jupyter.widget-view+json": {
       "model_id": "5615381ce70f4131ab8e19151b05aff9",
       "version_major": 2,
       "version_minor": 0
      },
      "text/html": [
       "<p>Failed to display Jupyter Widget of type <code>HBox</code>.</p>\n",
       "<p>\n",
       "  If you're reading this message in the Jupyter Notebook or JupyterLab Notebook, it may mean\n",
       "  that the widgets JavaScript is still loading. If this message persists, it\n",
       "  likely means that the widgets JavaScript library is either not installed or\n",
       "  not enabled. See the <a href=\"https://ipywidgets.readthedocs.io/en/stable/user_install.html\">Jupyter\n",
       "  Widgets Documentation</a> for setup instructions.\n",
       "</p>\n",
       "<p>\n",
       "  If you're reading this message in another frontend (for example, a static\n",
       "  rendering on GitHub or <a href=\"https://nbviewer.jupyter.org/\">NBViewer</a>),\n",
       "  it may mean that your frontend doesn't currently support widgets.\n",
       "</p>\n"
      ],
      "text/plain": [
       "HBox(children=(IntProgress(value=1, bar_style='info', max=1), HTML(value='')))"
      ]
     },
     "metadata": {},
     "output_type": "display_data"
    },
    {
     "name": "stdout",
     "output_type": "stream",
     "text": [
      "\n"
     ]
    },
    {
     "name": "stderr",
     "output_type": "stream",
     "text": [
      "Exception in thread Thread-11:\n",
      "Traceback (most recent call last):\n",
      "  File \"/Users/ak/anaconda3/lib/python3.6/threading.py\", line 916, in _bootstrap_inner\n",
      "    self.run()\n",
      "  File \"/Users/ak/anaconda3/lib/python3.6/site-packages/tqdm/_tqdm.py\", line 148, in run\n",
      "    for instance in self.tqdm_cls._instances:\n",
      "  File \"/Users/ak/anaconda3/lib/python3.6/_weakrefset.py\", line 60, in __iter__\n",
      "    for itemref in self.data:\n",
      "RuntimeError: Set changed size during iteration\n",
      "\n"
     ]
    },
    {
     "name": "stdout",
     "output_type": "stream",
     "text": [
      "\n"
     ]
    },
    {
     "ename": "KeyboardInterrupt",
     "evalue": "",
     "output_type": "error",
     "traceback": [
      "\u001b[0;31m---------------------------------------------------------------------------\u001b[0m",
      "\u001b[0;31mTypeError\u001b[0m                                 Traceback (most recent call last)",
      "\u001b[0;32m~/anaconda3/lib/python3.6/site-packages/urllib3/connectionpool.py\u001b[0m in \u001b[0;36m_make_request\u001b[0;34m(self, conn, method, url, timeout, chunked, **httplib_request_kw)\u001b[0m\n\u001b[1;32m    379\u001b[0m             \u001b[0;32mtry\u001b[0m\u001b[0;34m:\u001b[0m  \u001b[0;31m# Python 2.7, use buffering of HTTP responses\u001b[0m\u001b[0;34m\u001b[0m\u001b[0m\n\u001b[0;32m--> 380\u001b[0;31m                 \u001b[0mhttplib_response\u001b[0m \u001b[0;34m=\u001b[0m \u001b[0mconn\u001b[0m\u001b[0;34m.\u001b[0m\u001b[0mgetresponse\u001b[0m\u001b[0;34m(\u001b[0m\u001b[0mbuffering\u001b[0m\u001b[0;34m=\u001b[0m\u001b[0;32mTrue\u001b[0m\u001b[0;34m)\u001b[0m\u001b[0;34m\u001b[0m\u001b[0m\n\u001b[0m\u001b[1;32m    381\u001b[0m             \u001b[0;32mexcept\u001b[0m \u001b[0mTypeError\u001b[0m\u001b[0;34m:\u001b[0m  \u001b[0;31m# Python 2.6 and older, Python 3\u001b[0m\u001b[0;34m\u001b[0m\u001b[0m\n",
      "\u001b[0;31mTypeError\u001b[0m: getresponse() got an unexpected keyword argument 'buffering'",
      "\nDuring handling of the above exception, another exception occurred:\n",
      "\u001b[0;31mKeyboardInterrupt\u001b[0m                         Traceback (most recent call last)",
      "\u001b[0;32m<ipython-input-119-f3a2b30993e0>\u001b[0m in \u001b[0;36m<module>\u001b[0;34m()\u001b[0m\n\u001b[1;32m      3\u001b[0m \u001b[0;32mfor\u001b[0m \u001b[0mmes\u001b[0m \u001b[0;32min\u001b[0m \u001b[0mtqdm_notebook\u001b[0m\u001b[0;34m(\u001b[0m\u001b[0mgrouper\u001b[0m\u001b[0;34m(\u001b[0m\u001b[0mdf\u001b[0m\u001b[0;34m.\u001b[0m\u001b[0mmes\u001b[0m\u001b[0;34m.\u001b[0m\u001b[0mvalues\u001b[0m\u001b[0;34m,\u001b[0m \u001b[0;36m2000\u001b[0m\u001b[0;34m)\u001b[0m\u001b[0;34m)\u001b[0m\u001b[0;34m:\u001b[0m\u001b[0;34m\u001b[0m\u001b[0m\n\u001b[1;32m      4\u001b[0m     \u001b[0mdata\u001b[0m \u001b[0;34m=\u001b[0m \u001b[0;34m{\u001b[0m\u001b[0;34m'text'\u001b[0m\u001b[0;34m:\u001b[0m\u001b[0mmes\u001b[0m\u001b[0;34m,\u001b[0m \u001b[0;34m'source'\u001b[0m\u001b[0;34m:\u001b[0m\u001b[0msource\u001b[0m\u001b[0;34m}\u001b[0m\u001b[0;34m\u001b[0m\u001b[0m\n\u001b[0;32m----> 5\u001b[0;31m     \u001b[0mres\u001b[0m \u001b[0;34m=\u001b[0m \u001b[0mrequests\u001b[0m\u001b[0;34m.\u001b[0m\u001b[0mpost\u001b[0m\u001b[0;34m(\u001b[0m\u001b[0murl\u001b[0m\u001b[0;34m=\u001b[0m\u001b[0;34m'http://0.0.0.0:5000/api/score'\u001b[0m\u001b[0;34m,\u001b[0m \u001b[0mdata\u001b[0m\u001b[0;34m=\u001b[0m\u001b[0mdata\u001b[0m\u001b[0;34m)\u001b[0m\u001b[0;34m\u001b[0m\u001b[0m\n\u001b[0m\u001b[1;32m      6\u001b[0m     \u001b[0;32mtry\u001b[0m\u001b[0;34m:\u001b[0m\u001b[0;34m\u001b[0m\u001b[0m\n\u001b[1;32m      7\u001b[0m         \u001b[0mscore\u001b[0m \u001b[0;34m=\u001b[0m \u001b[0mres\u001b[0m\u001b[0;34m.\u001b[0m\u001b[0mjson\u001b[0m\u001b[0;34m(\u001b[0m\u001b[0;34m)\u001b[0m\u001b[0;34m[\u001b[0m\u001b[0;34m'score'\u001b[0m\u001b[0;34m]\u001b[0m\u001b[0;34m\u001b[0m\u001b[0m\n",
      "\u001b[0;32m~/anaconda3/lib/python3.6/site-packages/requests/api.py\u001b[0m in \u001b[0;36mpost\u001b[0;34m(url, data, json, **kwargs)\u001b[0m\n\u001b[1;32m    110\u001b[0m     \"\"\"\n\u001b[1;32m    111\u001b[0m \u001b[0;34m\u001b[0m\u001b[0m\n\u001b[0;32m--> 112\u001b[0;31m     \u001b[0;32mreturn\u001b[0m \u001b[0mrequest\u001b[0m\u001b[0;34m(\u001b[0m\u001b[0;34m'post'\u001b[0m\u001b[0;34m,\u001b[0m \u001b[0murl\u001b[0m\u001b[0;34m,\u001b[0m \u001b[0mdata\u001b[0m\u001b[0;34m=\u001b[0m\u001b[0mdata\u001b[0m\u001b[0;34m,\u001b[0m \u001b[0mjson\u001b[0m\u001b[0;34m=\u001b[0m\u001b[0mjson\u001b[0m\u001b[0;34m,\u001b[0m \u001b[0;34m**\u001b[0m\u001b[0mkwargs\u001b[0m\u001b[0;34m)\u001b[0m\u001b[0;34m\u001b[0m\u001b[0m\n\u001b[0m\u001b[1;32m    113\u001b[0m \u001b[0;34m\u001b[0m\u001b[0m\n\u001b[1;32m    114\u001b[0m \u001b[0;34m\u001b[0m\u001b[0m\n",
      "\u001b[0;32m~/anaconda3/lib/python3.6/site-packages/requests/api.py\u001b[0m in \u001b[0;36mrequest\u001b[0;34m(method, url, **kwargs)\u001b[0m\n\u001b[1;32m     56\u001b[0m     \u001b[0;31m# cases, and look like a memory leak in others.\u001b[0m\u001b[0;34m\u001b[0m\u001b[0;34m\u001b[0m\u001b[0m\n\u001b[1;32m     57\u001b[0m     \u001b[0;32mwith\u001b[0m \u001b[0msessions\u001b[0m\u001b[0;34m.\u001b[0m\u001b[0mSession\u001b[0m\u001b[0;34m(\u001b[0m\u001b[0;34m)\u001b[0m \u001b[0;32mas\u001b[0m \u001b[0msession\u001b[0m\u001b[0;34m:\u001b[0m\u001b[0;34m\u001b[0m\u001b[0m\n\u001b[0;32m---> 58\u001b[0;31m         \u001b[0;32mreturn\u001b[0m \u001b[0msession\u001b[0m\u001b[0;34m.\u001b[0m\u001b[0mrequest\u001b[0m\u001b[0;34m(\u001b[0m\u001b[0mmethod\u001b[0m\u001b[0;34m=\u001b[0m\u001b[0mmethod\u001b[0m\u001b[0;34m,\u001b[0m \u001b[0murl\u001b[0m\u001b[0;34m=\u001b[0m\u001b[0murl\u001b[0m\u001b[0;34m,\u001b[0m \u001b[0;34m**\u001b[0m\u001b[0mkwargs\u001b[0m\u001b[0;34m)\u001b[0m\u001b[0;34m\u001b[0m\u001b[0m\n\u001b[0m\u001b[1;32m     59\u001b[0m \u001b[0;34m\u001b[0m\u001b[0m\n\u001b[1;32m     60\u001b[0m \u001b[0;34m\u001b[0m\u001b[0m\n",
      "\u001b[0;32m~/anaconda3/lib/python3.6/site-packages/requests/sessions.py\u001b[0m in \u001b[0;36mrequest\u001b[0;34m(self, method, url, params, data, headers, cookies, files, auth, timeout, allow_redirects, proxies, hooks, stream, verify, cert, json)\u001b[0m\n\u001b[1;32m    506\u001b[0m         }\n\u001b[1;32m    507\u001b[0m         \u001b[0msend_kwargs\u001b[0m\u001b[0;34m.\u001b[0m\u001b[0mupdate\u001b[0m\u001b[0;34m(\u001b[0m\u001b[0msettings\u001b[0m\u001b[0;34m)\u001b[0m\u001b[0;34m\u001b[0m\u001b[0m\n\u001b[0;32m--> 508\u001b[0;31m         \u001b[0mresp\u001b[0m \u001b[0;34m=\u001b[0m \u001b[0mself\u001b[0m\u001b[0;34m.\u001b[0m\u001b[0msend\u001b[0m\u001b[0;34m(\u001b[0m\u001b[0mprep\u001b[0m\u001b[0;34m,\u001b[0m \u001b[0;34m**\u001b[0m\u001b[0msend_kwargs\u001b[0m\u001b[0;34m)\u001b[0m\u001b[0;34m\u001b[0m\u001b[0m\n\u001b[0m\u001b[1;32m    509\u001b[0m \u001b[0;34m\u001b[0m\u001b[0m\n\u001b[1;32m    510\u001b[0m         \u001b[0;32mreturn\u001b[0m \u001b[0mresp\u001b[0m\u001b[0;34m\u001b[0m\u001b[0m\n",
      "\u001b[0;32m~/anaconda3/lib/python3.6/site-packages/requests/sessions.py\u001b[0m in \u001b[0;36msend\u001b[0;34m(self, request, **kwargs)\u001b[0m\n\u001b[1;32m    616\u001b[0m \u001b[0;34m\u001b[0m\u001b[0m\n\u001b[1;32m    617\u001b[0m         \u001b[0;31m# Send the request\u001b[0m\u001b[0;34m\u001b[0m\u001b[0;34m\u001b[0m\u001b[0m\n\u001b[0;32m--> 618\u001b[0;31m         \u001b[0mr\u001b[0m \u001b[0;34m=\u001b[0m \u001b[0madapter\u001b[0m\u001b[0;34m.\u001b[0m\u001b[0msend\u001b[0m\u001b[0;34m(\u001b[0m\u001b[0mrequest\u001b[0m\u001b[0;34m,\u001b[0m \u001b[0;34m**\u001b[0m\u001b[0mkwargs\u001b[0m\u001b[0;34m)\u001b[0m\u001b[0;34m\u001b[0m\u001b[0m\n\u001b[0m\u001b[1;32m    619\u001b[0m \u001b[0;34m\u001b[0m\u001b[0m\n\u001b[1;32m    620\u001b[0m         \u001b[0;31m# Total elapsed time of the request (approximately)\u001b[0m\u001b[0;34m\u001b[0m\u001b[0;34m\u001b[0m\u001b[0m\n",
      "\u001b[0;32m~/anaconda3/lib/python3.6/site-packages/requests/adapters.py\u001b[0m in \u001b[0;36msend\u001b[0;34m(self, request, stream, timeout, verify, cert, proxies)\u001b[0m\n\u001b[1;32m    438\u001b[0m                     \u001b[0mdecode_content\u001b[0m\u001b[0;34m=\u001b[0m\u001b[0;32mFalse\u001b[0m\u001b[0;34m,\u001b[0m\u001b[0;34m\u001b[0m\u001b[0m\n\u001b[1;32m    439\u001b[0m                     \u001b[0mretries\u001b[0m\u001b[0;34m=\u001b[0m\u001b[0mself\u001b[0m\u001b[0;34m.\u001b[0m\u001b[0mmax_retries\u001b[0m\u001b[0;34m,\u001b[0m\u001b[0;34m\u001b[0m\u001b[0m\n\u001b[0;32m--> 440\u001b[0;31m                     \u001b[0mtimeout\u001b[0m\u001b[0;34m=\u001b[0m\u001b[0mtimeout\u001b[0m\u001b[0;34m\u001b[0m\u001b[0m\n\u001b[0m\u001b[1;32m    441\u001b[0m                 )\n\u001b[1;32m    442\u001b[0m \u001b[0;34m\u001b[0m\u001b[0m\n",
      "\u001b[0;32m~/anaconda3/lib/python3.6/site-packages/urllib3/connectionpool.py\u001b[0m in \u001b[0;36murlopen\u001b[0;34m(self, method, url, body, headers, retries, redirect, assert_same_host, timeout, pool_timeout, release_conn, chunked, body_pos, **response_kw)\u001b[0m\n\u001b[1;32m    599\u001b[0m                                                   \u001b[0mtimeout\u001b[0m\u001b[0;34m=\u001b[0m\u001b[0mtimeout_obj\u001b[0m\u001b[0;34m,\u001b[0m\u001b[0;34m\u001b[0m\u001b[0m\n\u001b[1;32m    600\u001b[0m                                                   \u001b[0mbody\u001b[0m\u001b[0;34m=\u001b[0m\u001b[0mbody\u001b[0m\u001b[0;34m,\u001b[0m \u001b[0mheaders\u001b[0m\u001b[0;34m=\u001b[0m\u001b[0mheaders\u001b[0m\u001b[0;34m,\u001b[0m\u001b[0;34m\u001b[0m\u001b[0m\n\u001b[0;32m--> 601\u001b[0;31m                                                   chunked=chunked)\n\u001b[0m\u001b[1;32m    602\u001b[0m \u001b[0;34m\u001b[0m\u001b[0m\n\u001b[1;32m    603\u001b[0m             \u001b[0;31m# If we're going to release the connection in ``finally:``, then\u001b[0m\u001b[0;34m\u001b[0m\u001b[0;34m\u001b[0m\u001b[0m\n",
      "\u001b[0;32m~/anaconda3/lib/python3.6/site-packages/urllib3/connectionpool.py\u001b[0m in \u001b[0;36m_make_request\u001b[0;34m(self, conn, method, url, timeout, chunked, **httplib_request_kw)\u001b[0m\n\u001b[1;32m    381\u001b[0m             \u001b[0;32mexcept\u001b[0m \u001b[0mTypeError\u001b[0m\u001b[0;34m:\u001b[0m  \u001b[0;31m# Python 2.6 and older, Python 3\u001b[0m\u001b[0;34m\u001b[0m\u001b[0m\n\u001b[1;32m    382\u001b[0m                 \u001b[0;32mtry\u001b[0m\u001b[0;34m:\u001b[0m\u001b[0;34m\u001b[0m\u001b[0m\n\u001b[0;32m--> 383\u001b[0;31m                     \u001b[0mhttplib_response\u001b[0m \u001b[0;34m=\u001b[0m \u001b[0mconn\u001b[0m\u001b[0;34m.\u001b[0m\u001b[0mgetresponse\u001b[0m\u001b[0;34m(\u001b[0m\u001b[0;34m)\u001b[0m\u001b[0;34m\u001b[0m\u001b[0m\n\u001b[0m\u001b[1;32m    384\u001b[0m                 \u001b[0;32mexcept\u001b[0m \u001b[0mException\u001b[0m \u001b[0;32mas\u001b[0m \u001b[0me\u001b[0m\u001b[0;34m:\u001b[0m\u001b[0;34m\u001b[0m\u001b[0m\n\u001b[1;32m    385\u001b[0m                     \u001b[0;31m# Remove the TypeError from the exception chain in Python 3;\u001b[0m\u001b[0;34m\u001b[0m\u001b[0;34m\u001b[0m\u001b[0m\n",
      "\u001b[0;32m~/anaconda3/lib/python3.6/http/client.py\u001b[0m in \u001b[0;36mgetresponse\u001b[0;34m(self)\u001b[0m\n\u001b[1;32m   1329\u001b[0m         \u001b[0;32mtry\u001b[0m\u001b[0;34m:\u001b[0m\u001b[0;34m\u001b[0m\u001b[0m\n\u001b[1;32m   1330\u001b[0m             \u001b[0;32mtry\u001b[0m\u001b[0;34m:\u001b[0m\u001b[0;34m\u001b[0m\u001b[0m\n\u001b[0;32m-> 1331\u001b[0;31m                 \u001b[0mresponse\u001b[0m\u001b[0;34m.\u001b[0m\u001b[0mbegin\u001b[0m\u001b[0;34m(\u001b[0m\u001b[0;34m)\u001b[0m\u001b[0;34m\u001b[0m\u001b[0m\n\u001b[0m\u001b[1;32m   1332\u001b[0m             \u001b[0;32mexcept\u001b[0m \u001b[0mConnectionError\u001b[0m\u001b[0;34m:\u001b[0m\u001b[0;34m\u001b[0m\u001b[0m\n\u001b[1;32m   1333\u001b[0m                 \u001b[0mself\u001b[0m\u001b[0;34m.\u001b[0m\u001b[0mclose\u001b[0m\u001b[0;34m(\u001b[0m\u001b[0;34m)\u001b[0m\u001b[0;34m\u001b[0m\u001b[0m\n",
      "\u001b[0;32m~/anaconda3/lib/python3.6/http/client.py\u001b[0m in \u001b[0;36mbegin\u001b[0;34m(self)\u001b[0m\n\u001b[1;32m    295\u001b[0m         \u001b[0;31m# read until we get a non-100 response\u001b[0m\u001b[0;34m\u001b[0m\u001b[0;34m\u001b[0m\u001b[0m\n\u001b[1;32m    296\u001b[0m         \u001b[0;32mwhile\u001b[0m \u001b[0;32mTrue\u001b[0m\u001b[0;34m:\u001b[0m\u001b[0;34m\u001b[0m\u001b[0m\n\u001b[0;32m--> 297\u001b[0;31m             \u001b[0mversion\u001b[0m\u001b[0;34m,\u001b[0m \u001b[0mstatus\u001b[0m\u001b[0;34m,\u001b[0m \u001b[0mreason\u001b[0m \u001b[0;34m=\u001b[0m \u001b[0mself\u001b[0m\u001b[0;34m.\u001b[0m\u001b[0m_read_status\u001b[0m\u001b[0;34m(\u001b[0m\u001b[0;34m)\u001b[0m\u001b[0;34m\u001b[0m\u001b[0m\n\u001b[0m\u001b[1;32m    298\u001b[0m             \u001b[0;32mif\u001b[0m \u001b[0mstatus\u001b[0m \u001b[0;34m!=\u001b[0m \u001b[0mCONTINUE\u001b[0m\u001b[0;34m:\u001b[0m\u001b[0;34m\u001b[0m\u001b[0m\n\u001b[1;32m    299\u001b[0m                 \u001b[0;32mbreak\u001b[0m\u001b[0;34m\u001b[0m\u001b[0m\n",
      "\u001b[0;32m~/anaconda3/lib/python3.6/http/client.py\u001b[0m in \u001b[0;36m_read_status\u001b[0;34m(self)\u001b[0m\n\u001b[1;32m    256\u001b[0m \u001b[0;34m\u001b[0m\u001b[0m\n\u001b[1;32m    257\u001b[0m     \u001b[0;32mdef\u001b[0m \u001b[0m_read_status\u001b[0m\u001b[0;34m(\u001b[0m\u001b[0mself\u001b[0m\u001b[0;34m)\u001b[0m\u001b[0;34m:\u001b[0m\u001b[0;34m\u001b[0m\u001b[0m\n\u001b[0;32m--> 258\u001b[0;31m         \u001b[0mline\u001b[0m \u001b[0;34m=\u001b[0m \u001b[0mstr\u001b[0m\u001b[0;34m(\u001b[0m\u001b[0mself\u001b[0m\u001b[0;34m.\u001b[0m\u001b[0mfp\u001b[0m\u001b[0;34m.\u001b[0m\u001b[0mreadline\u001b[0m\u001b[0;34m(\u001b[0m\u001b[0m_MAXLINE\u001b[0m \u001b[0;34m+\u001b[0m \u001b[0;36m1\u001b[0m\u001b[0;34m)\u001b[0m\u001b[0;34m,\u001b[0m \u001b[0;34m\"iso-8859-1\"\u001b[0m\u001b[0;34m)\u001b[0m\u001b[0;34m\u001b[0m\u001b[0m\n\u001b[0m\u001b[1;32m    259\u001b[0m         \u001b[0;32mif\u001b[0m \u001b[0mlen\u001b[0m\u001b[0;34m(\u001b[0m\u001b[0mline\u001b[0m\u001b[0;34m)\u001b[0m \u001b[0;34m>\u001b[0m \u001b[0m_MAXLINE\u001b[0m\u001b[0;34m:\u001b[0m\u001b[0;34m\u001b[0m\u001b[0m\n\u001b[1;32m    260\u001b[0m             \u001b[0;32mraise\u001b[0m \u001b[0mLineTooLong\u001b[0m\u001b[0;34m(\u001b[0m\u001b[0;34m\"status line\"\u001b[0m\u001b[0;34m)\u001b[0m\u001b[0;34m\u001b[0m\u001b[0m\n",
      "\u001b[0;32m~/anaconda3/lib/python3.6/socket.py\u001b[0m in \u001b[0;36mreadinto\u001b[0;34m(self, b)\u001b[0m\n\u001b[1;32m    584\u001b[0m         \u001b[0;32mwhile\u001b[0m \u001b[0;32mTrue\u001b[0m\u001b[0;34m:\u001b[0m\u001b[0;34m\u001b[0m\u001b[0m\n\u001b[1;32m    585\u001b[0m             \u001b[0;32mtry\u001b[0m\u001b[0;34m:\u001b[0m\u001b[0;34m\u001b[0m\u001b[0m\n\u001b[0;32m--> 586\u001b[0;31m                 \u001b[0;32mreturn\u001b[0m \u001b[0mself\u001b[0m\u001b[0;34m.\u001b[0m\u001b[0m_sock\u001b[0m\u001b[0;34m.\u001b[0m\u001b[0mrecv_into\u001b[0m\u001b[0;34m(\u001b[0m\u001b[0mb\u001b[0m\u001b[0;34m)\u001b[0m\u001b[0;34m\u001b[0m\u001b[0m\n\u001b[0m\u001b[1;32m    587\u001b[0m             \u001b[0;32mexcept\u001b[0m \u001b[0mtimeout\u001b[0m\u001b[0;34m:\u001b[0m\u001b[0;34m\u001b[0m\u001b[0m\n\u001b[1;32m    588\u001b[0m                 \u001b[0mself\u001b[0m\u001b[0;34m.\u001b[0m\u001b[0m_timeout_occurred\u001b[0m \u001b[0;34m=\u001b[0m \u001b[0;32mTrue\u001b[0m\u001b[0;34m\u001b[0m\u001b[0m\n",
      "\u001b[0;31mKeyboardInterrupt\u001b[0m: "
     ]
    }
   ],
   "source": [
    "xx = range(100)\n",
    "scores = []\n",
    "for mes in tqdm_notebook(grouper(df.mes.values, 2000)):\n",
    "    data = {'text':mes, 'source':source}\n",
    "    res = requests.post(url='http://0.0.0.0:5000/api/score', data=data)\n",
    "    try:\n",
    "        score = res.json()['score']\n",
    "        scores.append(score)\n",
    "        #sentiments_fsq[i] = score\n",
    "    except:\n",
    "        print('fail')\n",
    "        continue"
   ]
  },
  {
   "cell_type": "code",
   "execution_count": 94,
   "metadata": {},
   "outputs": [],
   "source": [
    "res = requests.post(url='http://0.0.0.0:5000/api/score', data=data)"
   ]
  },
  {
   "cell_type": "code",
   "execution_count": 97,
   "metadata": {},
   "outputs": [
    {
     "data": {
      "text/plain": [
       "[5, 3, 1]"
      ]
     },
     "execution_count": 97,
     "metadata": {},
     "output_type": "execute_result"
    }
   ],
   "source": [
    "res.json()['score']"
   ]
  },
  {
   "cell_type": "code",
   "execution_count": 105,
   "metadata": {},
   "outputs": [
    {
     "data": {
      "text/html": [
       "<div>\n",
       "<style scoped>\n",
       "    .dataframe tbody tr th:only-of-type {\n",
       "        vertical-align: middle;\n",
       "    }\n",
       "\n",
       "    .dataframe tbody tr th {\n",
       "        vertical-align: top;\n",
       "    }\n",
       "\n",
       "    .dataframe thead th {\n",
       "        text-align: right;\n",
       "    }\n",
       "</style>\n",
       "<table border=\"1\" class=\"dataframe\">\n",
       "  <thead>\n",
       "    <tr style=\"text-align: right;\">\n",
       "      <th></th>\n",
       "      <th>cnt</th>\n",
       "      <th>mes</th>\n",
       "    </tr>\n",
       "  </thead>\n",
       "  <tbody>\n",
       "    <tr>\n",
       "      <th>0</th>\n",
       "      <td>2</td>\n",
       "      <td>Я внес деньги на карту. Когда они придут, я их...</td>\n",
       "    </tr>\n",
       "    <tr>\n",
       "      <th>1</th>\n",
       "      <td>4</td>\n",
       "      <td>Кредитная</td>\n",
       "    </tr>\n",
       "    <tr>\n",
       "      <th>2</th>\n",
       "      <td>6</td>\n",
       "      <td>По карте</td>\n",
       "    </tr>\n",
       "    <tr>\n",
       "      <th>3</th>\n",
       "      <td>8</td>\n",
       "      <td>Да</td>\n",
       "    </tr>\n",
       "    <tr>\n",
       "      <th>4</th>\n",
       "      <td>10</td>\n",
       "      <td>Да</td>\n",
       "    </tr>\n",
       "  </tbody>\n",
       "</table>\n",
       "</div>"
      ],
      "text/plain": [
       "   cnt                                                mes\n",
       "0    2  Я внес деньги на карту. Когда они придут, я их...\n",
       "1    4                                          Кредитная\n",
       "2    6                                           По карте\n",
       "3    8                                                 Да\n",
       "4   10                                                 Да"
      ]
     },
     "execution_count": 105,
     "metadata": {},
     "output_type": "execute_result"
    }
   ],
   "source": [
    "df = pd.read_csv('Client_messages_cleaned.csv', \n",
    "                 encoding='cp1251', \n",
    "                 delimiter=';', \n",
    "                 names=['cnt', 'mes'])\n",
    "df.head()"
   ]
  },
  {
   "cell_type": "code",
   "execution_count": 13,
   "metadata": {
    "scrolled": true
   },
   "outputs": [
    {
     "data": {
      "application/vnd.jupyter.widget-view+json": {
       "model_id": "7c164f83e9f84a9481d113663af3456b",
       "version_major": 2,
       "version_minor": 0
      },
      "text/html": [
       "<p>Failed to display Jupyter Widget of type <code>HBox</code>.</p>\n",
       "<p>\n",
       "  If you're reading this message in the Jupyter Notebook or JupyterLab Notebook, it may mean\n",
       "  that the widgets JavaScript is still loading. If this message persists, it\n",
       "  likely means that the widgets JavaScript library is either not installed or\n",
       "  not enabled. See the <a href=\"https://ipywidgets.readthedocs.io/en/stable/user_install.html\">Jupyter\n",
       "  Widgets Documentation</a> for setup instructions.\n",
       "</p>\n",
       "<p>\n",
       "  If you're reading this message in another frontend (for example, a static\n",
       "  rendering on GitHub or <a href=\"https://nbviewer.jupyter.org/\">NBViewer</a>),\n",
       "  it may mean that your frontend doesn't currently support widgets.\n",
       "</p>\n"
      ],
      "text/plain": [
       "HBox(children=(IntProgress(value=1, bar_style='info', max=1), HTML(value='')))"
      ]
     },
     "metadata": {},
     "output_type": "display_data"
    },
    {
     "name": "stdout",
     "output_type": "stream",
     "text": [
      "\n"
     ]
    },
    {
     "name": "stderr",
     "output_type": "stream",
     "text": [
      "Exception in thread Thread-6:\n",
      "Traceback (most recent call last):\n",
      "  File \"/Users/ak/anaconda3/lib/python3.6/threading.py\", line 916, in _bootstrap_inner\n",
      "    self.run()\n",
      "  File \"/Users/ak/anaconda3/lib/python3.6/site-packages/tqdm/_tqdm.py\", line 148, in run\n",
      "    for instance in self.tqdm_cls._instances:\n",
      "  File \"/Users/ak/anaconda3/lib/python3.6/_weakrefset.py\", line 60, in __iter__\n",
      "    for itemref in self.data:\n",
      "RuntimeError: Set changed size during iteration\n",
      "\n"
     ]
    },
    {
     "name": "stdout",
     "output_type": "stream",
     "text": [
      "fail\n",
      "fail\n",
      "fail\n",
      "fail\n",
      "fail\n",
      "fail\n",
      "fail\n",
      "fail\n",
      "fail\n",
      "fail\n",
      "fail\n",
      "fail\n",
      "fail\n",
      "fail\n",
      "fail\n",
      "fail\n",
      "fail\n",
      "fail\n",
      "fail\n",
      "fail\n",
      "fail\n",
      "fail\n",
      "fail\n",
      "fail\n",
      "fail\n",
      "fail\n",
      "fail\n",
      "fail\n",
      "fail\n",
      "fail\n",
      "fail\n",
      "fail\n",
      "fail\n",
      "fail\n",
      "fail\n",
      "fail\n",
      "fail\n",
      "fail\n",
      "fail\n",
      "fail\n",
      "fail\n",
      "fail\n",
      "fail\n",
      "fail\n",
      "fail\n",
      "fail\n",
      "fail\n",
      "fail\n",
      "fail\n",
      "fail\n",
      "fail\n",
      "fail\n",
      "fail\n",
      "fail\n",
      "fail\n",
      "fail\n",
      "fail\n",
      "fail\n",
      "fail\n",
      "fail\n",
      "fail\n",
      "fail\n",
      "fail\n",
      "fail\n",
      "fail\n",
      "fail\n",
      "fail\n",
      "fail\n",
      "fail\n",
      "fail\n",
      "fail\n",
      "fail\n",
      "fail\n",
      "fail\n",
      "fail\n",
      "fail\n",
      "fail\n",
      "fail\n",
      "fail\n",
      "fail\n",
      "fail\n",
      "fail\n",
      "fail\n",
      "fail\n",
      "fail\n",
      "fail\n",
      "fail\n",
      "fail\n",
      "fail\n",
      "fail\n",
      "fail\n",
      "fail\n",
      "fail\n",
      "fail\n",
      "fail\n",
      "fail\n",
      "fail\n",
      "fail\n",
      "fail\n",
      "fail\n",
      "fail\n",
      "fail\n",
      "fail\n",
      "fail\n",
      "fail\n",
      "fail\n",
      "fail\n",
      "fail\n",
      "fail\n",
      "fail\n",
      "fail\n",
      "fail\n",
      "fail\n",
      "fail\n",
      "fail\n",
      "fail\n",
      "fail\n",
      "fail\n",
      "fail\n",
      "fail\n",
      "fail\n",
      "fail\n",
      "fail\n",
      "fail\n",
      "fail\n",
      "fail\n",
      "fail\n",
      "fail\n",
      "fail\n",
      "fail\n",
      "fail\n",
      "fail\n",
      "fail\n",
      "fail\n",
      "fail\n",
      "fail\n",
      "fail\n",
      "fail\n",
      "fail\n",
      "\n"
     ]
    }
   ],
   "source": [
    "sentiments_fsq = np.zeros(len(df))\n",
    "for i, mes in tqdm_notebook(enumerate(df.mes.values)):\n",
    "    if not isinstance(mes, str):\n",
    "        continue\n",
    "    if not re.search('\\w+', mes):\n",
    "        continue\n",
    "    data = {'text':mes, 'source':'foursquare.com'}\n",
    "    # data = {'text':mes, 'source':'other'}\n",
    "    res = requests.post(url='http://0.0.0.0:5000/api/score', data=data)\n",
    "    try:\n",
    "        score = res.json()['score']\n",
    "        sentiments_fsq[i] = score\n",
    "    except:\n",
    "        print('fail')\n",
    "        continue"
   ]
  },
  {
   "cell_type": "code",
   "execution_count": 21,
   "metadata": {
    "scrolled": true
   },
   "outputs": [
    {
     "data": {
      "application/vnd.jupyter.widget-view+json": {
       "model_id": "8f4489eeeb5c4847b8c640dc2f38eadf",
       "version_major": 2,
       "version_minor": 0
      },
      "text/html": [
       "<p>Failed to display Jupyter Widget of type <code>HBox</code>.</p>\n",
       "<p>\n",
       "  If you're reading this message in the Jupyter Notebook or JupyterLab Notebook, it may mean\n",
       "  that the widgets JavaScript is still loading. If this message persists, it\n",
       "  likely means that the widgets JavaScript library is either not installed or\n",
       "  not enabled. See the <a href=\"https://ipywidgets.readthedocs.io/en/stable/user_install.html\">Jupyter\n",
       "  Widgets Documentation</a> for setup instructions.\n",
       "</p>\n",
       "<p>\n",
       "  If you're reading this message in another frontend (for example, a static\n",
       "  rendering on GitHub or <a href=\"https://nbviewer.jupyter.org/\">NBViewer</a>),\n",
       "  it may mean that your frontend doesn't currently support widgets.\n",
       "</p>\n"
      ],
      "text/plain": [
       "HBox(children=(IntProgress(value=0, max=819752), HTML(value='')))"
      ]
     },
     "metadata": {},
     "output_type": "display_data"
    },
    {
     "name": "stdout",
     "output_type": "stream",
     "text": [
      "fail\n",
      "fail\n",
      "fail\n",
      "fail\n",
      "fail\n",
      "fail\n",
      "fail\n",
      "fail\n",
      "fail\n",
      "fail\n",
      "fail\n",
      "fail\n",
      "fail\n",
      "fail\n",
      "fail\n",
      "fail\n",
      "fail\n",
      "fail\n",
      "fail\n",
      "fail\n",
      "fail\n",
      "fail\n",
      "fail\n",
      "fail\n",
      "fail\n",
      "fail\n",
      "fail\n",
      "fail\n",
      "fail\n",
      "fail\n",
      "fail\n",
      "fail\n",
      "fail\n",
      "fail\n",
      "fail\n",
      "fail\n",
      "fail\n",
      "fail\n",
      "fail\n",
      "fail\n",
      "fail\n",
      "fail\n",
      "fail\n",
      "fail\n",
      "fail\n",
      "fail\n",
      "fail\n",
      "fail\n",
      "fail\n",
      "fail\n",
      "fail\n",
      "fail\n",
      "fail\n",
      "fail\n",
      "fail\n",
      "fail\n",
      "fail\n",
      "fail\n",
      "fail\n",
      "fail\n",
      "fail\n",
      "fail\n",
      "fail\n",
      "fail\n",
      "fail\n",
      "fail\n",
      "fail\n",
      "fail\n",
      "fail\n",
      "fail\n",
      "fail\n",
      "fail\n",
      "fail\n",
      "fail\n",
      "fail\n",
      "fail\n",
      "fail\n",
      "fail\n",
      "fail\n",
      "fail\n",
      "fail\n",
      "fail\n",
      "fail\n",
      "fail\n",
      "fail\n",
      "fail\n",
      "fail\n",
      "fail\n",
      "fail\n",
      "fail\n",
      "fail\n",
      "fail\n",
      "fail\n",
      "fail\n",
      "fail\n",
      "fail\n",
      "fail\n",
      "fail\n",
      "fail\n",
      "fail\n",
      "fail\n",
      "fail\n",
      "fail\n",
      "fail\n",
      "fail\n",
      "fail\n",
      "fail\n",
      "fail\n",
      "fail\n",
      "fail\n",
      "fail\n",
      "fail\n",
      "fail\n",
      "fail\n",
      "fail\n",
      "fail\n",
      "fail\n",
      "fail\n",
      "fail\n",
      "fail\n",
      "fail\n",
      "fail\n",
      "fail\n",
      "fail\n",
      "fail\n",
      "fail\n",
      "fail\n",
      "fail\n",
      "fail\n",
      "fail\n",
      "fail\n",
      "fail\n",
      "fail\n",
      "fail\n",
      "fail\n",
      "fail\n",
      "fail\n",
      "fail\n",
      "fail\n",
      "\n",
      "139 fails\n"
     ]
    }
   ],
   "source": [
    "sentiments = np.zeros(len(df))\n",
    "cnt = 0\n",
    "messages = df.mes.values\n",
    "i=0\n",
    "for mes in tqdm_notebook(messages):\n",
    "    if not isinstance(mes, str):\n",
    "        continue\n",
    "    if not re.search('\\w+', mes):\n",
    "        continue\n",
    "    # data = {'text':mes, 'source':'foursquare.com'}\n",
    "    data = {'text':mes, 'source':'other'}\n",
    "    res = requests.post(url='http://0.0.0.0:5000/api/score', data=data)\n",
    "    try:\n",
    "        score = res.json()['score']\n",
    "        sentiments[i] = score\n",
    "    except:\n",
    "        print('fail')\n",
    "        cnt += 1\n",
    "        continue\n",
    "    i+=1\n",
    "print('%i fails'%cnt)"
   ]
  },
  {
   "cell_type": "code",
   "execution_count": 22,
   "metadata": {},
   "outputs": [],
   "source": [
    "df['sentiments_other'] = sentiments"
   ]
  },
  {
   "cell_type": "code",
   "execution_count": 20,
   "metadata": {},
   "outputs": [
    {
     "data": {
      "text/plain": [
       "numpy.ndarray"
      ]
     },
     "execution_count": 20,
     "metadata": {},
     "output_type": "execute_result"
    }
   ],
   "source": [
    "type(messages)"
   ]
  },
  {
   "cell_type": "code",
   "execution_count": 23,
   "metadata": {},
   "outputs": [],
   "source": [
    "df.to_csv('Client_mess_with_foursquare_model_sentiments.csv')"
   ]
  },
  {
   "cell_type": "code",
   "execution_count": 24,
   "metadata": {},
   "outputs": [
    {
     "data": {
      "text/html": [
       "<div>\n",
       "<style scoped>\n",
       "    .dataframe tbody tr th:only-of-type {\n",
       "        vertical-align: middle;\n",
       "    }\n",
       "\n",
       "    .dataframe tbody tr th {\n",
       "        vertical-align: top;\n",
       "    }\n",
       "\n",
       "    .dataframe thead th {\n",
       "        text-align: right;\n",
       "    }\n",
       "</style>\n",
       "<table border=\"1\" class=\"dataframe\">\n",
       "  <thead>\n",
       "    <tr style=\"text-align: right;\">\n",
       "      <th></th>\n",
       "      <th>cnt</th>\n",
       "      <th>mes</th>\n",
       "      <th>sentiments_forsquare</th>\n",
       "      <th>sentiments_other</th>\n",
       "    </tr>\n",
       "  </thead>\n",
       "  <tbody>\n",
       "    <tr>\n",
       "      <th>0</th>\n",
       "      <td>2</td>\n",
       "      <td>Я внес деньги на карту. Когда они придут, я их...</td>\n",
       "      <td>3.0</td>\n",
       "      <td>3.0</td>\n",
       "    </tr>\n",
       "    <tr>\n",
       "      <th>1</th>\n",
       "      <td>4</td>\n",
       "      <td>Кредитная</td>\n",
       "      <td>5.0</td>\n",
       "      <td>3.0</td>\n",
       "    </tr>\n",
       "    <tr>\n",
       "      <th>2</th>\n",
       "      <td>6</td>\n",
       "      <td>По карте</td>\n",
       "      <td>3.0</td>\n",
       "      <td>3.0</td>\n",
       "    </tr>\n",
       "    <tr>\n",
       "      <th>3</th>\n",
       "      <td>8</td>\n",
       "      <td>Да</td>\n",
       "      <td>1.0</td>\n",
       "      <td>3.0</td>\n",
       "    </tr>\n",
       "    <tr>\n",
       "      <th>4</th>\n",
       "      <td>10</td>\n",
       "      <td>Да</td>\n",
       "      <td>1.0</td>\n",
       "      <td>3.0</td>\n",
       "    </tr>\n",
       "  </tbody>\n",
       "</table>\n",
       "</div>"
      ],
      "text/plain": [
       "   cnt                                                mes  \\\n",
       "0    2  Я внес деньги на карту. Когда они придут, я их...   \n",
       "1    4                                          Кредитная   \n",
       "2    6                                           По карте   \n",
       "3    8                                                 Да   \n",
       "4   10                                                 Да   \n",
       "\n",
       "   sentiments_forsquare  sentiments_other  \n",
       "0                   3.0               3.0  \n",
       "1                   5.0               3.0  \n",
       "2                   3.0               3.0  \n",
       "3                   1.0               3.0  \n",
       "4                   1.0               3.0  "
      ]
     },
     "execution_count": 24,
     "metadata": {},
     "output_type": "execute_result"
    }
   ],
   "source": [
    "df.head()"
   ]
  },
  {
   "cell_type": "code",
   "execution_count": 27,
   "metadata": {},
   "outputs": [
    {
     "data": {
      "text/html": [
       "<div>\n",
       "<style scoped>\n",
       "    .dataframe tbody tr th:only-of-type {\n",
       "        vertical-align: middle;\n",
       "    }\n",
       "\n",
       "    .dataframe tbody tr th {\n",
       "        vertical-align: top;\n",
       "    }\n",
       "\n",
       "    .dataframe thead th {\n",
       "        text-align: right;\n",
       "    }\n",
       "</style>\n",
       "<table border=\"1\" class=\"dataframe\">\n",
       "  <thead>\n",
       "    <tr style=\"text-align: right;\">\n",
       "      <th></th>\n",
       "      <th>cnt</th>\n",
       "      <th>sentiments_forsquare</th>\n",
       "      <th>sentiments_other</th>\n",
       "    </tr>\n",
       "  </thead>\n",
       "  <tbody>\n",
       "    <tr>\n",
       "      <th>cnt</th>\n",
       "      <td>1.000000</td>\n",
       "      <td>-0.012943</td>\n",
       "      <td>-0.017428</td>\n",
       "    </tr>\n",
       "    <tr>\n",
       "      <th>sentiments_forsquare</th>\n",
       "      <td>-0.012943</td>\n",
       "      <td>1.000000</td>\n",
       "      <td>0.004113</td>\n",
       "    </tr>\n",
       "    <tr>\n",
       "      <th>sentiments_other</th>\n",
       "      <td>-0.017428</td>\n",
       "      <td>0.004113</td>\n",
       "      <td>1.000000</td>\n",
       "    </tr>\n",
       "  </tbody>\n",
       "</table>\n",
       "</div>"
      ],
      "text/plain": [
       "                           cnt  sentiments_forsquare  sentiments_other\n",
       "cnt                   1.000000             -0.012943         -0.017428\n",
       "sentiments_forsquare -0.012943              1.000000          0.004113\n",
       "sentiments_other     -0.017428              0.004113          1.000000"
      ]
     },
     "execution_count": 27,
     "metadata": {},
     "output_type": "execute_result"
    }
   ],
   "source": [
    "df.corr(method='spearman')"
   ]
  },
  {
   "cell_type": "code",
   "execution_count": 2,
   "metadata": {},
   "outputs": [],
   "source": [
    "df = pd.read_csv('Client_mess_with_foursquare_model_sentiments.csv')"
   ]
  },
  {
   "cell_type": "code",
   "execution_count": 3,
   "metadata": {
    "scrolled": true
   },
   "outputs": [
    {
     "data": {
      "text/html": [
       "<div>\n",
       "<style scoped>\n",
       "    .dataframe tbody tr th:only-of-type {\n",
       "        vertical-align: middle;\n",
       "    }\n",
       "\n",
       "    .dataframe tbody tr th {\n",
       "        vertical-align: top;\n",
       "    }\n",
       "\n",
       "    .dataframe thead th {\n",
       "        text-align: right;\n",
       "    }\n",
       "</style>\n",
       "<table border=\"1\" class=\"dataframe\">\n",
       "  <thead>\n",
       "    <tr style=\"text-align: right;\">\n",
       "      <th></th>\n",
       "      <th>Unnamed: 0</th>\n",
       "      <th>cnt</th>\n",
       "      <th>mes</th>\n",
       "      <th>sentiments_forsquare</th>\n",
       "      <th>sentiments_other</th>\n",
       "    </tr>\n",
       "  </thead>\n",
       "  <tbody>\n",
       "    <tr>\n",
       "      <th>0</th>\n",
       "      <td>0</td>\n",
       "      <td>2</td>\n",
       "      <td>Я внес деньги на карту. Когда они придут, я их...</td>\n",
       "      <td>3.0</td>\n",
       "      <td>3.0</td>\n",
       "    </tr>\n",
       "    <tr>\n",
       "      <th>1</th>\n",
       "      <td>1</td>\n",
       "      <td>4</td>\n",
       "      <td>Кредитная</td>\n",
       "      <td>5.0</td>\n",
       "      <td>3.0</td>\n",
       "    </tr>\n",
       "    <tr>\n",
       "      <th>2</th>\n",
       "      <td>2</td>\n",
       "      <td>6</td>\n",
       "      <td>По карте</td>\n",
       "      <td>3.0</td>\n",
       "      <td>3.0</td>\n",
       "    </tr>\n",
       "    <tr>\n",
       "      <th>3</th>\n",
       "      <td>3</td>\n",
       "      <td>8</td>\n",
       "      <td>Да</td>\n",
       "      <td>1.0</td>\n",
       "      <td>3.0</td>\n",
       "    </tr>\n",
       "    <tr>\n",
       "      <th>4</th>\n",
       "      <td>4</td>\n",
       "      <td>10</td>\n",
       "      <td>Да</td>\n",
       "      <td>1.0</td>\n",
       "      <td>3.0</td>\n",
       "    </tr>\n",
       "    <tr>\n",
       "      <th>5</th>\n",
       "      <td>5</td>\n",
       "      <td>17</td>\n",
       "      <td>ООО, вас чат появился</td>\n",
       "      <td>5.0</td>\n",
       "      <td>3.0</td>\n",
       "    </tr>\n",
       "    <tr>\n",
       "      <th>6</th>\n",
       "      <td>6</td>\n",
       "      <td>19</td>\n",
       "      <td>Прикольное</td>\n",
       "      <td>5.0</td>\n",
       "      <td>5.0</td>\n",
       "    </tr>\n",
       "    <tr>\n",
       "      <th>7</th>\n",
       "      <td>7</td>\n",
       "      <td>21</td>\n",
       "      <td>А баланс можете сказать</td>\n",
       "      <td>1.0</td>\n",
       "      <td>3.0</td>\n",
       "    </tr>\n",
       "    <tr>\n",
       "      <th>8</th>\n",
       "      <td>8</td>\n",
       "      <td>22</td>\n",
       "      <td>А нет, не надо</td>\n",
       "      <td>1.0</td>\n",
       "      <td>3.0</td>\n",
       "    </tr>\n",
       "    <tr>\n",
       "      <th>9</th>\n",
       "      <td>9</td>\n",
       "      <td>23</td>\n",
       "      <td>А до # Name вы работаете</td>\n",
       "      <td>3.0</td>\n",
       "      <td>3.0</td>\n",
       "    </tr>\n",
       "    <tr>\n",
       "      <th>10</th>\n",
       "      <td>10</td>\n",
       "      <td>25</td>\n",
       "      <td>А где вы находитесь</td>\n",
       "      <td>3.0</td>\n",
       "      <td>3.0</td>\n",
       "    </tr>\n",
       "    <tr>\n",
       "      <th>11</th>\n",
       "      <td>11</td>\n",
       "      <td>30</td>\n",
       "      <td>Что такое спасибо</td>\n",
       "      <td>5.0</td>\n",
       "      <td>5.0</td>\n",
       "    </tr>\n",
       "    <tr>\n",
       "      <th>12</th>\n",
       "      <td>12</td>\n",
       "      <td>38</td>\n",
       "      <td>Привет</td>\n",
       "      <td>3.0</td>\n",
       "      <td>3.0</td>\n",
       "    </tr>\n",
       "    <tr>\n",
       "      <th>13</th>\n",
       "      <td>13</td>\n",
       "      <td>42</td>\n",
       "      <td>Бесплатная она ?</td>\n",
       "      <td>5.0</td>\n",
       "      <td>3.0</td>\n",
       "    </tr>\n",
       "    <tr>\n",
       "      <th>14</th>\n",
       "      <td>14</td>\n",
       "      <td>45</td>\n",
       "      <td>А могу к счету мужа подключить ?</td>\n",
       "      <td>1.0</td>\n",
       "      <td>3.0</td>\n",
       "    </tr>\n",
       "    <tr>\n",
       "      <th>15</th>\n",
       "      <td>15</td>\n",
       "      <td>47</td>\n",
       "      <td>Жаль</td>\n",
       "      <td>3.0</td>\n",
       "      <td>3.0</td>\n",
       "    </tr>\n",
       "    <tr>\n",
       "      <th>16</th>\n",
       "      <td>16</td>\n",
       "      <td>48</td>\n",
       "      <td>Понятно, спасибо</td>\n",
       "      <td>5.0</td>\n",
       "      <td>5.0</td>\n",
       "    </tr>\n",
       "    <tr>\n",
       "      <th>17</th>\n",
       "      <td>17</td>\n",
       "      <td>52</td>\n",
       "      <td>Что такое арест ?</td>\n",
       "      <td>1.0</td>\n",
       "      <td>3.0</td>\n",
       "    </tr>\n",
       "    <tr>\n",
       "      <th>18</th>\n",
       "      <td>18</td>\n",
       "      <td>54</td>\n",
       "      <td>А исполнительный документ что это</td>\n",
       "      <td>5.0</td>\n",
       "      <td>3.0</td>\n",
       "    </tr>\n",
       "    <tr>\n",
       "      <th>19</th>\n",
       "      <td>19</td>\n",
       "      <td>56</td>\n",
       "      <td>А на каком основании банк л наложи арест</td>\n",
       "      <td>1.0</td>\n",
       "      <td>1.0</td>\n",
       "    </tr>\n",
       "  </tbody>\n",
       "</table>\n",
       "</div>"
      ],
      "text/plain": [
       "    Unnamed: 0  cnt                                                mes  \\\n",
       "0            0    2  Я внес деньги на карту. Когда они придут, я их...   \n",
       "1            1    4                                          Кредитная   \n",
       "2            2    6                                           По карте   \n",
       "3            3    8                                                 Да   \n",
       "4            4   10                                                 Да   \n",
       "5            5   17                              ООО, вас чат появился   \n",
       "6            6   19                                         Прикольное   \n",
       "7            7   21                            А баланс можете сказать   \n",
       "8            8   22                                     А нет, не надо   \n",
       "9            9   23                           А до # Name вы работаете   \n",
       "10          10   25                                А где вы находитесь   \n",
       "11          11   30                                  Что такое спасибо   \n",
       "12          12   38                                             Привет   \n",
       "13          13   42                                   Бесплатная она ?   \n",
       "14          14   45                   А могу к счету мужа подключить ?   \n",
       "15          15   47                                               Жаль   \n",
       "16          16   48                                   Понятно, спасибо   \n",
       "17          17   52                                  Что такое арест ?   \n",
       "18          18   54                  А исполнительный документ что это   \n",
       "19          19   56           А на каком основании банк л наложи арест   \n",
       "\n",
       "    sentiments_forsquare  sentiments_other  \n",
       "0                    3.0               3.0  \n",
       "1                    5.0               3.0  \n",
       "2                    3.0               3.0  \n",
       "3                    1.0               3.0  \n",
       "4                    1.0               3.0  \n",
       "5                    5.0               3.0  \n",
       "6                    5.0               5.0  \n",
       "7                    1.0               3.0  \n",
       "8                    1.0               3.0  \n",
       "9                    3.0               3.0  \n",
       "10                   3.0               3.0  \n",
       "11                   5.0               5.0  \n",
       "12                   3.0               3.0  \n",
       "13                   5.0               3.0  \n",
       "14                   1.0               3.0  \n",
       "15                   3.0               3.0  \n",
       "16                   5.0               5.0  \n",
       "17                   1.0               3.0  \n",
       "18                   5.0               3.0  \n",
       "19                   1.0               1.0  "
      ]
     },
     "execution_count": 3,
     "metadata": {},
     "output_type": "execute_result"
    }
   ],
   "source": [
    "df.head(20)"
   ]
  },
  {
   "cell_type": "code",
   "execution_count": 8,
   "metadata": {
    "scrolled": true
   },
   "outputs": [
    {
     "data": {
      "text/html": [
       "<div>\n",
       "<style scoped>\n",
       "    .dataframe tbody tr th:only-of-type {\n",
       "        vertical-align: middle;\n",
       "    }\n",
       "\n",
       "    .dataframe tbody tr th {\n",
       "        vertical-align: top;\n",
       "    }\n",
       "\n",
       "    .dataframe thead th {\n",
       "        text-align: right;\n",
       "    }\n",
       "</style>\n",
       "<table border=\"1\" class=\"dataframe\">\n",
       "  <thead>\n",
       "    <tr style=\"text-align: right;\">\n",
       "      <th></th>\n",
       "      <th>Unnamed: 0</th>\n",
       "      <th>cnt</th>\n",
       "      <th>mes</th>\n",
       "      <th>sentiments_forsquare</th>\n",
       "      <th>sentiments_other</th>\n",
       "    </tr>\n",
       "  </thead>\n",
       "  <tbody>\n",
       "    <tr>\n",
       "      <th>0</th>\n",
       "      <td>0</td>\n",
       "      <td>2</td>\n",
       "      <td>Я внес деньги на карту. Когда они придут, я их...</td>\n",
       "      <td>3.0</td>\n",
       "      <td>3.0</td>\n",
       "    </tr>\n",
       "    <tr>\n",
       "      <th>1</th>\n",
       "      <td>1</td>\n",
       "      <td>4</td>\n",
       "      <td>Кредитная</td>\n",
       "      <td>5.0</td>\n",
       "      <td>3.0</td>\n",
       "    </tr>\n",
       "    <tr>\n",
       "      <th>2</th>\n",
       "      <td>2</td>\n",
       "      <td>6</td>\n",
       "      <td>По карте</td>\n",
       "      <td>3.0</td>\n",
       "      <td>3.0</td>\n",
       "    </tr>\n",
       "    <tr>\n",
       "      <th>3</th>\n",
       "      <td>3</td>\n",
       "      <td>8</td>\n",
       "      <td>Да</td>\n",
       "      <td>1.0</td>\n",
       "      <td>3.0</td>\n",
       "    </tr>\n",
       "    <tr>\n",
       "      <th>4</th>\n",
       "      <td>4</td>\n",
       "      <td>10</td>\n",
       "      <td>Да</td>\n",
       "      <td>1.0</td>\n",
       "      <td>3.0</td>\n",
       "    </tr>\n",
       "    <tr>\n",
       "      <th>5</th>\n",
       "      <td>5</td>\n",
       "      <td>17</td>\n",
       "      <td>ООО, вас чат появился</td>\n",
       "      <td>5.0</td>\n",
       "      <td>3.0</td>\n",
       "    </tr>\n",
       "    <tr>\n",
       "      <th>7</th>\n",
       "      <td>7</td>\n",
       "      <td>21</td>\n",
       "      <td>А баланс можете сказать</td>\n",
       "      <td>1.0</td>\n",
       "      <td>3.0</td>\n",
       "    </tr>\n",
       "    <tr>\n",
       "      <th>8</th>\n",
       "      <td>8</td>\n",
       "      <td>22</td>\n",
       "      <td>А нет, не надо</td>\n",
       "      <td>1.0</td>\n",
       "      <td>3.0</td>\n",
       "    </tr>\n",
       "    <tr>\n",
       "      <th>9</th>\n",
       "      <td>9</td>\n",
       "      <td>23</td>\n",
       "      <td>А до # Name вы работаете</td>\n",
       "      <td>3.0</td>\n",
       "      <td>3.0</td>\n",
       "    </tr>\n",
       "    <tr>\n",
       "      <th>10</th>\n",
       "      <td>10</td>\n",
       "      <td>25</td>\n",
       "      <td>А где вы находитесь</td>\n",
       "      <td>3.0</td>\n",
       "      <td>3.0</td>\n",
       "    </tr>\n",
       "    <tr>\n",
       "      <th>12</th>\n",
       "      <td>12</td>\n",
       "      <td>38</td>\n",
       "      <td>Привет</td>\n",
       "      <td>3.0</td>\n",
       "      <td>3.0</td>\n",
       "    </tr>\n",
       "    <tr>\n",
       "      <th>13</th>\n",
       "      <td>13</td>\n",
       "      <td>42</td>\n",
       "      <td>Бесплатная она ?</td>\n",
       "      <td>5.0</td>\n",
       "      <td>3.0</td>\n",
       "    </tr>\n",
       "    <tr>\n",
       "      <th>14</th>\n",
       "      <td>14</td>\n",
       "      <td>45</td>\n",
       "      <td>А могу к счету мужа подключить ?</td>\n",
       "      <td>1.0</td>\n",
       "      <td>3.0</td>\n",
       "    </tr>\n",
       "    <tr>\n",
       "      <th>15</th>\n",
       "      <td>15</td>\n",
       "      <td>47</td>\n",
       "      <td>Жаль</td>\n",
       "      <td>3.0</td>\n",
       "      <td>3.0</td>\n",
       "    </tr>\n",
       "    <tr>\n",
       "      <th>17</th>\n",
       "      <td>17</td>\n",
       "      <td>52</td>\n",
       "      <td>Что такое арест ?</td>\n",
       "      <td>1.0</td>\n",
       "      <td>3.0</td>\n",
       "    </tr>\n",
       "    <tr>\n",
       "      <th>18</th>\n",
       "      <td>18</td>\n",
       "      <td>54</td>\n",
       "      <td>А исполнительный документ что это</td>\n",
       "      <td>5.0</td>\n",
       "      <td>3.0</td>\n",
       "    </tr>\n",
       "    <tr>\n",
       "      <th>20</th>\n",
       "      <td>20</td>\n",
       "      <td>58</td>\n",
       "      <td>Такс</td>\n",
       "      <td>3.0</td>\n",
       "      <td>3.0</td>\n",
       "    </tr>\n",
       "    <tr>\n",
       "      <th>21</th>\n",
       "      <td>21</td>\n",
       "      <td>59</td>\n",
       "      <td>И что мне делать</td>\n",
       "      <td>3.0</td>\n",
       "      <td>3.0</td>\n",
       "    </tr>\n",
       "    <tr>\n",
       "      <th>22</th>\n",
       "      <td>22</td>\n",
       "      <td>61</td>\n",
       "      <td>Да</td>\n",
       "      <td>1.0</td>\n",
       "      <td>3.0</td>\n",
       "    </tr>\n",
       "    <tr>\n",
       "      <th>23</th>\n",
       "      <td>23</td>\n",
       "      <td>67</td>\n",
       "      <td>Что такое кредитная история ?</td>\n",
       "      <td>3.0</td>\n",
       "      <td>3.0</td>\n",
       "    </tr>\n",
       "    <tr>\n",
       "      <th>24</th>\n",
       "      <td>24</td>\n",
       "      <td>70</td>\n",
       "      <td>Аку</td>\n",
       "      <td>3.0</td>\n",
       "      <td>3.0</td>\n",
       "    </tr>\n",
       "    <tr>\n",
       "      <th>25</th>\n",
       "      <td>25</td>\n",
       "      <td>84</td>\n",
       "      <td>Вот, скажите-ка, мне</td>\n",
       "      <td>3.0</td>\n",
       "      <td>3.0</td>\n",
       "    </tr>\n",
       "    <tr>\n",
       "      <th>26</th>\n",
       "      <td>26</td>\n",
       "      <td>85</td>\n",
       "      <td>Что такое хорошая кредитная история</td>\n",
       "      <td>5.0</td>\n",
       "      <td>3.0</td>\n",
       "    </tr>\n",
       "    <tr>\n",
       "      <th>27</th>\n",
       "      <td>27</td>\n",
       "      <td>90</td>\n",
       "      <td>Я заказала кредитную историю у себя в кабинете...</td>\n",
       "      <td>5.0</td>\n",
       "      <td>3.0</td>\n",
       "    </tr>\n",
       "    <tr>\n",
       "      <th>28</th>\n",
       "      <td>28</td>\n",
       "      <td>91</td>\n",
       "      <td>Я после этого # Surname подала заявку на креди...</td>\n",
       "      <td>1.0</td>\n",
       "      <td>3.0</td>\n",
       "    </tr>\n",
       "    <tr>\n",
       "      <th>29</th>\n",
       "      <td>29</td>\n",
       "      <td>93</td>\n",
       "      <td>А еще скажите, если я поручитель у подружки. о...</td>\n",
       "      <td>1.0</td>\n",
       "      <td>3.0</td>\n",
       "    </tr>\n",
       "    <tr>\n",
       "      <th>30</th>\n",
       "      <td>30</td>\n",
       "      <td>95</td>\n",
       "      <td>А она может заменить меня другим человеком. Чт...</td>\n",
       "      <td>1.0</td>\n",
       "      <td>3.0</td>\n",
       "    </tr>\n",
       "    <tr>\n",
       "      <th>31</th>\n",
       "      <td>31</td>\n",
       "      <td>101</td>\n",
       "      <td>Здравствуйте. Я сменила оператора, но номер ос...</td>\n",
       "      <td>5.0</td>\n",
       "      <td>3.0</td>\n",
       "    </tr>\n",
       "    <tr>\n",
       "      <th>35</th>\n",
       "      <td>35</td>\n",
       "      <td>112</td>\n",
       "      <td>Да</td>\n",
       "      <td>1.0</td>\n",
       "      <td>3.0</td>\n",
       "    </tr>\n",
       "    <tr>\n",
       "      <th>36</th>\n",
       "      <td>36</td>\n",
       "      <td>113</td>\n",
       "      <td>Почему кредит не выдаете мне</td>\n",
       "      <td>1.0</td>\n",
       "      <td>3.0</td>\n",
       "    </tr>\n",
       "    <tr>\n",
       "      <th>...</th>\n",
       "      <td>...</td>\n",
       "      <td>...</td>\n",
       "      <td>...</td>\n",
       "      <td>...</td>\n",
       "      <td>...</td>\n",
       "    </tr>\n",
       "    <tr>\n",
       "      <th>805638</th>\n",
       "      <td>805638</td>\n",
       "      <td>538162</td>\n",
       "      <td>спасибо !</td>\n",
       "      <td>5.0</td>\n",
       "      <td>3.0</td>\n",
       "    </tr>\n",
       "    <tr>\n",
       "      <th>805640</th>\n",
       "      <td>805640</td>\n",
       "      <td>538165</td>\n",
       "      <td>Какие документы нужны</td>\n",
       "      <td>5.0</td>\n",
       "      <td>3.0</td>\n",
       "    </tr>\n",
       "    <tr>\n",
       "      <th>805642</th>\n",
       "      <td>805642</td>\n",
       "      <td>538170</td>\n",
       "      <td>Это ты опять ?</td>\n",
       "      <td>1.0</td>\n",
       "      <td>3.0</td>\n",
       "    </tr>\n",
       "    <tr>\n",
       "      <th>805643</th>\n",
       "      <td>805643</td>\n",
       "      <td>538172</td>\n",
       "      <td>Здравствуйте подскажите пожалуйста заказывал к...</td>\n",
       "      <td>3.0</td>\n",
       "      <td>3.0</td>\n",
       "    </tr>\n",
       "    <tr>\n",
       "      <th>805645</th>\n",
       "      <td>805645</td>\n",
       "      <td>538179</td>\n",
       "      <td>все только в банке лицом к лицу .</td>\n",
       "      <td>3.0</td>\n",
       "      <td>3.0</td>\n",
       "    </tr>\n",
       "    <tr>\n",
       "      <th>805646</th>\n",
       "      <td>805646</td>\n",
       "      <td>538180</td>\n",
       "      <td>нет</td>\n",
       "      <td>1.0</td>\n",
       "      <td>3.0</td>\n",
       "    </tr>\n",
       "    <tr>\n",
       "      <th>805647</th>\n",
       "      <td>805647</td>\n",
       "      <td>538181</td>\n",
       "      <td>нет не то не другое .</td>\n",
       "      <td>1.0</td>\n",
       "      <td>3.0</td>\n",
       "    </tr>\n",
       "    <tr>\n",
       "      <th>805648</th>\n",
       "      <td>805648</td>\n",
       "      <td>538182</td>\n",
       "      <td>кокой вклад самый выгодный для частного лица</td>\n",
       "      <td>5.0</td>\n",
       "      <td>3.0</td>\n",
       "    </tr>\n",
       "    <tr>\n",
       "      <th>805650</th>\n",
       "      <td>805650</td>\n",
       "      <td>538186</td>\n",
       "      <td>Санкт Петербург</td>\n",
       "      <td>5.0</td>\n",
       "      <td>3.0</td>\n",
       "    </tr>\n",
       "    <tr>\n",
       "      <th>805652</th>\n",
       "      <td>805652</td>\n",
       "      <td>538190</td>\n",
       "      <td>Спасибо за информацию</td>\n",
       "      <td>5.0</td>\n",
       "      <td>3.0</td>\n",
       "    </tr>\n",
       "    <tr>\n",
       "      <th>805653</th>\n",
       "      <td>805653</td>\n",
       "      <td>538191</td>\n",
       "      <td>Доброе утро я должен получать пенсию пока нет ...</td>\n",
       "      <td>1.0</td>\n",
       "      <td>3.0</td>\n",
       "    </tr>\n",
       "    <tr>\n",
       "      <th>805654</th>\n",
       "      <td>805654</td>\n",
       "      <td>538192</td>\n",
       "      <td>а удостоверение пенсионера не потребуется я та...</td>\n",
       "      <td>1.0</td>\n",
       "      <td>3.0</td>\n",
       "    </tr>\n",
       "    <tr>\n",
       "      <th>805655</th>\n",
       "      <td>805655</td>\n",
       "      <td>538197</td>\n",
       "      <td>Региона нет в онлайн заявке. как это сделать ?</td>\n",
       "      <td>3.0</td>\n",
       "      <td>3.0</td>\n",
       "    </tr>\n",
       "    <tr>\n",
       "      <th>805656</th>\n",
       "      <td>805656</td>\n",
       "      <td>538199</td>\n",
       "      <td># Name ?</td>\n",
       "      <td>5.0</td>\n",
       "      <td>3.0</td>\n",
       "    </tr>\n",
       "    <tr>\n",
       "      <th>805658</th>\n",
       "      <td>805658</td>\n",
       "      <td>538205</td>\n",
       "      <td>Региона нет в заявке. как это сделать ?</td>\n",
       "      <td>3.0</td>\n",
       "      <td>3.0</td>\n",
       "    </tr>\n",
       "    <tr>\n",
       "      <th>805659</th>\n",
       "      <td>805659</td>\n",
       "      <td>538206</td>\n",
       "      <td>Нет</td>\n",
       "      <td>1.0</td>\n",
       "      <td>3.0</td>\n",
       "    </tr>\n",
       "    <tr>\n",
       "      <th>805660</th>\n",
       "      <td>805660</td>\n",
       "      <td>538207</td>\n",
       "      <td>Добрый день, подскажите пожалуйста карту момен...</td>\n",
       "      <td>3.0</td>\n",
       "      <td>3.0</td>\n",
       "    </tr>\n",
       "    <tr>\n",
       "      <th>805661</th>\n",
       "      <td>805661</td>\n",
       "      <td>538209</td>\n",
       "      <td>Спасибо</td>\n",
       "      <td>5.0</td>\n",
       "      <td>3.0</td>\n",
       "    </tr>\n",
       "    <tr>\n",
       "      <th>805662</th>\n",
       "      <td>805662</td>\n",
       "      <td>538211</td>\n",
       "      <td>Но в наличии они есть ? Я правильно поняла ?</td>\n",
       "      <td>5.0</td>\n",
       "      <td>3.0</td>\n",
       "    </tr>\n",
       "    <tr>\n",
       "      <th>805664</th>\n",
       "      <td>805664</td>\n",
       "      <td>538219</td>\n",
       "      <td>Так и указала. # Name высвечивается два - ФИО ...</td>\n",
       "      <td>3.0</td>\n",
       "      <td>3.0</td>\n",
       "    </tr>\n",
       "    <tr>\n",
       "      <th>805665</th>\n",
       "      <td>805665</td>\n",
       "      <td>538221</td>\n",
       "      <td>Указала. .</td>\n",
       "      <td>1.0</td>\n",
       "      <td>3.0</td>\n",
       "    </tr>\n",
       "    <tr>\n",
       "      <th>805666</th>\n",
       "      <td>805666</td>\n",
       "      <td>538222</td>\n",
       "      <td>Но в этом # Name красная звёздочка и его требу...</td>\n",
       "      <td>3.0</td>\n",
       "      <td>3.0</td>\n",
       "    </tr>\n",
       "    <tr>\n",
       "      <th>805667</th>\n",
       "      <td>805667</td>\n",
       "      <td>538223</td>\n",
       "      <td>сайт</td>\n",
       "      <td>3.0</td>\n",
       "      <td>3.0</td>\n",
       "    </tr>\n",
       "    <tr>\n",
       "      <th>805668</th>\n",
       "      <td>805668</td>\n",
       "      <td>538231</td>\n",
       "      <td>Здравствуйте ! С карты вашего банка пытаемся о...</td>\n",
       "      <td>1.0</td>\n",
       "      <td>3.0</td>\n",
       "    </tr>\n",
       "    <tr>\n",
       "      <th>805669</th>\n",
       "      <td>805669</td>\n",
       "      <td>538232</td>\n",
       "      <td>Сбербанк онлайн</td>\n",
       "      <td>3.0</td>\n",
       "      <td>3.0</td>\n",
       "    </tr>\n",
       "    <tr>\n",
       "      <th>805670</th>\n",
       "      <td>805670</td>\n",
       "      <td>538233</td>\n",
       "      <td>Карту хотел сделать</td>\n",
       "      <td>3.0</td>\n",
       "      <td>3.0</td>\n",
       "    </tr>\n",
       "    <tr>\n",
       "      <th>805671</th>\n",
       "      <td>805671</td>\n",
       "      <td>538234</td>\n",
       "      <td>Дебетовую</td>\n",
       "      <td>1.0</td>\n",
       "      <td>3.0</td>\n",
       "    </tr>\n",
       "    <tr>\n",
       "      <th>805673</th>\n",
       "      <td>805673</td>\n",
       "      <td>538236</td>\n",
       "      <td>А через вас. Нельзя</td>\n",
       "      <td>1.0</td>\n",
       "      <td>3.0</td>\n",
       "    </tr>\n",
       "    <tr>\n",
       "      <th>805674</th>\n",
       "      <td>805674</td>\n",
       "      <td>538237</td>\n",
       "      <td>А быстро она делается</td>\n",
       "      <td>5.0</td>\n",
       "      <td>3.0</td>\n",
       "    </tr>\n",
       "    <tr>\n",
       "      <th>805675</th>\n",
       "      <td>805675</td>\n",
       "      <td>538238</td>\n",
       "      <td>Московская область Воскресенский район поселок...</td>\n",
       "      <td>5.0</td>\n",
       "      <td>3.0</td>\n",
       "    </tr>\n",
       "  </tbody>\n",
       "</table>\n",
       "<p>604678 rows × 5 columns</p>\n",
       "</div>"
      ],
      "text/plain": [
       "        Unnamed: 0     cnt                                                mes  \\\n",
       "0                0       2  Я внес деньги на карту. Когда они придут, я их...   \n",
       "1                1       4                                          Кредитная   \n",
       "2                2       6                                           По карте   \n",
       "3                3       8                                                 Да   \n",
       "4                4      10                                                 Да   \n",
       "5                5      17                              ООО, вас чат появился   \n",
       "7                7      21                            А баланс можете сказать   \n",
       "8                8      22                                     А нет, не надо   \n",
       "9                9      23                           А до # Name вы работаете   \n",
       "10              10      25                                А где вы находитесь   \n",
       "12              12      38                                             Привет   \n",
       "13              13      42                                   Бесплатная она ?   \n",
       "14              14      45                   А могу к счету мужа подключить ?   \n",
       "15              15      47                                               Жаль   \n",
       "17              17      52                                  Что такое арест ?   \n",
       "18              18      54                  А исполнительный документ что это   \n",
       "20              20      58                                               Такс   \n",
       "21              21      59                                   И что мне делать   \n",
       "22              22      61                                                 Да   \n",
       "23              23      67                      Что такое кредитная история ?   \n",
       "24              24      70                                                Аку   \n",
       "25              25      84                               Вот, скажите-ка, мне   \n",
       "26              26      85                Что такое хорошая кредитная история   \n",
       "27              27      90  Я заказала кредитную историю у себя в кабинете...   \n",
       "28              28      91  Я после этого # Surname подала заявку на креди...   \n",
       "29              29      93  А еще скажите, если я поручитель у подружки. о...   \n",
       "30              30      95  А она может заменить меня другим человеком. Чт...   \n",
       "31              31     101  Здравствуйте. Я сменила оператора, но номер ос...   \n",
       "35              35     112                                                 Да   \n",
       "36              36     113                       Почему кредит не выдаете мне   \n",
       "...            ...     ...                                                ...   \n",
       "805638      805638  538162                                          спасибо !   \n",
       "805640      805640  538165                              Какие документы нужны   \n",
       "805642      805642  538170                                     Это ты опять ?   \n",
       "805643      805643  538172  Здравствуйте подскажите пожалуйста заказывал к...   \n",
       "805645      805645  538179                  все только в банке лицом к лицу .   \n",
       "805646      805646  538180                                                нет   \n",
       "805647      805647  538181                              нет не то не другое .   \n",
       "805648      805648  538182       кокой вклад самый выгодный для частного лица   \n",
       "805650      805650  538186                                    Санкт Петербург   \n",
       "805652      805652  538190                              Спасибо за информацию   \n",
       "805653      805653  538191  Доброе утро я должен получать пенсию пока нет ...   \n",
       "805654      805654  538192  а удостоверение пенсионера не потребуется я та...   \n",
       "805655      805655  538197     Региона нет в онлайн заявке. как это сделать ?   \n",
       "805656      805656  538199                                           # Name ?   \n",
       "805658      805658  538205            Региона нет в заявке. как это сделать ?   \n",
       "805659      805659  538206                                                Нет   \n",
       "805660      805660  538207  Добрый день, подскажите пожалуйста карту момен...   \n",
       "805661      805661  538209                                            Спасибо   \n",
       "805662      805662  538211       Но в наличии они есть ? Я правильно поняла ?   \n",
       "805664      805664  538219  Так и указала. # Name высвечивается два - ФИО ...   \n",
       "805665      805665  538221                                         Указала. .   \n",
       "805666      805666  538222  Но в этом # Name красная звёздочка и его требу...   \n",
       "805667      805667  538223                                               сайт   \n",
       "805668      805668  538231  Здравствуйте ! С карты вашего банка пытаемся о...   \n",
       "805669      805669  538232                                    Сбербанк онлайн   \n",
       "805670      805670  538233                                Карту хотел сделать   \n",
       "805671      805671  538234                                          Дебетовую   \n",
       "805673      805673  538236                                А через вас. Нельзя   \n",
       "805674      805674  538237                              А быстро она делается   \n",
       "805675      805675  538238  Московская область Воскресенский район поселок...   \n",
       "\n",
       "        sentiments_forsquare  sentiments_other  \n",
       "0                        3.0               3.0  \n",
       "1                        5.0               3.0  \n",
       "2                        3.0               3.0  \n",
       "3                        1.0               3.0  \n",
       "4                        1.0               3.0  \n",
       "5                        5.0               3.0  \n",
       "7                        1.0               3.0  \n",
       "8                        1.0               3.0  \n",
       "9                        3.0               3.0  \n",
       "10                       3.0               3.0  \n",
       "12                       3.0               3.0  \n",
       "13                       5.0               3.0  \n",
       "14                       1.0               3.0  \n",
       "15                       3.0               3.0  \n",
       "17                       1.0               3.0  \n",
       "18                       5.0               3.0  \n",
       "20                       3.0               3.0  \n",
       "21                       3.0               3.0  \n",
       "22                       1.0               3.0  \n",
       "23                       3.0               3.0  \n",
       "24                       3.0               3.0  \n",
       "25                       3.0               3.0  \n",
       "26                       5.0               3.0  \n",
       "27                       5.0               3.0  \n",
       "28                       1.0               3.0  \n",
       "29                       1.0               3.0  \n",
       "30                       1.0               3.0  \n",
       "31                       5.0               3.0  \n",
       "35                       1.0               3.0  \n",
       "36                       1.0               3.0  \n",
       "...                      ...               ...  \n",
       "805638                   5.0               3.0  \n",
       "805640                   5.0               3.0  \n",
       "805642                   1.0               3.0  \n",
       "805643                   3.0               3.0  \n",
       "805645                   3.0               3.0  \n",
       "805646                   1.0               3.0  \n",
       "805647                   1.0               3.0  \n",
       "805648                   5.0               3.0  \n",
       "805650                   5.0               3.0  \n",
       "805652                   5.0               3.0  \n",
       "805653                   1.0               3.0  \n",
       "805654                   1.0               3.0  \n",
       "805655                   3.0               3.0  \n",
       "805656                   5.0               3.0  \n",
       "805658                   3.0               3.0  \n",
       "805659                   1.0               3.0  \n",
       "805660                   3.0               3.0  \n",
       "805661                   5.0               3.0  \n",
       "805662                   5.0               3.0  \n",
       "805664                   3.0               3.0  \n",
       "805665                   1.0               3.0  \n",
       "805666                   3.0               3.0  \n",
       "805667                   3.0               3.0  \n",
       "805668                   1.0               3.0  \n",
       "805669                   3.0               3.0  \n",
       "805670                   3.0               3.0  \n",
       "805671                   1.0               3.0  \n",
       "805673                   1.0               3.0  \n",
       "805674                   5.0               3.0  \n",
       "805675                   5.0               3.0  \n",
       "\n",
       "[604678 rows x 5 columns]"
      ]
     },
     "execution_count": 8,
     "metadata": {},
     "output_type": "execute_result"
    }
   ],
   "source": [
    "df[df.sentiments_other==3]"
   ]
  },
  {
   "cell_type": "code",
   "execution_count": 10,
   "metadata": {},
   "outputs": [],
   "source": [
    "df['length'] = df.mes.apply(lambda x: len(str(x)))"
   ]
  },
  {
   "cell_type": "code",
   "execution_count": 11,
   "metadata": {},
   "outputs": [
    {
     "data": {
      "text/html": [
       "<div>\n",
       "<style scoped>\n",
       "    .dataframe tbody tr th:only-of-type {\n",
       "        vertical-align: middle;\n",
       "    }\n",
       "\n",
       "    .dataframe tbody tr th {\n",
       "        vertical-align: top;\n",
       "    }\n",
       "\n",
       "    .dataframe thead th {\n",
       "        text-align: right;\n",
       "    }\n",
       "</style>\n",
       "<table border=\"1\" class=\"dataframe\">\n",
       "  <thead>\n",
       "    <tr style=\"text-align: right;\">\n",
       "      <th></th>\n",
       "      <th>Unnamed: 0</th>\n",
       "      <th>cnt</th>\n",
       "      <th>mes</th>\n",
       "      <th>sentiments_forsquare</th>\n",
       "      <th>sentiments_other</th>\n",
       "      <th>length</th>\n",
       "    </tr>\n",
       "  </thead>\n",
       "  <tbody>\n",
       "    <tr>\n",
       "      <th>0</th>\n",
       "      <td>0</td>\n",
       "      <td>2</td>\n",
       "      <td>Я внес деньги на карту. Когда они придут, я их...</td>\n",
       "      <td>3.0</td>\n",
       "      <td>3.0</td>\n",
       "      <td>58</td>\n",
       "    </tr>\n",
       "    <tr>\n",
       "      <th>1</th>\n",
       "      <td>1</td>\n",
       "      <td>4</td>\n",
       "      <td>Кредитная</td>\n",
       "      <td>5.0</td>\n",
       "      <td>3.0</td>\n",
       "      <td>9</td>\n",
       "    </tr>\n",
       "    <tr>\n",
       "      <th>2</th>\n",
       "      <td>2</td>\n",
       "      <td>6</td>\n",
       "      <td>По карте</td>\n",
       "      <td>3.0</td>\n",
       "      <td>3.0</td>\n",
       "      <td>8</td>\n",
       "    </tr>\n",
       "    <tr>\n",
       "      <th>3</th>\n",
       "      <td>3</td>\n",
       "      <td>8</td>\n",
       "      <td>Да</td>\n",
       "      <td>1.0</td>\n",
       "      <td>3.0</td>\n",
       "      <td>2</td>\n",
       "    </tr>\n",
       "    <tr>\n",
       "      <th>4</th>\n",
       "      <td>4</td>\n",
       "      <td>10</td>\n",
       "      <td>Да</td>\n",
       "      <td>1.0</td>\n",
       "      <td>3.0</td>\n",
       "      <td>2</td>\n",
       "    </tr>\n",
       "  </tbody>\n",
       "</table>\n",
       "</div>"
      ],
      "text/plain": [
       "   Unnamed: 0  cnt                                                mes  \\\n",
       "0           0    2  Я внес деньги на карту. Когда они придут, я их...   \n",
       "1           1    4                                          Кредитная   \n",
       "2           2    6                                           По карте   \n",
       "3           3    8                                                 Да   \n",
       "4           4   10                                                 Да   \n",
       "\n",
       "   sentiments_forsquare  sentiments_other  length  \n",
       "0                   3.0               3.0      58  \n",
       "1                   5.0               3.0       9  \n",
       "2                   3.0               3.0       8  \n",
       "3                   1.0               3.0       2  \n",
       "4                   1.0               3.0       2  "
      ]
     },
     "execution_count": 11,
     "metadata": {},
     "output_type": "execute_result"
    }
   ],
   "source": [
    "df.head()"
   ]
  },
  {
   "cell_type": "code",
   "execution_count": 19,
   "metadata": {
    "scrolled": true
   },
   "outputs": [
    {
     "data": {
      "text/html": [
       "<div>\n",
       "<style scoped>\n",
       "    .dataframe tbody tr th:only-of-type {\n",
       "        vertical-align: middle;\n",
       "    }\n",
       "\n",
       "    .dataframe tbody tr th {\n",
       "        vertical-align: top;\n",
       "    }\n",
       "\n",
       "    .dataframe thead th {\n",
       "        text-align: right;\n",
       "    }\n",
       "</style>\n",
       "<table border=\"1\" class=\"dataframe\">\n",
       "  <thead>\n",
       "    <tr style=\"text-align: right;\">\n",
       "      <th></th>\n",
       "      <th>Unnamed: 0</th>\n",
       "      <th>cnt</th>\n",
       "      <th>mes</th>\n",
       "      <th>sentiments_forsquare</th>\n",
       "      <th>sentiments_other</th>\n",
       "      <th>length</th>\n",
       "    </tr>\n",
       "  </thead>\n",
       "  <tbody>\n",
       "    <tr>\n",
       "      <th>19</th>\n",
       "      <td>19</td>\n",
       "      <td>56</td>\n",
       "      <td>А на каком основании банк л наложи арест</td>\n",
       "      <td>1.0</td>\n",
       "      <td>1.0</td>\n",
       "      <td>40</td>\n",
       "    </tr>\n",
       "    <tr>\n",
       "      <th>33</th>\n",
       "      <td>33</td>\n",
       "      <td>104</td>\n",
       "      <td>До свидания .</td>\n",
       "      <td>3.0</td>\n",
       "      <td>1.0</td>\n",
       "      <td>13</td>\n",
       "    </tr>\n",
       "    <tr>\n",
       "      <th>57</th>\n",
       "      <td>57</td>\n",
       "      <td>173</td>\n",
       "      <td>Хотел бы больше узнать про вклад сохраняй. как...</td>\n",
       "      <td>1.0</td>\n",
       "      <td>1.0</td>\n",
       "      <td>106</td>\n",
       "    </tr>\n",
       "    <tr>\n",
       "      <th>66</th>\n",
       "      <td>66</td>\n",
       "      <td>208</td>\n",
       "      <td>Просто оператор говорила что должен быть какой...</td>\n",
       "      <td>1.0</td>\n",
       "      <td>1.0</td>\n",
       "      <td>61</td>\n",
       "    </tr>\n",
       "    <tr>\n",
       "      <th>118</th>\n",
       "      <td>118</td>\n",
       "      <td>358</td>\n",
       "      <td>ООО, как круто : )</td>\n",
       "      <td>5.0</td>\n",
       "      <td>1.0</td>\n",
       "      <td>18</td>\n",
       "    </tr>\n",
       "    <tr>\n",
       "      <th>183</th>\n",
       "      <td>183</td>\n",
       "      <td>498</td>\n",
       "      <td>Погодка шепчет прямо</td>\n",
       "      <td>5.0</td>\n",
       "      <td>1.0</td>\n",
       "      <td>20</td>\n",
       "    </tr>\n",
       "    <tr>\n",
       "      <th>314</th>\n",
       "      <td>314</td>\n",
       "      <td>812</td>\n",
       "      <td>А преимущества какие ?</td>\n",
       "      <td>1.0</td>\n",
       "      <td>1.0</td>\n",
       "      <td>22</td>\n",
       "    </tr>\n",
       "    <tr>\n",
       "      <th>333</th>\n",
       "      <td>333</td>\n",
       "      <td>866</td>\n",
       "      <td>Здравствуйте. Я недавно оформил пакет услуг Пр...</td>\n",
       "      <td>5.0</td>\n",
       "      <td>1.0</td>\n",
       "      <td>81</td>\n",
       "    </tr>\n",
       "    <tr>\n",
       "      <th>339</th>\n",
       "      <td>339</td>\n",
       "      <td>887</td>\n",
       "      <td>Что такое Сбербанк Премьер ?</td>\n",
       "      <td>3.0</td>\n",
       "      <td>1.0</td>\n",
       "      <td>28</td>\n",
       "    </tr>\n",
       "    <tr>\n",
       "      <th>407</th>\n",
       "      <td>407</td>\n",
       "      <td>1097</td>\n",
       "      <td>О, класс, пойду в офис</td>\n",
       "      <td>5.0</td>\n",
       "      <td>1.0</td>\n",
       "      <td>22</td>\n",
       "    </tr>\n",
       "    <tr>\n",
       "      <th>415</th>\n",
       "      <td>415</td>\n",
       "      <td>1126</td>\n",
       "      <td>А я не помню её</td>\n",
       "      <td>1.0</td>\n",
       "      <td>1.0</td>\n",
       "      <td>15</td>\n",
       "    </tr>\n",
       "    <tr>\n",
       "      <th>462</th>\n",
       "      <td>462</td>\n",
       "      <td>1306</td>\n",
       "      <td>А больше ни как ?</td>\n",
       "      <td>1.0</td>\n",
       "      <td>1.0</td>\n",
       "      <td>17</td>\n",
       "    </tr>\n",
       "    <tr>\n",
       "      <th>470</th>\n",
       "      <td>470</td>\n",
       "      <td>1329</td>\n",
       "      <td>О, а сколько я карт могу открыть ?</td>\n",
       "      <td>3.0</td>\n",
       "      <td>1.0</td>\n",
       "      <td>34</td>\n",
       "    </tr>\n",
       "    <tr>\n",
       "      <th>486</th>\n",
       "      <td>486</td>\n",
       "      <td>1373</td>\n",
       "      <td>Мне кажется вы робот, пойду лучше почитаю о вк...</td>\n",
       "      <td>1.0</td>\n",
       "      <td>1.0</td>\n",
       "      <td>51</td>\n",
       "    </tr>\n",
       "    <tr>\n",
       "      <th>504</th>\n",
       "      <td>504</td>\n",
       "      <td>1416</td>\n",
       "      <td># Name, я вот вклад хочу открыть, мне бы что н...</td>\n",
       "      <td>1.0</td>\n",
       "      <td>1.0</td>\n",
       "      <td>63</td>\n",
       "    </tr>\n",
       "    <tr>\n",
       "      <th>521</th>\n",
       "      <td>521</td>\n",
       "      <td>1455</td>\n",
       "      <td>Отлично, все равно забыл его. А я могу подать ...</td>\n",
       "      <td>5.0</td>\n",
       "      <td>1.0</td>\n",
       "      <td>95</td>\n",
       "    </tr>\n",
       "    <tr>\n",
       "      <th>667</th>\n",
       "      <td>667</td>\n",
       "      <td>1896</td>\n",
       "      <td>что посоветуете</td>\n",
       "      <td>5.0</td>\n",
       "      <td>1.0</td>\n",
       "      <td>15</td>\n",
       "    </tr>\n",
       "    <tr>\n",
       "      <th>691</th>\n",
       "      <td>691</td>\n",
       "      <td>1962</td>\n",
       "      <td>хорошо, спасибо</td>\n",
       "      <td>5.0</td>\n",
       "      <td>1.0</td>\n",
       "      <td>15</td>\n",
       "    </tr>\n",
       "    <tr>\n",
       "      <th>778</th>\n",
       "      <td>778</td>\n",
       "      <td>2191</td>\n",
       "      <td>о, это даже еще лучше. Спасибо вам, # Name .</td>\n",
       "      <td>5.0</td>\n",
       "      <td>1.0</td>\n",
       "      <td>44</td>\n",
       "    </tr>\n",
       "    <tr>\n",
       "      <th>825</th>\n",
       "      <td>825</td>\n",
       "      <td>2319</td>\n",
       "      <td>я оформила премьер пакет услуг</td>\n",
       "      <td>5.0</td>\n",
       "      <td>1.0</td>\n",
       "      <td>30</td>\n",
       "    </tr>\n",
       "    <tr>\n",
       "      <th>856</th>\n",
       "      <td>856</td>\n",
       "      <td>2398</td>\n",
       "      <td>как я могу перевести деньги в поддержку постра...</td>\n",
       "      <td>3.0</td>\n",
       "      <td>1.0</td>\n",
       "      <td>75</td>\n",
       "    </tr>\n",
       "    <tr>\n",
       "      <th>888</th>\n",
       "      <td>888</td>\n",
       "      <td>2474</td>\n",
       "      <td>Как ещё можно ?</td>\n",
       "      <td>5.0</td>\n",
       "      <td>1.0</td>\n",
       "      <td>15</td>\n",
       "    </tr>\n",
       "    <tr>\n",
       "      <th>900</th>\n",
       "      <td>900</td>\n",
       "      <td>2509</td>\n",
       "      <td>как я могу заказать виртуальную карту</td>\n",
       "      <td>3.0</td>\n",
       "      <td>1.0</td>\n",
       "      <td>37</td>\n",
       "    </tr>\n",
       "    <tr>\n",
       "      <th>1019</th>\n",
       "      <td>1019</td>\n",
       "      <td>2818</td>\n",
       "      <td>Так вы не ответили. .. .</td>\n",
       "      <td>1.0</td>\n",
       "      <td>1.0</td>\n",
       "      <td>24</td>\n",
       "    </tr>\n",
       "    <tr>\n",
       "      <th>1039</th>\n",
       "      <td>1039</td>\n",
       "      <td>2877</td>\n",
       "      <td># Name, скажите пожалуйста</td>\n",
       "      <td>3.0</td>\n",
       "      <td>1.0</td>\n",
       "      <td>26</td>\n",
       "    </tr>\n",
       "    <tr>\n",
       "      <th>1058</th>\n",
       "      <td>1058</td>\n",
       "      <td>2922</td>\n",
       "      <td>пишет какая то некратная сумма</td>\n",
       "      <td>3.0</td>\n",
       "      <td>1.0</td>\n",
       "      <td>30</td>\n",
       "    </tr>\n",
       "    <tr>\n",
       "      <th>1096</th>\n",
       "      <td>1096</td>\n",
       "      <td>3014</td>\n",
       "      <td>где могу пользоваться приорити пасс</td>\n",
       "      <td>5.0</td>\n",
       "      <td>1.0</td>\n",
       "      <td>35</td>\n",
       "    </tr>\n",
       "    <tr>\n",
       "      <th>1107</th>\n",
       "      <td>1107</td>\n",
       "      <td>3051</td>\n",
       "      <td>Что входит в защиту покупок в страховании по п...</td>\n",
       "      <td>3.0</td>\n",
       "      <td>1.0</td>\n",
       "      <td>70</td>\n",
       "    </tr>\n",
       "    <tr>\n",
       "      <th>1165</th>\n",
       "      <td>1165</td>\n",
       "      <td>3229</td>\n",
       "      <td>ой я человек древний, в терминале можно ?</td>\n",
       "      <td>1.0</td>\n",
       "      <td>1.0</td>\n",
       "      <td>41</td>\n",
       "    </tr>\n",
       "    <tr>\n",
       "      <th>1178</th>\n",
       "      <td>1178</td>\n",
       "      <td>3270</td>\n",
       "      <td>На сколько в пакете Премьер льготный курс лучш...</td>\n",
       "      <td>5.0</td>\n",
       "      <td>1.0</td>\n",
       "      <td>58</td>\n",
       "    </tr>\n",
       "    <tr>\n",
       "      <th>...</th>\n",
       "      <td>...</td>\n",
       "      <td>...</td>\n",
       "      <td>...</td>\n",
       "      <td>...</td>\n",
       "      <td>...</td>\n",
       "      <td>...</td>\n",
       "    </tr>\n",
       "    <tr>\n",
       "      <th>805002</th>\n",
       "      <td>805002</td>\n",
       "      <td>536953</td>\n",
       "      <td>ноября будет ровно год как я взял ипотеку в Сб...</td>\n",
       "      <td>3.0</td>\n",
       "      <td>1.0</td>\n",
       "      <td>53</td>\n",
       "    </tr>\n",
       "    <tr>\n",
       "      <th>805032</th>\n",
       "      <td>805032</td>\n",
       "      <td>536992</td>\n",
       "      <td>Там нет такой какой мне нужен</td>\n",
       "      <td>3.0</td>\n",
       "      <td>1.0</td>\n",
       "      <td>29</td>\n",
       "    </tr>\n",
       "    <tr>\n",
       "      <th>805061</th>\n",
       "      <td>805061</td>\n",
       "      <td>537059</td>\n",
       "      <td>пустых тоже ?</td>\n",
       "      <td>3.0</td>\n",
       "      <td>1.0</td>\n",
       "      <td>13</td>\n",
       "    </tr>\n",
       "    <tr>\n",
       "      <th>805107</th>\n",
       "      <td>805107</td>\n",
       "      <td>537137</td>\n",
       "      <td>Здравствуйте а как я могу заказать кредитную к...</td>\n",
       "      <td>3.0</td>\n",
       "      <td>1.0</td>\n",
       "      <td>72</td>\n",
       "    </tr>\n",
       "    <tr>\n",
       "      <th>805143</th>\n",
       "      <td>805143</td>\n",
       "      <td>537190</td>\n",
       "      <td>побольше лимитом</td>\n",
       "      <td>3.0</td>\n",
       "      <td>1.0</td>\n",
       "      <td>16</td>\n",
       "    </tr>\n",
       "    <tr>\n",
       "      <th>805178</th>\n",
       "      <td>805178</td>\n",
       "      <td>537257</td>\n",
       "      <td>И для этого мне потребуется опять писать судеб...</td>\n",
       "      <td>1.0</td>\n",
       "      <td>1.0</td>\n",
       "      <td>181</td>\n",
       "    </tr>\n",
       "    <tr>\n",
       "      <th>805179</th>\n",
       "      <td>805179</td>\n",
       "      <td>537258</td>\n",
       "      <td>Не может ли банк отправить отправителю новый н...</td>\n",
       "      <td>1.0</td>\n",
       "      <td>1.0</td>\n",
       "      <td>62</td>\n",
       "    </tr>\n",
       "    <tr>\n",
       "      <th>805183</th>\n",
       "      <td>805183</td>\n",
       "      <td>537265</td>\n",
       "      <td>В пятницу подавала заявку на кредит, и до сих ...</td>\n",
       "      <td>3.0</td>\n",
       "      <td>1.0</td>\n",
       "      <td>100</td>\n",
       "    </tr>\n",
       "    <tr>\n",
       "      <th>805185</th>\n",
       "      <td>805185</td>\n",
       "      <td>537267</td>\n",
       "      <td>Доброе утро !</td>\n",
       "      <td>5.0</td>\n",
       "      <td>1.0</td>\n",
       "      <td>13</td>\n",
       "    </tr>\n",
       "    <tr>\n",
       "      <th>805239</th>\n",
       "      <td>805239</td>\n",
       "      <td>537353</td>\n",
       "      <td>Добрый день, подскажите, пожалуйста, заканчива...</td>\n",
       "      <td>1.0</td>\n",
       "      <td>1.0</td>\n",
       "      <td>234</td>\n",
       "    </tr>\n",
       "    <tr>\n",
       "      <th>805281</th>\n",
       "      <td>805281</td>\n",
       "      <td>537429</td>\n",
       "      <td>Доброго времени суток # Name. Хотел бы написат...</td>\n",
       "      <td>1.0</td>\n",
       "      <td>1.0</td>\n",
       "      <td>91</td>\n",
       "    </tr>\n",
       "    <tr>\n",
       "      <th>805296</th>\n",
       "      <td>805296</td>\n",
       "      <td>537457</td>\n",
       "      <td>Да и была ипотека. Квартиру банк продать не может</td>\n",
       "      <td>1.0</td>\n",
       "      <td>1.0</td>\n",
       "      <td>49</td>\n",
       "    </tr>\n",
       "    <tr>\n",
       "      <th>805316</th>\n",
       "      <td>805316</td>\n",
       "      <td>537512</td>\n",
       "      <td>Добрый день !. у меня ипотека на квартиру в Сб...</td>\n",
       "      <td>5.0</td>\n",
       "      <td>1.0</td>\n",
       "      <td>135</td>\n",
       "    </tr>\n",
       "    <tr>\n",
       "      <th>805336</th>\n",
       "      <td>805336</td>\n",
       "      <td>537551</td>\n",
       "      <td>У меня арестовали счёт из-за неуплаты налога</td>\n",
       "      <td>1.0</td>\n",
       "      <td>1.0</td>\n",
       "      <td>44</td>\n",
       "    </tr>\n",
       "    <tr>\n",
       "      <th>805340</th>\n",
       "      <td>805340</td>\n",
       "      <td>537555</td>\n",
       "      <td>Но мне теперь перевести средства на ипотечный ...</td>\n",
       "      <td>3.0</td>\n",
       "      <td>1.0</td>\n",
       "      <td>50</td>\n",
       "    </tr>\n",
       "    <tr>\n",
       "      <th>805347</th>\n",
       "      <td>805347</td>\n",
       "      <td>537566</td>\n",
       "      <td>Добрый день ! Где на Вашем сайте могу распечат...</td>\n",
       "      <td>3.0</td>\n",
       "      <td>1.0</td>\n",
       "      <td>87</td>\n",
       "    </tr>\n",
       "    <tr>\n",
       "      <th>805359</th>\n",
       "      <td>805359</td>\n",
       "      <td>537582</td>\n",
       "      <td>То есть при перевыпуске # num руб заплатить ну...</td>\n",
       "      <td>3.0</td>\n",
       "      <td>1.0</td>\n",
       "      <td>51</td>\n",
       "    </tr>\n",
       "    <tr>\n",
       "      <th>805385</th>\n",
       "      <td>805385</td>\n",
       "      <td>537635</td>\n",
       "      <td>какие то конкретные сроки есть ? месяц два три ?</td>\n",
       "      <td>1.0</td>\n",
       "      <td>1.0</td>\n",
       "      <td>48</td>\n",
       "    </tr>\n",
       "    <tr>\n",
       "      <th>805403</th>\n",
       "      <td>805403</td>\n",
       "      <td>537655</td>\n",
       "      <td>добрый день. У меня вопрос по предварительному...</td>\n",
       "      <td>5.0</td>\n",
       "      <td>1.0</td>\n",
       "      <td>262</td>\n",
       "    </tr>\n",
       "    <tr>\n",
       "      <th>805458</th>\n",
       "      <td>805458</td>\n",
       "      <td>537766</td>\n",
       "      <td>Обидно, ну что ж, придется привыкать к новой к...</td>\n",
       "      <td>1.0</td>\n",
       "      <td>1.0</td>\n",
       "      <td>80</td>\n",
       "    </tr>\n",
       "    <tr>\n",
       "      <th>805502</th>\n",
       "      <td>805502</td>\n",
       "      <td>537877</td>\n",
       "      <td>Хочу оформить кредит</td>\n",
       "      <td>3.0</td>\n",
       "      <td>1.0</td>\n",
       "      <td>20</td>\n",
       "    </tr>\n",
       "    <tr>\n",
       "      <th>805505</th>\n",
       "      <td>805505</td>\n",
       "      <td>537886</td>\n",
       "      <td>Спасибо за консультацию .</td>\n",
       "      <td>5.0</td>\n",
       "      <td>1.0</td>\n",
       "      <td>25</td>\n",
       "    </tr>\n",
       "    <tr>\n",
       "      <th>805527</th>\n",
       "      <td>805527</td>\n",
       "      <td>537938</td>\n",
       "      <td>Доброе утро ! Не могу уже второй день по Сберб...</td>\n",
       "      <td>1.0</td>\n",
       "      <td>1.0</td>\n",
       "      <td>193</td>\n",
       "    </tr>\n",
       "    <tr>\n",
       "      <th>805589</th>\n",
       "      <td>805589</td>\n",
       "      <td>538075</td>\n",
       "      <td>С какими страховыми компаниями сотрудничает Сб...</td>\n",
       "      <td>5.0</td>\n",
       "      <td>1.0</td>\n",
       "      <td>77</td>\n",
       "    </tr>\n",
       "    <tr>\n",
       "      <th>805594</th>\n",
       "      <td>805594</td>\n",
       "      <td>538082</td>\n",
       "      <td>я заполнял заявку на сайте ipoteka. domclick. ...</td>\n",
       "      <td>5.0</td>\n",
       "      <td>1.0</td>\n",
       "      <td>77</td>\n",
       "    </tr>\n",
       "    <tr>\n",
       "      <th>805597</th>\n",
       "      <td>805597</td>\n",
       "      <td>538096</td>\n",
       "      <td>Или выписку из Егрн рано получил ? нужно было ...</td>\n",
       "      <td>5.0</td>\n",
       "      <td>1.0</td>\n",
       "      <td>74</td>\n",
       "    </tr>\n",
       "    <tr>\n",
       "      <th>805613</th>\n",
       "      <td>805613</td>\n",
       "      <td>538122</td>\n",
       "      <td>Хорошо девушка. . Спасибо за консультацию ) )</td>\n",
       "      <td>5.0</td>\n",
       "      <td>1.0</td>\n",
       "      <td>45</td>\n",
       "    </tr>\n",
       "    <tr>\n",
       "      <th>805620</th>\n",
       "      <td>805620</td>\n",
       "      <td>538140</td>\n",
       "      <td>Доброе вам времени суток, с номер тел. # num м...</td>\n",
       "      <td>1.0</td>\n",
       "      <td>1.0</td>\n",
       "      <td>93</td>\n",
       "    </tr>\n",
       "    <tr>\n",
       "      <th>805641</th>\n",
       "      <td>805641</td>\n",
       "      <td>538169</td>\n",
       "      <td>Не # Surname ?</td>\n",
       "      <td>1.0</td>\n",
       "      <td>1.0</td>\n",
       "      <td>14</td>\n",
       "    </tr>\n",
       "    <tr>\n",
       "      <th>805672</th>\n",
       "      <td>805672</td>\n",
       "      <td>538235</td>\n",
       "      <td>Кредитную мне не дают .</td>\n",
       "      <td>1.0</td>\n",
       "      <td>1.0</td>\n",
       "      <td>23</td>\n",
       "    </tr>\n",
       "  </tbody>\n",
       "</table>\n",
       "<p>30038 rows × 6 columns</p>\n",
       "</div>"
      ],
      "text/plain": [
       "        Unnamed: 0     cnt                                                mes  \\\n",
       "19              19      56           А на каком основании банк л наложи арест   \n",
       "33              33     104                                      До свидания .   \n",
       "57              57     173  Хотел бы больше узнать про вклад сохраняй. как...   \n",
       "66              66     208  Просто оператор говорила что должен быть какой...   \n",
       "118            118     358                                 ООО, как круто : )   \n",
       "183            183     498                               Погодка шепчет прямо   \n",
       "314            314     812                             А преимущества какие ?   \n",
       "333            333     866  Здравствуйте. Я недавно оформил пакет услуг Пр...   \n",
       "339            339     887                       Что такое Сбербанк Премьер ?   \n",
       "407            407    1097                             О, класс, пойду в офис   \n",
       "415            415    1126                                    А я не помню её   \n",
       "462            462    1306                                  А больше ни как ?   \n",
       "470            470    1329                 О, а сколько я карт могу открыть ?   \n",
       "486            486    1373  Мне кажется вы робот, пойду лучше почитаю о вк...   \n",
       "504            504    1416  # Name, я вот вклад хочу открыть, мне бы что н...   \n",
       "521            521    1455  Отлично, все равно забыл его. А я могу подать ...   \n",
       "667            667    1896                                    что посоветуете   \n",
       "691            691    1962                                    хорошо, спасибо   \n",
       "778            778    2191       о, это даже еще лучше. Спасибо вам, # Name .   \n",
       "825            825    2319                     я оформила премьер пакет услуг   \n",
       "856            856    2398  как я могу перевести деньги в поддержку постра...   \n",
       "888            888    2474                                    Как ещё можно ?   \n",
       "900            900    2509              как я могу заказать виртуальную карту   \n",
       "1019          1019    2818                           Так вы не ответили. .. .   \n",
       "1039          1039    2877                         # Name, скажите пожалуйста   \n",
       "1058          1058    2922                     пишет какая то некратная сумма   \n",
       "1096          1096    3014                где могу пользоваться приорити пасс   \n",
       "1107          1107    3051  Что входит в защиту покупок в страховании по п...   \n",
       "1165          1165    3229          ой я человек древний, в терминале можно ?   \n",
       "1178          1178    3270  На сколько в пакете Премьер льготный курс лучш...   \n",
       "...            ...     ...                                                ...   \n",
       "805002      805002  536953  ноября будет ровно год как я взял ипотеку в Сб...   \n",
       "805032      805032  536992                      Там нет такой какой мне нужен   \n",
       "805061      805061  537059                                      пустых тоже ?   \n",
       "805107      805107  537137  Здравствуйте а как я могу заказать кредитную к...   \n",
       "805143      805143  537190                                   побольше лимитом   \n",
       "805178      805178  537257  И для этого мне потребуется опять писать судеб...   \n",
       "805179      805179  537258  Не может ли банк отправить отправителю новый н...   \n",
       "805183      805183  537265  В пятницу подавала заявку на кредит, и до сих ...   \n",
       "805185      805185  537267                                      Доброе утро !   \n",
       "805239      805239  537353  Добрый день, подскажите, пожалуйста, заканчива...   \n",
       "805281      805281  537429  Доброго времени суток # Name. Хотел бы написат...   \n",
       "805296      805296  537457  Да и была ипотека. Квартиру банк продать не может   \n",
       "805316      805316  537512  Добрый день !. у меня ипотека на квартиру в Сб...   \n",
       "805336      805336  537551       У меня арестовали счёт из-за неуплаты налога   \n",
       "805340      805340  537555  Но мне теперь перевести средства на ипотечный ...   \n",
       "805347      805347  537566  Добрый день ! Где на Вашем сайте могу распечат...   \n",
       "805359      805359  537582  То есть при перевыпуске # num руб заплатить ну...   \n",
       "805385      805385  537635   какие то конкретные сроки есть ? месяц два три ?   \n",
       "805403      805403  537655  добрый день. У меня вопрос по предварительному...   \n",
       "805458      805458  537766  Обидно, ну что ж, придется привыкать к новой к...   \n",
       "805502      805502  537877                               Хочу оформить кредит   \n",
       "805505      805505  537886                          Спасибо за консультацию .   \n",
       "805527      805527  537938  Доброе утро ! Не могу уже второй день по Сберб...   \n",
       "805589      805589  538075  С какими страховыми компаниями сотрудничает Сб...   \n",
       "805594      805594  538082  я заполнял заявку на сайте ipoteka. domclick. ...   \n",
       "805597      805597  538096  Или выписку из Егрн рано получил ? нужно было ...   \n",
       "805613      805613  538122      Хорошо девушка. . Спасибо за консультацию ) )   \n",
       "805620      805620  538140  Доброе вам времени суток, с номер тел. # num м...   \n",
       "805641      805641  538169                                     Не # Surname ?   \n",
       "805672      805672  538235                            Кредитную мне не дают .   \n",
       "\n",
       "        sentiments_forsquare  sentiments_other  length  \n",
       "19                       1.0               1.0      40  \n",
       "33                       3.0               1.0      13  \n",
       "57                       1.0               1.0     106  \n",
       "66                       1.0               1.0      61  \n",
       "118                      5.0               1.0      18  \n",
       "183                      5.0               1.0      20  \n",
       "314                      1.0               1.0      22  \n",
       "333                      5.0               1.0      81  \n",
       "339                      3.0               1.0      28  \n",
       "407                      5.0               1.0      22  \n",
       "415                      1.0               1.0      15  \n",
       "462                      1.0               1.0      17  \n",
       "470                      3.0               1.0      34  \n",
       "486                      1.0               1.0      51  \n",
       "504                      1.0               1.0      63  \n",
       "521                      5.0               1.0      95  \n",
       "667                      5.0               1.0      15  \n",
       "691                      5.0               1.0      15  \n",
       "778                      5.0               1.0      44  \n",
       "825                      5.0               1.0      30  \n",
       "856                      3.0               1.0      75  \n",
       "888                      5.0               1.0      15  \n",
       "900                      3.0               1.0      37  \n",
       "1019                     1.0               1.0      24  \n",
       "1039                     3.0               1.0      26  \n",
       "1058                     3.0               1.0      30  \n",
       "1096                     5.0               1.0      35  \n",
       "1107                     3.0               1.0      70  \n",
       "1165                     1.0               1.0      41  \n",
       "1178                     5.0               1.0      58  \n",
       "...                      ...               ...     ...  \n",
       "805002                   3.0               1.0      53  \n",
       "805032                   3.0               1.0      29  \n",
       "805061                   3.0               1.0      13  \n",
       "805107                   3.0               1.0      72  \n",
       "805143                   3.0               1.0      16  \n",
       "805178                   1.0               1.0     181  \n",
       "805179                   1.0               1.0      62  \n",
       "805183                   3.0               1.0     100  \n",
       "805185                   5.0               1.0      13  \n",
       "805239                   1.0               1.0     234  \n",
       "805281                   1.0               1.0      91  \n",
       "805296                   1.0               1.0      49  \n",
       "805316                   5.0               1.0     135  \n",
       "805336                   1.0               1.0      44  \n",
       "805340                   3.0               1.0      50  \n",
       "805347                   3.0               1.0      87  \n",
       "805359                   3.0               1.0      51  \n",
       "805385                   1.0               1.0      48  \n",
       "805403                   5.0               1.0     262  \n",
       "805458                   1.0               1.0      80  \n",
       "805502                   3.0               1.0      20  \n",
       "805505                   5.0               1.0      25  \n",
       "805527                   1.0               1.0     193  \n",
       "805589                   5.0               1.0      77  \n",
       "805594                   5.0               1.0      77  \n",
       "805597                   5.0               1.0      74  \n",
       "805613                   5.0               1.0      45  \n",
       "805620                   1.0               1.0      93  \n",
       "805641                   1.0               1.0      14  \n",
       "805672                   1.0               1.0      23  \n",
       "\n",
       "[30038 rows x 6 columns]"
      ]
     },
     "execution_count": 19,
     "metadata": {},
     "output_type": "execute_result"
    }
   ],
   "source": [
    "df[(df.sentiments_other==1) & (df['length'] >12)]"
   ]
  },
  {
   "cell_type": "code",
   "execution_count": 22,
   "metadata": {},
   "outputs": [],
   "source": [
    "df.to_csv('client_mess_sentiment_length.csv', encoding='cp1251')"
   ]
  },
  {
   "cell_type": "code",
   "execution_count": 30,
   "metadata": {},
   "outputs": [],
   "source": [
    "df1 = df[df['length'] > 150]\n",
    "df1.to_excel('client_mess_sentiment_length.xls', encoding='cp1251')"
   ]
  },
  {
   "cell_type": "code",
   "execution_count": 31,
   "metadata": {},
   "outputs": [
    {
     "data": {
      "text/plain": [
       "(32160, 6)"
      ]
     },
     "execution_count": 31,
     "metadata": {},
     "output_type": "execute_result"
    }
   ],
   "source": [
    "df1.shape"
   ]
  },
  {
   "cell_type": "code",
   "execution_count": 55,
   "metadata": {},
   "outputs": [],
   "source": [
    "upper = 25\n",
    "lower = 20\n",
    "df4 = df[(df['length'] <= upper) & (df['length'] > lower)]\n",
    "if len(df4) < 65535:\n",
    "    df4.to_excel('client_mess_sentiment_length_%i_%i.xls'%(lower, upper), encoding='cp1251')\n",
    "else:\n",
    "    print('Слишком длинный файл')"
   ]
  },
  {
   "cell_type": "code",
   "execution_count": 56,
   "metadata": {},
   "outputs": [
    {
     "data": {
      "text/plain": [
       "(39773, 6)"
      ]
     },
     "execution_count": 56,
     "metadata": {},
     "output_type": "execute_result"
    }
   ],
   "source": [
    "df4.shape"
   ]
  },
  {
   "cell_type": "code",
   "execution_count": 45,
   "metadata": {
    "scrolled": true
   },
   "outputs": [
    {
     "data": {
      "text/plain": [
       "<matplotlib.axes._subplots.AxesSubplot at 0x12d1456d8>"
      ]
     },
     "execution_count": 45,
     "metadata": {},
     "output_type": "execute_result"
    },
    {
     "data": {
      "image/png": "[encoded data removed]",
      "text/plain": [
       "<matplotlib.figure.Figure at 0x120d71f98>"
      ]
     },
     "metadata": {},
     "output_type": "display_data"
    }
   ],
   "source": [
    "df[df['length'] < 200]['length'].hist(bins=99, figsize=(20,20))"
   ]
  },
  {
   "cell_type": "code",
   "execution_count": 47,
   "metadata": {},
   "outputs": [
    {
     "data": {
      "text/plain": [
       "Спасибо                                                                                                                                            25834\n",
       "Да                                                                                                                                                 50217\n",
       "Здравствуйте                                                                                                                                       61636\n",
       "спасибо                                                                                                                                            70618\n",
       "да                                                                                                                                                 77876\n",
       "Нет                                                                                                                                                84509\n",
       "?                                                                                                                                                  88322\n",
       "Спасибо !                                                                                                                                          92100\n",
       "Спасибо .                                                                                                                                          95728\n",
       "# num                                                                                                                                              99222\n",
       "Потребительский                                                                                                                                   102581\n",
       "нет                                                                                                                                               105865\n",
       "Хорошо                                                                                                                                            108718\n",
       "Добрый день                                                                                                                                       111356\n",
       "# Name                                                                                                                                            113410\n",
       "Здравствуйте !                                                                                                                                    115382\n",
       "Ок                                                                                                                                                117333\n",
       "Хочу взять кредит                                                                                                                                 119173\n",
       "Добрый день !                                                                                                                                     120903\n",
       "Нет спасибо                                                                                                                                       122474\n",
       "здравствуйте                                                                                                                                      123858\n",
       "Спасибо большое                                                                                                                                   125149\n",
       "Здравствуйте # Name                                                                                                                               126377\n",
       "Хорошо, спасибо                                                                                                                                   127603\n",
       "Добрый вечер                                                                                                                                      128792\n",
       "Нет, спасибо                                                                                                                                      129898\n",
       "Хорошо спасибо                                                                                                                                    130997\n",
       "Москва                                                                                                                                            132058\n",
       "Да .                                                                                                                                              133097\n",
       "До свидания                                                                                                                                       134115\n",
       "                                                                                                                                                   ...  \n",
       "нет регистрация и патент                                                                                                                          812283\n",
       "когда ответят ?                                                                                                                                   812284\n",
       "В Ростовской области банк одобряет а в Ульяновской нет, как такое может быть                                                                      812285\n",
       "А вы сможете оформить заявку на перевыпуск карты ?                                                                                                812286\n",
       "Добрый день, # Name ! Моя карта перевыпущена и находится в отделении банка в другом городе, забрать ее нет возможности. Посоветуйте как быть ?    812287\n",
       "а почему нельзя как в ВТБ банке там привязка к сотовому телефону                                                                                  812288\n",
       "А ещё мне нужен номер моего счета ( как мне объяснили, это не то же самое что номер Карты ) .                                                     812289\n",
       "а из голосового меню она исчезнет ?                                                                                                               812290\n",
       "Какую сумму кредита я могу получить без поручителя ?                                                                                              812291\n",
       "ок. А заявку на изготовление карты я могу сделать через сайт, а потом приехать в Сбербанк и получить её. Я правильно понимаю ?                    812292\n",
       "А почему # num если мне надо # num ?                                                                                                              812293\n",
       "я могу открыть карту мастеркард активный возраст и получать, процентов на остаток - на # Name ?                                                   812294\n",
       "это не важно ?                                                                                                                                    812295\n",
       "У меня сейчас другой номер телефона, не тот к которому была прикреплена прежняя                                                                   812296\n",
       "что именно прописано ?                                                                                                                            812297\n",
       "У меня заблокировали Мобильный банк. Причину не знаю                                                                                              812298\n",
       "пишет не доставлено                                                                                                                               812299\n",
       "спасибо большое Вам Надежда ! хорошего дня ! !                                                                                                    812300\n",
       "Просто классическая, # num каждый год, а с дизайном последующие # num рублей ? или там также первый год ?                                         812301\n",
       "Чем отличается карта Моментум от остальных ?                                                                                                      812302\n",
       "спасибо, поняла )                                                                                                                                 812303\n",
       "Я на неё получаю детские                                                                                                                          812304\n",
       "До ! Годовое обслуживание СК составляет по карте сигнатур Аэрофлот ?                                                                              812305\n",
       "Мне необходимо снять сумму со счета, могу ли я заказать ее по телефону ? или мне необходимо являться в отделение ?                                812306\n",
       "как скачать Сбербанк онлайн                                                                                                                       812307\n",
       "А как рассчитать на какой именно срок сократится ?                                                                                                812308\n",
       "И по какому курсу будут списаны средства ?                                                                                                        812309\n",
       "Здравствуйте ! Можно ли оформить карту онлайн ?                                                                                                   812310\n",
       "В графе оплатить что выбирать                                                                                                                     812311\n",
       "Под, никак ?                                                                                                                                      812312\n",
       "Name: mes, Length: 524518, dtype: int64"
      ]
     },
     "execution_count": 47,
     "metadata": {},
     "output_type": "execute_result"
    }
   ],
   "source": [
    "df['mes'].value_counts().cumsum()"
   ]
  },
  {
   "cell_type": "code",
   "execution_count": 48,
   "metadata": {},
   "outputs": [],
   "source": [
    "df.drop_duplicates(subset=['mes'], inplace=True)"
   ]
  },
  {
   "cell_type": "code",
   "execution_count": 49,
   "metadata": {},
   "outputs": [
    {
     "data": {
      "text/plain": [
       "(524519, 6)"
      ]
     },
     "execution_count": 49,
     "metadata": {},
     "output_type": "execute_result"
    }
   ],
   "source": [
    "df.shape"
   ]
  },
  {
   "cell_type": "code",
   "execution_count": 60,
   "metadata": {},
   "outputs": [],
   "source": [
    "def get_num_words(s):\n",
    "    if not isinstance(s, str):\n",
    "        return 0\n",
    "    x = re.findall('\\w+', s)\n",
    "    if x:\n",
    "        return len(x)\n",
    "    else:\n",
    "        return 0"
   ]
  },
  {
   "cell_type": "code",
   "execution_count": 61,
   "metadata": {},
   "outputs": [],
   "source": [
    "df['num_words'] = df.mes.apply(get_num_words)"
   ]
  },
  {
   "cell_type": "code",
   "execution_count": 62,
   "metadata": {},
   "outputs": [
    {
     "data": {
      "text/html": [
       "<div>\n",
       "<style scoped>\n",
       "    .dataframe tbody tr th:only-of-type {\n",
       "        vertical-align: middle;\n",
       "    }\n",
       "\n",
       "    .dataframe tbody tr th {\n",
       "        vertical-align: top;\n",
       "    }\n",
       "\n",
       "    .dataframe thead th {\n",
       "        text-align: right;\n",
       "    }\n",
       "</style>\n",
       "<table border=\"1\" class=\"dataframe\">\n",
       "  <thead>\n",
       "    <tr style=\"text-align: right;\">\n",
       "      <th></th>\n",
       "      <th>Unnamed: 0</th>\n",
       "      <th>cnt</th>\n",
       "      <th>mes</th>\n",
       "      <th>sentiments_forsquare</th>\n",
       "      <th>sentiments_other</th>\n",
       "      <th>length</th>\n",
       "      <th>num_words</th>\n",
       "    </tr>\n",
       "  </thead>\n",
       "  <tbody>\n",
       "    <tr>\n",
       "      <th>0</th>\n",
       "      <td>0</td>\n",
       "      <td>2</td>\n",
       "      <td>Я внес деньги на карту. Когда они придут, я их...</td>\n",
       "      <td>3.0</td>\n",
       "      <td>3.0</td>\n",
       "      <td>58</td>\n",
       "      <td>12</td>\n",
       "    </tr>\n",
       "    <tr>\n",
       "      <th>1</th>\n",
       "      <td>1</td>\n",
       "      <td>4</td>\n",
       "      <td>Кредитная</td>\n",
       "      <td>5.0</td>\n",
       "      <td>3.0</td>\n",
       "      <td>9</td>\n",
       "      <td>1</td>\n",
       "    </tr>\n",
       "    <tr>\n",
       "      <th>2</th>\n",
       "      <td>2</td>\n",
       "      <td>6</td>\n",
       "      <td>По карте</td>\n",
       "      <td>3.0</td>\n",
       "      <td>3.0</td>\n",
       "      <td>8</td>\n",
       "      <td>2</td>\n",
       "    </tr>\n",
       "    <tr>\n",
       "      <th>3</th>\n",
       "      <td>3</td>\n",
       "      <td>8</td>\n",
       "      <td>Да</td>\n",
       "      <td>1.0</td>\n",
       "      <td>3.0</td>\n",
       "      <td>2</td>\n",
       "      <td>1</td>\n",
       "    </tr>\n",
       "    <tr>\n",
       "      <th>5</th>\n",
       "      <td>5</td>\n",
       "      <td>17</td>\n",
       "      <td>ООО, вас чат появился</td>\n",
       "      <td>5.0</td>\n",
       "      <td>3.0</td>\n",
       "      <td>21</td>\n",
       "      <td>4</td>\n",
       "    </tr>\n",
       "  </tbody>\n",
       "</table>\n",
       "</div>"
      ],
      "text/plain": [
       "   Unnamed: 0  cnt                                                mes  \\\n",
       "0           0    2  Я внес деньги на карту. Когда они придут, я их...   \n",
       "1           1    4                                          Кредитная   \n",
       "2           2    6                                           По карте   \n",
       "3           3    8                                                 Да   \n",
       "5           5   17                              ООО, вас чат появился   \n",
       "\n",
       "   sentiments_forsquare  sentiments_other  length  num_words  \n",
       "0                   3.0               3.0      58         12  \n",
       "1                   5.0               3.0       9          1  \n",
       "2                   3.0               3.0       8          2  \n",
       "3                   1.0               3.0       2          1  \n",
       "5                   5.0               3.0      21          4  "
      ]
     },
     "execution_count": 62,
     "metadata": {},
     "output_type": "execute_result"
    }
   ],
   "source": [
    "df.head()"
   ]
  },
  {
   "cell_type": "code",
   "execution_count": 66,
   "metadata": {
    "scrolled": true
   },
   "outputs": [
    {
     "data": {
      "text/plain": [
       "<matplotlib.axes._subplots.AxesSubplot at 0x11c720860>"
      ]
     },
     "execution_count": 66,
     "metadata": {},
     "output_type": "execute_result"
    },
    {
     "data": {
      "image/png": "[encoded data removed]",
      "text/plain": [
       "<matplotlib.figure.Figure at 0x1299af3c8>"
      ]
     },
     "metadata": {},
     "output_type": "display_data"
    }
   ],
   "source": [
    "df[df['length'] < 200]['num_words'].hist(bins=50, figsize=(20,20))\n"
   ]
  },
  {
   "cell_type": "code",
   "execution_count": 50,
   "metadata": {},
   "outputs": [
    {
     "data": {
      "text/plain": [
       "1.0    194358\n",
       "3.0    187969\n",
       "5.0    141885\n",
       "0.0       307\n",
       "Name: sentiments_forsquare, dtype: int64"
      ]
     },
     "execution_count": 50,
     "metadata": {},
     "output_type": "execute_result"
    }
   ],
   "source": [
    "df.sentiments_forsquare.value_counts()"
   ]
  },
  {
   "cell_type": "code",
   "execution_count": 51,
   "metadata": {},
   "outputs": [
    {
     "data": {
      "text/plain": [
       "3.0    386621\n",
       "5.0    101958\n",
       "1.0     26519\n",
       "0.0      9421\n",
       "Name: sentiments_other, dtype: int64"
      ]
     },
     "execution_count": 51,
     "metadata": {},
     "output_type": "execute_result"
    }
   ],
   "source": [
    "df.sentiments_other.value_counts()"
   ]
  },
  {
   "cell_type": "code",
   "execution_count": 57,
   "metadata": {},
   "outputs": [
    {
     "data": {
      "text/plain": [
       "['sfd', 'erw']"
      ]
     },
     "execution_count": 57,
     "metadata": {},
     "output_type": "execute_result"
    }
   ],
   "source": [
    "re.findall('\\w+', 'sfd erw')"
   ]
  },
  {
   "cell_type": "code",
   "execution_count": 67,
   "metadata": {},
   "outputs": [],
   "source": [
    "from flask import request"
   ]
  },
  {
   "cell_type": "code",
   "execution_count": 70,
   "metadata": {
    "scrolled": true
   },
   "outputs": [
    {
     "ename": "RuntimeError",
     "evalue": "Working outside of request context.\n\nThis typically means that you attempted to use functionality that needed\nan active HTTP request.  Consult the documentation on testing for\ninformation about how to avoid this problem.",
     "output_type": "error",
     "traceback": [
      "\u001b[0;31m---------------------------------------------------------------------------\u001b[0m",
      "\u001b[0;31mRuntimeError\u001b[0m                              Traceback (most recent call last)",
      "\u001b[0;32m<ipython-input-70-173019e79361>\u001b[0m in \u001b[0;36m<module>\u001b[0;34m()\u001b[0m\n\u001b[0;32m----> 1\u001b[0;31m \u001b[0mr\u001b[0m \u001b[0;34m=\u001b[0m \u001b[0mrequest\u001b[0m\u001b[0;34m(\u001b[0m\u001b[0;34m)\u001b[0m\u001b[0;34m\u001b[0m\u001b[0m\n\u001b[0m",
      "\u001b[0;32m~/anaconda3/lib/python3.6/site-packages/werkzeug/local.py\u001b[0m in \u001b[0;36m<lambda>\u001b[0;34m(x, *a, **kw)\u001b[0m\n\u001b[1;32m    373\u001b[0m     \u001b[0m__cmp__\u001b[0m \u001b[0;34m=\u001b[0m \u001b[0;32mlambda\u001b[0m \u001b[0mx\u001b[0m\u001b[0;34m,\u001b[0m \u001b[0mo\u001b[0m\u001b[0;34m:\u001b[0m \u001b[0mcmp\u001b[0m\u001b[0;34m(\u001b[0m\u001b[0mx\u001b[0m\u001b[0;34m.\u001b[0m\u001b[0m_get_current_object\u001b[0m\u001b[0;34m(\u001b[0m\u001b[0;34m)\u001b[0m\u001b[0;34m,\u001b[0m \u001b[0mo\u001b[0m\u001b[0;34m)\u001b[0m  \u001b[0;31m# noqa\u001b[0m\u001b[0;34m\u001b[0m\u001b[0m\n\u001b[1;32m    374\u001b[0m     \u001b[0m__hash__\u001b[0m \u001b[0;34m=\u001b[0m \u001b[0;32mlambda\u001b[0m \u001b[0mx\u001b[0m\u001b[0;34m:\u001b[0m \u001b[0mhash\u001b[0m\u001b[0;34m(\u001b[0m\u001b[0mx\u001b[0m\u001b[0;34m.\u001b[0m\u001b[0m_get_current_object\u001b[0m\u001b[0;34m(\u001b[0m\u001b[0;34m)\u001b[0m\u001b[0;34m)\u001b[0m\u001b[0;34m\u001b[0m\u001b[0m\n\u001b[0;32m--> 375\u001b[0;31m     \u001b[0m__call__\u001b[0m \u001b[0;34m=\u001b[0m \u001b[0;32mlambda\u001b[0m \u001b[0mx\u001b[0m\u001b[0;34m,\u001b[0m \u001b[0;34m*\u001b[0m\u001b[0ma\u001b[0m\u001b[0;34m,\u001b[0m \u001b[0;34m**\u001b[0m\u001b[0mkw\u001b[0m\u001b[0;34m:\u001b[0m \u001b[0mx\u001b[0m\u001b[0;34m.\u001b[0m\u001b[0m_get_current_object\u001b[0m\u001b[0;34m(\u001b[0m\u001b[0;34m)\u001b[0m\u001b[0;34m(\u001b[0m\u001b[0;34m*\u001b[0m\u001b[0ma\u001b[0m\u001b[0;34m,\u001b[0m \u001b[0;34m**\u001b[0m\u001b[0mkw\u001b[0m\u001b[0;34m)\u001b[0m\u001b[0;34m\u001b[0m\u001b[0m\n\u001b[0m\u001b[1;32m    376\u001b[0m     \u001b[0m__len__\u001b[0m \u001b[0;34m=\u001b[0m \u001b[0;32mlambda\u001b[0m \u001b[0mx\u001b[0m\u001b[0;34m:\u001b[0m \u001b[0mlen\u001b[0m\u001b[0;34m(\u001b[0m\u001b[0mx\u001b[0m\u001b[0;34m.\u001b[0m\u001b[0m_get_current_object\u001b[0m\u001b[0;34m(\u001b[0m\u001b[0;34m)\u001b[0m\u001b[0;34m)\u001b[0m\u001b[0;34m\u001b[0m\u001b[0m\n\u001b[1;32m    377\u001b[0m     \u001b[0m__getitem__\u001b[0m \u001b[0;34m=\u001b[0m \u001b[0;32mlambda\u001b[0m \u001b[0mx\u001b[0m\u001b[0;34m,\u001b[0m \u001b[0mi\u001b[0m\u001b[0;34m:\u001b[0m \u001b[0mx\u001b[0m\u001b[0;34m.\u001b[0m\u001b[0m_get_current_object\u001b[0m\u001b[0;34m(\u001b[0m\u001b[0;34m)\u001b[0m\u001b[0;34m[\u001b[0m\u001b[0mi\u001b[0m\u001b[0;34m]\u001b[0m\u001b[0;34m\u001b[0m\u001b[0m\n",
      "\u001b[0;32m~/anaconda3/lib/python3.6/site-packages/werkzeug/local.py\u001b[0m in \u001b[0;36m_get_current_object\u001b[0;34m(self)\u001b[0m\n\u001b[1;32m    304\u001b[0m         \"\"\"\n\u001b[1;32m    305\u001b[0m         \u001b[0;32mif\u001b[0m \u001b[0;32mnot\u001b[0m \u001b[0mhasattr\u001b[0m\u001b[0;34m(\u001b[0m\u001b[0mself\u001b[0m\u001b[0;34m.\u001b[0m\u001b[0m__local\u001b[0m\u001b[0;34m,\u001b[0m \u001b[0;34m'__release_local__'\u001b[0m\u001b[0;34m)\u001b[0m\u001b[0;34m:\u001b[0m\u001b[0;34m\u001b[0m\u001b[0m\n\u001b[0;32m--> 306\u001b[0;31m             \u001b[0;32mreturn\u001b[0m \u001b[0mself\u001b[0m\u001b[0;34m.\u001b[0m\u001b[0m__local\u001b[0m\u001b[0;34m(\u001b[0m\u001b[0;34m)\u001b[0m\u001b[0;34m\u001b[0m\u001b[0m\n\u001b[0m\u001b[1;32m    307\u001b[0m         \u001b[0;32mtry\u001b[0m\u001b[0;34m:\u001b[0m\u001b[0;34m\u001b[0m\u001b[0m\n\u001b[1;32m    308\u001b[0m             \u001b[0;32mreturn\u001b[0m \u001b[0mgetattr\u001b[0m\u001b[0;34m(\u001b[0m\u001b[0mself\u001b[0m\u001b[0;34m.\u001b[0m\u001b[0m__local\u001b[0m\u001b[0;34m,\u001b[0m \u001b[0mself\u001b[0m\u001b[0;34m.\u001b[0m\u001b[0m__name__\u001b[0m\u001b[0;34m)\u001b[0m\u001b[0;34m\u001b[0m\u001b[0m\n",
      "\u001b[0;32m~/anaconda3/lib/python3.6/site-packages/flask/globals.py\u001b[0m in \u001b[0;36m_lookup_req_object\u001b[0;34m(name)\u001b[0m\n\u001b[1;32m     35\u001b[0m     \u001b[0mtop\u001b[0m \u001b[0;34m=\u001b[0m \u001b[0m_request_ctx_stack\u001b[0m\u001b[0;34m.\u001b[0m\u001b[0mtop\u001b[0m\u001b[0;34m\u001b[0m\u001b[0m\n\u001b[1;32m     36\u001b[0m     \u001b[0;32mif\u001b[0m \u001b[0mtop\u001b[0m \u001b[0;32mis\u001b[0m \u001b[0;32mNone\u001b[0m\u001b[0;34m:\u001b[0m\u001b[0;34m\u001b[0m\u001b[0m\n\u001b[0;32m---> 37\u001b[0;31m         \u001b[0;32mraise\u001b[0m \u001b[0mRuntimeError\u001b[0m\u001b[0;34m(\u001b[0m\u001b[0m_request_ctx_err_msg\u001b[0m\u001b[0;34m)\u001b[0m\u001b[0;34m\u001b[0m\u001b[0m\n\u001b[0m\u001b[1;32m     38\u001b[0m     \u001b[0;32mreturn\u001b[0m \u001b[0mgetattr\u001b[0m\u001b[0;34m(\u001b[0m\u001b[0mtop\u001b[0m\u001b[0;34m,\u001b[0m \u001b[0mname\u001b[0m\u001b[0;34m)\u001b[0m\u001b[0;34m\u001b[0m\u001b[0m\n\u001b[1;32m     39\u001b[0m \u001b[0;34m\u001b[0m\u001b[0m\n",
      "\u001b[0;31mRuntimeError\u001b[0m: Working outside of request context.\n\nThis typically means that you attempted to use functionality that needed\nan active HTTP request.  Consult the documentation on testing for\ninformation about how to avoid this problem."
     ]
    }
   ],
   "source": [
    "r = request()"
   ]
  },
  {
   "cell_type": "code",
   "execution_count": 2,
   "metadata": {},
   "outputs": [
    {
     "data": {
      "text/plain": [
       "0.33076923076923076"
      ]
     },
     "execution_count": 2,
     "metadata": {},
     "output_type": "execute_result"
    }
   ],
   "source": [
    "(0.3 + 0.13) / 1.3"
   ]
  },
  {
   "cell_type": "code",
   "execution_count": 33,
   "metadata": {},
   "outputs": [
    {
     "name": "stdout",
     "output_type": "stream",
     "text": [
      "Слова неизвестны\n"
     ]
    }
   ],
   "source": [
    "import requests\n",
    "import numpy as np\n",
    "default_scores = [0.1563062220811844, 0.43191346526145935, 0.4117802679538727]\n",
    "link = 'http://0.0.0.0:5000/api/proba'\n",
    "data = {'text':'kufionuipo;iun', 'source':'foursquare.com'}\n",
    "res = requests.post(url=link, data=data)\n",
    "try:\n",
    "    score = res.json()['proba']\n",
    "    if np.allclose(score[0], default_scores, atol=1e-6):\n",
    "        print('Слова неизвестны')\n",
    "    else:\n",
    "        print(score)\n",
    "    #sentiments_fsq[i] = score\n",
    "except:\n",
    "    print('fail')"
   ]
  },
  {
   "cell_type": "code",
   "execution_count": 8,
   "metadata": {},
   "outputs": [],
   "source": [
    "import re\n",
    "import pymystem3\n",
    "import pandas as pd\n",
    "\n",
    "class Is_obsc(object):\n",
    "    def __init__(self, path_to_corpus):\n",
    "        self.obsc = pd.read_csv(path_to_corpus, header=None)[0].values\n",
    "        self.mstem = pymystem3.Mystem()\n",
    "    \n",
    "    def __call__(self, s):\n",
    "        words = re.findall('\\w+', s.upper())\n",
    "        for w in words:\n",
    "            # Приведение к нормальной форме\n",
    "            a = self.mstem.analyze(w)\n",
    "            a = a[0]['analysis'][0]['lex'].upper()\n",
    "            print('Слово:', w, ', нормальная форма:', a)\n",
    "            if (w in self.obsc) or (a in self.obsc):\n",
    "                return True\n",
    "        return False"
   ]
  },
  {
   "cell_type": "code",
   "execution_count": 9,
   "metadata": {},
   "outputs": [],
   "source": [
    "is_obsc = Is_obsc('obscene_corpus.txt')"
   ]
  },
  {
   "cell_type": "code",
   "execution_count": 11,
   "metadata": {},
   "outputs": [
    {
     "name": "stdout",
     "output_type": "stream",
     "text": [
      "Слово: БЛДЖАД , нормальная форма: БЛДЖАД\n",
      "CPU times: user 569 µs, sys: 497 µs, total: 1.07 ms\n",
      "Wall time: 957 µs\n"
     ]
    },
    {
     "data": {
      "text/plain": [
       "True"
      ]
     },
     "execution_count": 11,
     "metadata": {},
     "output_type": "execute_result"
    }
   ],
   "source": [
    "%%time\n",
    "is_obsc('блджад')"
   ]
  },
  {
   "cell_type": "code",
   "execution_count": 23,
   "metadata": {},
   "outputs": [
    {
     "data": {
      "text/html": [
       "<div>\n",
       "<style scoped>\n",
       "    .dataframe tbody tr th:only-of-type {\n",
       "        vertical-align: middle;\n",
       "    }\n",
       "\n",
       "    .dataframe tbody tr th {\n",
       "        vertical-align: top;\n",
       "    }\n",
       "\n",
       "    .dataframe thead th {\n",
       "        text-align: right;\n",
       "    }\n",
       "</style>\n",
       "<table border=\"1\" class=\"dataframe\">\n",
       "  <thead>\n",
       "    <tr style=\"text-align: right;\">\n",
       "      <th></th>\n",
       "      <th>mes</th>\n",
       "      <th>score</th>\n",
       "    </tr>\n",
       "  </thead>\n",
       "  <tbody>\n",
       "    <tr>\n",
       "      <th>0</th>\n",
       "      <td>Ок. .. Пошел почитаю. .. С утром вас. .. Светит</td>\n",
       "      <td>3</td>\n",
       "    </tr>\n",
       "    <tr>\n",
       "      <th>1</th>\n",
       "      <td>Хорошо, вклад хочу открыть под максимальную ст...</td>\n",
       "      <td>3</td>\n",
       "    </tr>\n",
       "    <tr>\n",
       "      <th>2</th>\n",
       "      <td>Хочу вклад открыть под максимальную ставку</td>\n",
       "      <td>3</td>\n",
       "    </tr>\n",
       "    <tr>\n",
       "      <th>3</th>\n",
       "      <td>как я открыть могу открыть брокерский счет ?</td>\n",
       "      <td>3</td>\n",
       "    </tr>\n",
       "    <tr>\n",
       "      <th>4</th>\n",
       "      <td>как я открыть могу открыть брокерский счет ?</td>\n",
       "      <td>3</td>\n",
       "    </tr>\n",
       "  </tbody>\n",
       "</table>\n",
       "</div>"
      ],
      "text/plain": [
       "                                                 mes  score\n",
       "0    Ок. .. Пошел почитаю. .. С утром вас. .. Светит      3\n",
       "1  Хорошо, вклад хочу открыть под максимальную ст...      3\n",
       "2         Хочу вклад открыть под максимальную ставку      3\n",
       "3       как я открыть могу открыть брокерский счет ?      3\n",
       "4       как я открыть могу открыть брокерский счет ?      3"
      ]
     },
     "execution_count": 23,
     "metadata": {},
     "output_type": "execute_result"
    }
   ],
   "source": [
    "samples = pd.read_csv('samples_from_client_mes.csv', \n",
    "                      encoding='mac_cyrillic', \n",
    "                      delimiter=';', \n",
    "                      names=['mes', 'score'], \n",
    "                     skiprows=1)\n",
    "samples.score.fillna(value=3, inplace=True)\n",
    "samples.score.replace(to_replace={'полож':5, 'отриц':1, \"п\":5, \"о\":1}, inplace=True)\n",
    "samples.mes = samples.mes.str.replace('& amp, quo,', '')\n",
    "samples.head()"
   ]
  },
  {
   "cell_type": "code",
   "execution_count": 19,
   "metadata": {},
   "outputs": [],
   "source": [
    "import re\n",
    "import pymystem3\n",
    "import pandas as pd\n",
    "import requests\n",
    "import numpy as np\n",
    "from itertools import zip_longest\n",
    "from tqdm import tqdm\n",
    "\n",
    "class Sentiment(object):\n",
    "    \"\"\" path_to_corpus - путь к файлу с матерными словами\n",
    "    link - ссылка на API\n",
    "    default_scores - оценки нейросети в случае, если ни одно из слов ей не известно\n",
    "    source - на чем обучалась модель (foursquare.com; other)\n",
    "    batch_size - длина батча, подаваемого в нейросеть. Слишком малые значения замедляют выполнение\n",
    "    так как требуется инициализация нейросети при каждом обращении\n",
    "    \"\"\"\n",
    "    def __init__(self, path_to_corpus, link, \n",
    "                 default_scores = [0.156306222, 0.431913465, 0.411780267],\n",
    "                source='foursquare.com', \n",
    "                batch_size=2000):\n",
    "        self.obsc = pd.read_csv(path_to_corpus, header=None)[0].values\n",
    "        self.mstem = pymystem3.Mystem()\n",
    "        if link.endswith('/'):\n",
    "            self.link = link\n",
    "        else:\n",
    "            self.link = link + '/'\n",
    "        self.default_scores = default_scores # Оценки для случая, когда в строке нет ни одного слова, знакомого word2vec\n",
    "        self.source = source\n",
    "        self.batch_size = batch_size\n",
    "    \n",
    "    # Функция, позволяющая в цикле перебирать подмассивы по n значений вместо отдельных элементов\n",
    "    def _grouper(self, iterable, n, fillvalue=None):\n",
    "        args = [iter(iterable)] * n\n",
    "        return zip_longest(*args, fillvalue=fillvalue)\n",
    "    \n",
    "    # Проверка, есть ли нецензурные выражения в фразе\n",
    "    def is_obsc(self, s):\n",
    "        words = re.findall('\\w+', s.upper())\n",
    "        for w in words:\n",
    "            # Приведение к нормальной форме\n",
    "            a = self.mstem.analyze(w)\n",
    "            # try...except нужен, поскольку для некоторых слов анализ не проходит\n",
    "            try:\n",
    "                a = a[0]['analysis'][0]['lex'].upper()\n",
    "                if (w in self.obsc) or (a in self.obsc):\n",
    "                    return True\n",
    "            except IndexError:\n",
    "                print(w)\n",
    "        return False\n",
    "    \n",
    "    def predict_proba(self, s):\n",
    "        if not isinstance(s, (list, tuple)):\n",
    "            s = list(s)\n",
    "        scores = []\n",
    "        n = min(self.batch_size, len(s))\n",
    "        for mb in tqdm(self._grouper(s, n=n)):\n",
    "            data = {'text':mb, 'source':self.source}\n",
    "            res = requests.post(url=self.link + 'proba', data=data)\n",
    "            score = res.json()['proba']\n",
    "            scores.append(score)\n",
    "        if scores:\n",
    "            return np.vstack(scores)\n",
    "    \n",
    "    def predict(self, s):\n",
    "        probas = self.predict_proba(s)\n",
    "        #for mb in self._grouper(s, n=n):\n",
    "        scores = np.zeros(len(s))\n",
    "        for i in range(len(s)):\n",
    "            scores[i] = 3\n",
    "            if np.allclose(probas[i, :], self.default_scores, atol=1e-4):\n",
    "                if self.is_obsc(s[i]):\n",
    "                    scores[i] = 1\n",
    "                    #print('матюги')\n",
    "                else:\n",
    "                    scores[i] = 3\n",
    "                    #print('not known, not obscene')\n",
    "            else:\n",
    "                if probas[i, 2] > 0.5:\n",
    "                    #print('>0.5')\n",
    "                    scores[i] = 5\n",
    "                elif (probas[i, 0] > 0.2) and (probas[i, 2] < 0.3):\n",
    "                    # Критерий негатива: низкая вероятность позитива и не совсем маленькая вероятность негатива\n",
    "                    #print('>0.1')\n",
    "                    scores[i] = 1\n",
    "                else:\n",
    "                    #print('finally 3')\n",
    "                    scores[i] = 3\n",
    "        return scores\n",
    "        "
   ]
  },
  {
   "cell_type": "code",
   "execution_count": 20,
   "metadata": {},
   "outputs": [],
   "source": [
    "sentiment = Sentiment(path_to_corpus='obscene_corpus.txt', \n",
    "                     link = 'http://0.0.0.0:5000/api',\n",
    "                     source='foursquare.com')"
   ]
  },
  {
   "cell_type": "code",
   "execution_count": 21,
   "metadata": {},
   "outputs": [
    {
     "name": "stderr",
     "output_type": "stream",
     "text": [
      "1it [00:00, 45.63it/s]\n"
     ]
    },
    {
     "data": {
      "text/plain": [
       "array([3., 1., 1., 5.])"
      ]
     },
     "execution_count": 21,
     "metadata": {},
     "output_type": "execute_result"
    }
   ],
   "source": [
    "sentiment.predict(['привет!', 'иди нахуй', 'ты пидор', 'все отлично!'])"
   ]
  },
  {
   "cell_type": "code",
   "execution_count": 30,
   "metadata": {
    "scrolled": true
   },
   "outputs": [
    {
     "name": "stderr",
     "output_type": "stream",
     "text": [
      "8it [00:23,  2.94s/it]"
     ]
    },
    {
     "name": "stdout",
     "output_type": "stream",
     "text": [
      "(15696, 3)\n"
     ]
    },
    {
     "name": "stderr",
     "output_type": "stream",
     "text": [
      "\n"
     ]
    }
   ],
   "source": [
    "source = 'foursquare.com'\n",
    "from tqdm import tqdm_notebook\n",
    "#for mes in tqdm_notebook(grouper(samples['mes'].values, 2000)):\n",
    "scores = sentiment.predict_proba(samples['mes'].values)\n",
    "#scores.append(score)\n",
    "#scores_np = np.vstack(scores)\n",
    "scores_np = np.array(scores)\n",
    "print(scores_np.shape)"
   ]
  },
  {
   "cell_type": "code",
   "execution_count": 25,
   "metadata": {
    "scrolled": true
   },
   "outputs": [
    {
     "data": {
      "text/plain": [
       "array([0.02934735, 0.75145084, 0.39748335])"
      ]
     },
     "execution_count": 25,
     "metadata": {},
     "output_type": "execute_result"
    }
   ],
   "source": [
    "from sklearn.metrics import f1_score, precision_score, recall_score, confusion_matrix, roc_curve, roc_auc_score\n",
    "f1_score(samples.score.values, scores_np, average=None)"
   ]
  },
  {
   "cell_type": "code",
   "execution_count": 26,
   "metadata": {},
   "outputs": [
    {
     "data": {
      "text/plain": [
       "array([0.01498546, 0.98951965, 0.26004843])"
      ]
     },
     "execution_count": 26,
     "metadata": {},
     "output_type": "execute_result"
    }
   ],
   "source": [
    "precision_score(samples.score.values, scores_np, average=None)"
   ]
  },
  {
   "cell_type": "code",
   "execution_count": 27,
   "metadata": {},
   "outputs": [
    {
     "data": {
      "text/plain": [
       "array([0.70526316, 0.6057204 , 0.84301413])"
      ]
     },
     "execution_count": 27,
     "metadata": {},
     "output_type": "execute_result"
    }
   ],
   "source": [
    "recall_score(samples.score.values, scores_np, average=None)"
   ]
  },
  {
   "cell_type": "code",
   "execution_count": 28,
   "metadata": {},
   "outputs": [
    {
     "name": "stdout",
     "output_type": "stream",
     "text": [
      "[[  67   21    7]\n",
      " [4379 9064 1521]\n",
      " [  25   75  537]]\n"
     ]
    }
   ],
   "source": [
    "cm = confusion_matrix(samples.score.values, scores_np)\n",
    "#print(cm / cm.sum(axis=1).reshape(-1, 1))\n",
    "print(cm)"
   ]
  },
  {
   "cell_type": "code",
   "execution_count": 104,
   "metadata": {},
   "outputs": [
    {
     "data": {
      "text/plain": [
       "637"
      ]
     },
     "execution_count": 104,
     "metadata": {},
     "output_type": "execute_result"
    }
   ],
   "source": [
    "len(samples[samples.score == 5])"
   ]
  },
  {
   "cell_type": "code",
   "execution_count": 178,
   "metadata": {},
   "outputs": [],
   "source": [
    "is_5 = samples.score == 5\n",
    "is_3 = samples.score == 3\n",
    "is_1 = samples.score == 1"
   ]
  },
  {
   "cell_type": "code",
   "execution_count": 187,
   "metadata": {},
   "outputs": [],
   "source": [
    "import matplotlib.pyplot as plt\n",
    "%matplotlib inline"
   ]
  },
  {
   "cell_type": "code",
   "execution_count": 193,
   "metadata": {},
   "outputs": [
    {
     "name": "stdout",
     "output_type": "stream",
     "text": [
      "0.7855714377283507\n",
      "0.897084651615608\n",
      "0.9283370287231292\n"
     ]
    },
    {
     "data": {
      "text/plain": [
       "<matplotlib.legend.Legend at 0x1a224e6518>"
      ]
     },
     "execution_count": 193,
     "metadata": {},
     "output_type": "execute_result"
    },
    {
     "data": {
      "image/png": "[encoded data removed]",
      "text/plain": [
       "<matplotlib.figure.Figure at 0x1a22a01dd8>"
      ]
     },
     "metadata": {},
     "output_type": "display_data"
    }
   ],
   "source": [
    "legend = []\n",
    "for i, label in enumerate([1, 3, 5]):\n",
    "    y_true = samples.score == label\n",
    "    y_pred = scores_np[:, i]\n",
    "    fpr, tpr, _ = roc_curve(y_true, y_pred)\n",
    "    #plt.figure()\n",
    "    plt.plot(fpr, tpr)\n",
    "    #plt.title('ROC ' + str(label))\n",
    "    plt.grid()\n",
    "    legend.append(str(label))\n",
    "    print(roc_auc_score(y_true, y_pred))\n",
    "plt.legend(legend)"
   ]
  },
  {
   "cell_type": "code",
   "execution_count": 195,
   "metadata": {},
   "outputs": [
    {
     "data": {
      "text/plain": [
       "[<matplotlib.lines.Line2D at 0x1a22b9dfd0>]"
      ]
     },
     "execution_count": 195,
     "metadata": {},
     "output_type": "execute_result"
    },
    {
     "data": {
      "image/png": "[encoded data removed]",
      "text/plain": [
       "<matplotlib.figure.Figure at 0x1a229a2fd0>"
      ]
     },
     "metadata": {},
     "output_type": "display_data"
    }
   ],
   "source": [
    "plt.plot(roc_curve(y_true, y_pred)[2])"
   ]
  },
  {
   "cell_type": "code",
   "execution_count": 202,
   "metadata": {},
   "outputs": [],
   "source": [
    "import seaborn"
   ]
  },
  {
   "cell_type": "code",
   "execution_count": 34,
   "metadata": {},
   "outputs": [
    {
     "data": {
      "text/plain": [
       "Text(0,0.5,'$p_5$')"
      ]
     },
     "execution_count": 34,
     "metadata": {},
     "output_type": "execute_result"
    },
    {
     "data": {
      "image/png": "[encoded data removed]",
      "text/plain": [
       "<matplotlib.figure.Figure at 0x108a35710>"
      ]
     },
     "metadata": {},
     "output_type": "display_data"
    }
   ],
   "source": [
    "data = pd.DataFrame({'p1':scores_np[:, 0], 'p3':scores_np[:, 1], 'p5':scores_np[:, 2], 'score':samples.score.values})\n",
    "plt.figure(figsize=(15, 18))\n",
    "size = [3 + 30 * (x == 1) + 5 * (x == 5) for x in data.score]\n",
    "plt.scatter(data.p1, data.p5, c=data.score, s=size, alpha=0.4, cmap='winter')\n",
    "plt.xlabel('$p_1$', fontsize=15)\n",
    "plt.ylabel('$p_5$', fontsize=15)\n"
   ]
  },
  {
   "cell_type": "code",
   "execution_count": 7,
   "metadata": {},
   "outputs": [],
   "source": [
    "x = np.array([2, 3])\n",
    "y = x.copy()"
   ]
  },
  {
   "cell_type": "code",
   "execution_count": 8,
   "metadata": {},
   "outputs": [
    {
     "name": "stdout",
     "output_type": "stream",
     "text": [
      "[2 3]\n"
     ]
    }
   ],
   "source": [
    "y[0] = 10\n",
    "print(x)"
   ]
  },
  {
   "cell_type": "code",
   "execution_count": 13,
   "metadata": {},
   "outputs": [],
   "source": [
    "x = {'1':1, '2':2}\n",
    "y = x#.copy()\n"
   ]
  },
  {
   "cell_type": "code",
   "execution_count": 14,
   "metadata": {},
   "outputs": [
    {
     "name": "stdout",
     "output_type": "stream",
     "text": [
      "{'1': 100, '2': 2}\n"
     ]
    }
   ],
   "source": [
    "y['1'] = 100\n",
    "print(x)"
   ]
  },
  {
   "cell_type": "code",
   "execution_count": 35,
   "metadata": {},
   "outputs": [],
   "source": [
    "iterable = [1,2,3,4,5,6,7]"
   ]
  },
  {
   "cell_type": "code",
   "execution_count": 37,
   "metadata": {},
   "outputs": [
    {
     "data": {
      "text/plain": [
       "[<list_iterator at 0x10efda2e8>,\n",
       " <list_iterator at 0x10efda2e8>,\n",
       " <list_iterator at 0x10efda2e8>,\n",
       " <list_iterator at 0x10efda2e8>,\n",
       " <list_iterator at 0x10efda2e8>]"
      ]
     },
     "execution_count": 37,
     "metadata": {},
     "output_type": "execute_result"
    }
   ],
   "source": [
    "[iter(iterable)] * 5"
   ]
  },
  {
   "cell_type": "code",
   "execution_count": 39,
   "metadata": {},
   "outputs": [],
   "source": [
    "def _grouper(iterable, n, fillvalue=None):\n",
    "    args = [iter(iterable)] * n\n",
    "    return zip_longest(*args, fillvalue=fillvalue)"
   ]
  },
  {
   "cell_type": "code",
   "execution_count": 42,
   "metadata": {},
   "outputs": [
    {
     "name": "stdout",
     "output_type": "stream",
     "text": [
      "(0, 1, 2, 3, 4)\n",
      "(5, 6, 7, 8, 9)\n",
      "(10, 11, 12, 13, 14)\n",
      "(15, 16, 17, 18, 19)\n",
      "(20, 21, 22, 23, 24)\n",
      "(25, 26, 27, 28, 29)\n",
      "(30, 31, 32, 33, 34)\n",
      "(35, 36, 37, 38, 39)\n",
      "(40, 41, 42, 43, 44)\n",
      "(45, 46, 47, 48, 49)\n",
      "(50, 51, 52, 53, 54)\n",
      "(55, 56, 57, 58, 59)\n",
      "(60, 61, 62, 63, 64)\n",
      "(65, 66, 67, 68, 69)\n",
      "(70, 71, 72, 73, 74)\n",
      "(75, 76, 77, 78, 79)\n",
      "(80, 81, 82, 83, 84)\n",
      "(85, 86, 87, 88, 89)\n",
      "(90, 91, 92, 93, 94)\n",
      "(95, 96, 97, 98, 99)\n",
      "(100, None, None, None, None)\n"
     ]
    }
   ],
   "source": [
    "for x in _grouper(np.arange(101), 5):\n",
    "    print(x)"
   ]
  },
  {
   "cell_type": "code",
   "execution_count": null,
   "metadata": {},
   "outputs": [],
   "source": []
  }
 ],
 "metadata": {
  "kernelspec": {
   "display_name": "Python 3",
   "language": "python",
   "name": "python3"
  },
  "language_info": {
   "codemirror_mode": {
    "name": "ipython",
    "version": 3
   },
   "file_extension": ".py",
   "mimetype": "text/x-python",
   "name": "python",
   "nbconvert_exporter": "python",
   "pygments_lexer": "ipython3",
   "version": "3.6.4"
  }
 },
 "nbformat": 4,
 "nbformat_minor": 2
}
