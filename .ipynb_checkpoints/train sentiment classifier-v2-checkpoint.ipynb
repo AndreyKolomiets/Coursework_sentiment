{
 "cells": [
  {
   "cell_type": "code",
   "execution_count": 1,
   "metadata": {},
   "outputs": [],
   "source": [
    "import pandas as pd\n",
    "import numpy as np\n",
    "import matplotlib.pyplot as plt\n",
    "%matplotlib inline\n",
    "\n",
    "import torch\n",
    "from torch.autograd import Variable\n",
    "import torch.nn.functional as F\n",
    "import torch.nn as nn\n",
    "from torch.nn.utils.rnn import pack_padded_sequence, pad_packed_sequence\n",
    "use_gpu = torch.cuda.is_available()\n",
    "import gensim\n",
    "\n",
    "from tqdm import tqdm_notebook, trange\n",
    "\n",
    "from sklearn.model_selection import train_test_split\n",
    "from datetime import datetime\n",
    "\n",
    "from IPython.display import clear_output"
   ]
  },
  {
   "cell_type": "code",
   "execution_count": 2,
   "metadata": {},
   "outputs": [],
   "source": [
    "def iterate_minibatches(inputs, targets, batchsize, shuffle=False):\n",
    "    if shuffle: \n",
    "        indices = np.random.permutation(len(inputs))\n",
    "    for start_idx in trange(0, len(inputs) + 1, batchsize):\n",
    "        #print(start_idx)\n",
    "        #print(start_idx + batchsize)\n",
    "        if shuffle:\n",
    "            excerpt = indices[start_idx:start_idx + batchsize]\n",
    "        else:\n",
    "            excerpt = slice(start_idx, start_idx + batchsize)\n",
    "        yield inputs[excerpt], targets[excerpt]"
   ]
  },
  {
   "cell_type": "markdown",
   "metadata": {},
   "source": [
    "Протестируем iterate_minibatches. Готовая функция из семинаров немного косячила (не выдавала последнюю часть размера input_len % batch_size)"
   ]
  },
  {
   "cell_type": "code",
   "execution_count": 3,
   "metadata": {},
   "outputs": [
    {
     "name": "stderr",
     "output_type": "stream",
     "text": [
      "100%|██████████| 2/2 [00:00<00:00, 7847.15it/s]"
     ]
    },
    {
     "name": "stdout",
     "output_type": "stream",
     "text": [
      "(95, 5) (95,)\n",
      "(16, 5) (16,)\n"
     ]
    },
    {
     "name": "stderr",
     "output_type": "stream",
     "text": [
      "\n"
     ]
    }
   ],
   "source": [
    "XX = np.random.normal(size=(111, 5))\n",
    "YY = np.random.normal(size=111)\n",
    "for x_batch, y_batch in iterate_minibatches(XX, YY, 95):\n",
    "    print(x_batch.shape, y_batch.shape)"
   ]
  },
  {
   "cell_type": "code",
   "execution_count": 4,
   "metadata": {},
   "outputs": [
    {
     "name": "stderr",
     "output_type": "stream",
     "text": [
      "/Users/ak/anaconda3/lib/python3.6/site-packages/IPython/core/interactiveshell.py:2728: DtypeWarning: Columns (2) have mixed types. Specify dtype option on import or set low_memory=False.\n",
      "  interactivity=interactivity, compiler=compiler, result=result)\n"
     ]
    },
    {
     "data": {
      "text/html": [
       "<div>\n",
       "<style scoped>\n",
       "    .dataframe tbody tr th:only-of-type {\n",
       "        vertical-align: middle;\n",
       "    }\n",
       "\n",
       "    .dataframe tbody tr th {\n",
       "        vertical-align: top;\n",
       "    }\n",
       "\n",
       "    .dataframe thead th {\n",
       "        text-align: right;\n",
       "    }\n",
       "</style>\n",
       "<table border=\"1\" class=\"dataframe\">\n",
       "  <thead>\n",
       "    <tr style=\"text-align: right;\">\n",
       "      <th></th>\n",
       "      <th>Unnamed: 0</th>\n",
       "      <th>score</th>\n",
       "      <th>source</th>\n",
       "      <th>text</th>\n",
       "      <th>text_normalized</th>\n",
       "      <th>len</th>\n",
       "    </tr>\n",
       "  </thead>\n",
       "  <tbody>\n",
       "    <tr>\n",
       "      <th>0</th>\n",
       "      <td>0</td>\n",
       "      <td>5</td>\n",
       "      <td>foursquare</td>\n",
       "      <td>2 рабочих места, выделенное рабочее место по к...</td>\n",
       "      <td>рабочий место выделять рабочий место кредит касса</td>\n",
       "      <td>7</td>\n",
       "    </tr>\n",
       "    <tr>\n",
       "      <th>1</th>\n",
       "      <td>1</td>\n",
       "      <td>5</td>\n",
       "      <td>foursquare</td>\n",
       "      <td>pos-терминал, сенсорный экран для управления \"...</td>\n",
       "      <td>pos терминал сенсорный экран для управление сб...</td>\n",
       "      <td>12</td>\n",
       "    </tr>\n",
       "    <tr>\n",
       "      <th>2</th>\n",
       "      <td>2</td>\n",
       "      <td>5</td>\n",
       "      <td>foursquare</td>\n",
       "      <td>очереди имеются.</td>\n",
       "      <td>очередь иметься</td>\n",
       "      <td>2</td>\n",
       "    </tr>\n",
       "    <tr>\n",
       "      <th>3</th>\n",
       "      <td>3</td>\n",
       "      <td>5</td>\n",
       "      <td>foursquare</td>\n",
       "      <td>free wi-fi \"tattelecom_unlim\" :) good while wa...</td>\n",
       "      <td>free wi fi tattelecom good while waiting</td>\n",
       "      <td>7</td>\n",
       "    </tr>\n",
       "    <tr>\n",
       "      <th>4</th>\n",
       "      <td>4</td>\n",
       "      <td>5</td>\n",
       "      <td>foursquare</td>\n",
       "      <td>so pretty interior though</td>\n",
       "      <td>so pretty interior though</td>\n",
       "      <td>4</td>\n",
       "    </tr>\n",
       "  </tbody>\n",
       "</table>\n",
       "</div>"
      ],
      "text/plain": [
       "   Unnamed: 0  score      source  \\\n",
       "0           0      5  foursquare   \n",
       "1           1      5  foursquare   \n",
       "2           2      5  foursquare   \n",
       "3           3      5  foursquare   \n",
       "4           4      5  foursquare   \n",
       "\n",
       "                                                text  \\\n",
       "0  2 рабочих места, выделенное рабочее место по к...   \n",
       "1  pos-терминал, сенсорный экран для управления \"...   \n",
       "2                                   очереди имеются.   \n",
       "3  free wi-fi \"tattelecom_unlim\" :) good while wa...   \n",
       "4                          so pretty interior though   \n",
       "\n",
       "                                     text_normalized  len  \n",
       "0  рабочий место выделять рабочий место кредит касса    7  \n",
       "1  pos терминал сенсорный экран для управление сб...   12  \n",
       "2                                    очередь иметься    2  \n",
       "3           free wi fi tattelecom good while waiting    7  \n",
       "4                          so pretty interior though    4  "
      ]
     },
     "execution_count": 4,
     "metadata": {},
     "output_type": "execute_result"
    }
   ],
   "source": [
    "data = pd.read_csv('all_data_normalized.csv')\n",
    "data.head()"
   ]
  },
  {
   "cell_type": "code",
   "execution_count": 5,
   "metadata": {},
   "outputs": [],
   "source": [
    "import sys\n",
    "sys.path.append('/Users/ak/Yandex.Disk.localized/sentiment-neural_past_from_Denis_Kirjanov/src')"
   ]
  },
  {
   "cell_type": "code",
   "execution_count": 6,
   "metadata": {},
   "outputs": [],
   "source": [
    "root_path = '/Users/ak/Yandex.Disk.localized/Магистратура ВШЭ/Chat_word_autofill/'\n",
    "embedding_model = gensim.models.Word2Vec\n",
    "embedding_model = embedding_model.load(root_path + 'model_normalized_with_chats_2.bin')"
   ]
  },
  {
   "cell_type": "markdown",
   "metadata": {},
   "source": [
    "Уберем строки, в которых после нормализации нет ни одного слова"
   ]
  },
  {
   "cell_type": "code",
   "execution_count": 7,
   "metadata": {},
   "outputs": [],
   "source": [
    "data = data[data['len'] > 0]"
   ]
  },
  {
   "cell_type": "code",
   "execution_count": 8,
   "metadata": {
    "scrolled": true
   },
   "outputs": [
    {
     "data": {
      "text/plain": [
       "1    262789\n",
       "5    124411\n",
       "3    116753\n",
       "2     52459\n",
       "4     18975\n",
       "0         3\n",
       "Name: score, dtype: int64"
      ]
     },
     "execution_count": 8,
     "metadata": {},
     "output_type": "execute_result"
    }
   ],
   "source": [
    "data.score.value_counts(dropna=False)"
   ]
  },
  {
   "cell_type": "markdown",
   "metadata": {},
   "source": [
    "Уберем из данных тексты с промежуточными оценками. Можно было бы и распределить по оставшимся, но это неоднозначное решение"
   ]
  },
  {
   "cell_type": "code",
   "execution_count": 9,
   "metadata": {},
   "outputs": [],
   "source": [
    "data = data[data.score.isin([1, 3, 5])]"
   ]
  },
  {
   "cell_type": "code",
   "execution_count": 10,
   "metadata": {},
   "outputs": [
    {
     "data": {
      "text/plain": [
       "1    262789\n",
       "5    124411\n",
       "3    116753\n",
       "Name: score, dtype: int64"
      ]
     },
     "execution_count": 10,
     "metadata": {},
     "output_type": "execute_result"
    }
   ],
   "source": [
    "data.score.value_counts()"
   ]
  },
  {
   "cell_type": "code",
   "execution_count": 11,
   "metadata": {},
   "outputs": [],
   "source": [
    "data.dropna(inplace=True, subset=['text_normalized'])"
   ]
  },
  {
   "cell_type": "markdown",
   "metadata": {},
   "source": [
    "Для удобства работы сортируем датафрейм"
   ]
  },
  {
   "cell_type": "code",
   "execution_count": 12,
   "metadata": {},
   "outputs": [],
   "source": [
    "data.sort_values(by=['len'], ascending=False, inplace=True)"
   ]
  },
  {
   "cell_type": "markdown",
   "metadata": {},
   "source": [
    "Заменим метки классов на 0,1,2 (возможно, ошибки Pytorch связаны именно с этим)"
   ]
  },
  {
   "cell_type": "code",
   "execution_count": 13,
   "metadata": {},
   "outputs": [],
   "source": [
    "mapping = {1:0, 3:1, 5:2}\n",
    "data.score = data.score.replace(mapping)"
   ]
  },
  {
   "cell_type": "code",
   "execution_count": 14,
   "metadata": {},
   "outputs": [
    {
     "data": {
      "text/html": [
       "<div>\n",
       "<style scoped>\n",
       "    .dataframe tbody tr th:only-of-type {\n",
       "        vertical-align: middle;\n",
       "    }\n",
       "\n",
       "    .dataframe tbody tr th {\n",
       "        vertical-align: top;\n",
       "    }\n",
       "\n",
       "    .dataframe thead th {\n",
       "        text-align: right;\n",
       "    }\n",
       "</style>\n",
       "<table border=\"1\" class=\"dataframe\">\n",
       "  <thead>\n",
       "    <tr style=\"text-align: right;\">\n",
       "      <th></th>\n",
       "      <th>Unnamed: 0</th>\n",
       "      <th>score</th>\n",
       "      <th>source</th>\n",
       "      <th>text</th>\n",
       "      <th>text_normalized</th>\n",
       "      <th>len</th>\n",
       "    </tr>\n",
       "  </thead>\n",
       "  <tbody>\n",
       "    <tr>\n",
       "      <th>207793</th>\n",
       "      <td>207793</td>\n",
       "      <td>1</td>\n",
       "      <td>NaN</td>\n",
       "      <td>меховые тренды 2016 скачать фильм волк одиноч...</td>\n",
       "      <td>меховой тренд скачать фильм волк одиночка чере...</td>\n",
       "      <td>619</td>\n",
       "    </tr>\n",
       "    <tr>\n",
       "      <th>214877</th>\n",
       "      <td>214877</td>\n",
       "      <td>1</td>\n",
       "      <td>NaN</td>\n",
       "      <td>земфира волк одиночка картинки на аву для пац...</td>\n",
       "      <td>земфира волк одиночка картинка ава для пацан г...</td>\n",
       "      <td>615</td>\n",
       "    </tr>\n",
       "    <tr>\n",
       "      <th>210065</th>\n",
       "      <td>210065</td>\n",
       "      <td>1</td>\n",
       "      <td>NaN</td>\n",
       "      <td>утро прикол оригинальный подарок парню 14 рус...</td>\n",
       "      <td>утро прикол оригинальный подарок парень русско...</td>\n",
       "      <td>611</td>\n",
       "    </tr>\n",
       "    <tr>\n",
       "      <th>209792</th>\n",
       "      <td>209792</td>\n",
       "      <td>1</td>\n",
       "      <td>NaN</td>\n",
       "      <td>приколы банкой парень продает подарки от деву...</td>\n",
       "      <td>прикол банка парень продавать подарок девушка ...</td>\n",
       "      <td>611</td>\n",
       "    </tr>\n",
       "    <tr>\n",
       "      <th>210314</th>\n",
       "      <td>210314</td>\n",
       "      <td>1</td>\n",
       "      <td>NaN</td>\n",
       "      <td>приколы 18 плюс откровенно тренды детской мод...</td>\n",
       "      <td>прикол плюс откровенно тренд детский мода паца...</td>\n",
       "      <td>611</td>\n",
       "    </tr>\n",
       "  </tbody>\n",
       "</table>\n",
       "</div>"
      ],
      "text/plain": [
       "        Unnamed: 0  score source  \\\n",
       "207793      207793      1    NaN   \n",
       "214877      214877      1    NaN   \n",
       "210065      210065      1    NaN   \n",
       "209792      209792      1    NaN   \n",
       "210314      210314      1    NaN   \n",
       "\n",
       "                                                     text  \\\n",
       "207793   меховые тренды 2016 скачать фильм волк одиноч...   \n",
       "214877   земфира волк одиночка картинки на аву для пац...   \n",
       "210065   утро прикол оригинальный подарок парню 14 рус...   \n",
       "209792   приколы банкой парень продает подарки от деву...   \n",
       "210314   приколы 18 плюс откровенно тренды детской мод...   \n",
       "\n",
       "                                          text_normalized  len  \n",
       "207793  меховой тренд скачать фильм волк одиночка чере...  619  \n",
       "214877  земфира волк одиночка картинка ава для пацан г...  615  \n",
       "210065  утро прикол оригинальный подарок парень русско...  611  \n",
       "209792  прикол банка парень продавать подарок девушка ...  611  \n",
       "210314  прикол плюс откровенно тренд детский мода паца...  611  "
      ]
     },
     "execution_count": 14,
     "metadata": {},
     "output_type": "execute_result"
    }
   ],
   "source": [
    "data.head()"
   ]
  },
  {
   "cell_type": "markdown",
   "metadata": {},
   "source": [
    "Собственно модель"
   ]
  },
  {
   "cell_type": "code",
   "execution_count": 15,
   "metadata": {},
   "outputs": [],
   "source": [
    "class SentimentRNN(nn.Module):\n",
    "    def __init__(self, input_size, hidden_size, output_size, n_layers, cell='rnn'):\n",
    "        super(SentimentRNN, self).__init__()\n",
    "        self.hidden_size = hidden_size\n",
    "        self.n_layers = n_layers\n",
    "        self.cell = cell\n",
    "        cell = cell.lower()\n",
    "        if cell == \"rnn\":\n",
    "            self.rnn = nn.RNN(input_size, hidden_size, n_layers)\n",
    "        elif cell == 'lstm':\n",
    "            self.rnn = nn.LSTM(input_size, hidden_size, n_layers)\n",
    "        elif cell == 'gru':\n",
    "            self.rnn = nn.GRU(input_size, hidden_size, n_layers)\n",
    "        else:\n",
    "            raise ValueError('Тип ячейки должен быть lstm, gru или rnn')\n",
    "        self.decoder = nn.Linear(hidden_size, output_size)\n",
    "        self.output_size = output_size\n",
    "        self.grad_ih = None\n",
    "        self.grad_hh = None\n",
    "        \n",
    "    def forward(self, input, hidden):\n",
    "        # print(type(input.data), type(hidden.data))\n",
    "        #print('input shape:', input.shape, '  hidden shape:', hidden.shape)\n",
    "        output, hidden = self.rnn(input, hidden)\n",
    "        #res = self.decoder(output)\n",
    "        #return res.view(-1, self.output_size), hidden\n",
    "        return output, hidden\n",
    "    \n",
    "    def init_hidden(self, batch_size):\n",
    "        hidden = Variable(torch.zeros(self.n_layers, batch_size, self.hidden_size))\n",
    "        if self.cell == \"lstm\":\n",
    "            c0 = Variable(torch.randn(self.n_layers, batch_size, self.hidden_size))\n",
    "            return (hidden, c0)\n",
    "        return hidden\n",
    "    \n",
    "    # Метод для поиска l2-норм градиентов\n",
    "    # Веса каждого слоя хранятся в своём атрибуте, для извлечения в цикле нужен getattr\n",
    "    def get_grad_norms(self):\n",
    "        grads_ih = np.zeros(self.n_layers)\n",
    "        grads_hh = np.zeros(self.n_layers)\n",
    "        for i in range(self.n_layers):\n",
    "            weight_ih = getattr(self.rnn, 'weight_ih_l'+str(i))\n",
    "            ih_norm = torch.norm(weight_ih.grad.view(-1, 1), p=2, dim=0).data.numpy()[0]\n",
    "            grads_ih[i] = ih_norm\n",
    "            \n",
    "            weight_hh = getattr(self.rnn, 'weight_hh_l'+str(i))\n",
    "            grads_hh[i] = torch.norm(weight_hh.grad.view(-1, 1), p=2, dim=0).data.numpy()[0]\n",
    "        return grads_ih, grads_hh\n",
    "    \n",
    "    def predict_proba(self, x, hidden):\n",
    "        out, _ = self.forward(x, hidden)\n",
    "        probas = F.softmax(out, dim=1)\n",
    "        return probas"
   ]
  },
  {
   "cell_type": "markdown",
   "metadata": {},
   "source": [
    "Функция, преобразующая список предложений в word2vec "
   ]
  },
  {
   "cell_type": "code",
   "execution_count": 16,
   "metadata": {},
   "outputs": [],
   "source": [
    "def embed(sentences, embedder):\n",
    "    l = len(sentences[0].split())\n",
    "    n = embedder.wv.vector_size\n",
    "    bs = len(sentences)\n",
    "    res = np.zeros([l, bs, n])\n",
    "    # Вектор для неизвестных классификатору слов\n",
    "    unknown = np.ones(embedding_size).astype('float32') * 7\n",
    "    for i in range(bs):\n",
    "        words = sentences[i].split()\n",
    "        for j in range(l):\n",
    "            try:\n",
    "                res[j, i, :] = embedder.wv[words[j]]\n",
    "            except KeyError:\n",
    "                res[j, i, :] = unknown\n",
    "    return res"
   ]
  },
  {
   "cell_type": "markdown",
   "metadata": {},
   "source": [
    "Поскольку разобраться с pack_padded_sequences пока не удалось, то будем подавать батчи из предложений одинаковой длины, начиная с самых длинных"
   ]
  },
  {
   "cell_type": "code",
   "execution_count": 17,
   "metadata": {},
   "outputs": [],
   "source": [
    "def train_epoch(model, optimizer, inputs, targets):\n",
    "    loss_log = []\n",
    "    model.train()\n",
    "    #print('batch_size: ', batch_size)\n",
    "    for X, y in iterate_minibatches(inputs, targets, batch_size, shuffle=True):\n",
    "        t_start = datetime.now()\n",
    "        x_batch = embed(X, embedding_model)\n",
    "        #print(np.unique(y))\n",
    "        #print('Time to embed:', datetime.now() - t_start)\n",
    "        t_start = datetime.now()\n",
    "        if use_gpu:\n",
    "            x_batch = Variable(torch.from_numpy(x_batch).type(torch.FloatTensor).cuda())\n",
    "            y_batch = Variable(torch.from_numpy(y_batch).cuda())\n",
    "        else:\n",
    "            x_batch = Variable(torch.from_numpy(x_batch).type(torch.FloatTensor))\n",
    "            y_batch = Variable(torch.from_numpy(y))\n",
    "        #print('Time to make variables:', datetime.now() - t_start)\n",
    "        #print('batch shape:', x_batch.shape)\n",
    "        hidden = model.init_hidden(x_batch.size(1))\n",
    "        #print('hidden shape:', hidden.shape, '  x shape:', x_batch.shape, '  y shape:', y_batch.shape)\n",
    "        optimizer.zero_grad()\n",
    "        loss = 0.0\n",
    "        t_start = datetime.now()\n",
    "        for i in range(x_batch.shape[0]):\n",
    "            out, hidden = model.forward(x_batch[i, ...].view(1, x_batch.shape[1], x_batch.shape[2]), hidden)\n",
    "            #print(out.shape, hidden.shape)\n",
    "        res = model.decoder(out)\n",
    "        \n",
    "        loss = F.cross_entropy(res.view(-1, model.output_size), y_batch)\n",
    "        #out, hidden = model.forward(x_batch, hidden)\n",
    "        \n",
    "        #print(out.shape, hidden.shape, y_batch.shape)\n",
    "        # loss += F.cross_entropy(out, y_batch)\n",
    "        #print('Time to forward propagation:', datetime.now() - t_start)\n",
    "        t_start = datetime.now()\n",
    "        loss.backward()\n",
    "        #print('Time to backprop:', datetime.now() - t_start)\n",
    "        t_start = datetime.now()\n",
    "        optimizer.step()\n",
    "        #print('Time to optimizer step:', datetime.now() - t_start)\n",
    "        loss = loss.data[0]\n",
    "        loss_log.append(loss)\n",
    "    return loss_log   \n",
    "\n",
    "def test(model, inputs, targets):\n",
    "    loss_log = []\n",
    "    model.eval()\n",
    "    for X, y in iterate_minibatches(inputs, targets, batch_size):\n",
    "        x_batch = embed(X, embedding_model)\n",
    "        if use_gpu:\n",
    "            x_batch = Variable(torch.from_numpy(x_batch).type(torch.FloatTensor).cuda())\n",
    "            y_batch = Variable(torch.from_numpy(y_batch).cuda())\n",
    "        else:\n",
    "            x_batch = Variable(torch.from_numpy(x_batch).type(torch.FloatTensor))\n",
    "            y_batch = Variable(torch.from_numpy(y))\n",
    "        hidden = model.init_hidden(x_batch.shape[1])\n",
    "        loss = 0.0\n",
    "        for i in range(x_batch.shape[0]):\n",
    "            out, hidden = model.forward(x_batch[i, ...].view(1, x_batch.shape[1], x_batch.shape[2]), hidden)\n",
    "        res = model.decoder(out)\n",
    "        loss = F.cross_entropy(res.view(-1, model.output_size), y_batch)\n",
    "        #out, hidden = model.forward(x_batch, hidden)\n",
    "        #loss += F.cross_entropy(out, y_batch)\n",
    "        loss = loss.data[0]\n",
    "        loss_log.append(loss)\n",
    "    return loss_log\n",
    "\n",
    "def plot_history(train_history, val_history, title='loss'):\n",
    "    plt.figure()\n",
    "    plt.title('{}'.format(title))\n",
    "    plt.plot(train_history, label='train', zorder=1)    \n",
    "    points = np.array(val_history)\n",
    "\n",
    "    plt.scatter(points[:, 0], points[:, 1], marker='+', s=180, c='orange', label='val', zorder=2)\n",
    "\n",
    "    plt.xlabel('train steps')\n",
    "    plt.legend(loc='best')\n",
    "    plt.grid()\n",
    "    plt.show()\n",
    "    \n",
    "def train(model, opt, n_epochs):\n",
    "    unique_lengths = np.unique([min(x, max_length) for x in data['len'].unique()])\n",
    "    #lengths = data['len'].values\n",
    "    # Индексы, в которых появляются новые длины\n",
    "    #change_indices = np.where(np.diff(lengths) < 0)[0] + 1\n",
    "    \n",
    "    train_log = []\n",
    "    val_log = []\n",
    "    steps = 0\n",
    "    # Сюда будем писать нормы градиентов\n",
    "    grads_ih = np.zeros([len(unique_lengths) * n_epochs, model.n_layers])\n",
    "    print(grads_ih.shape)\n",
    "    grads_hh = np.zeros([len(unique_lengths) * n_epochs, model.n_layers])\n",
    "    for epoch in range(n_epochs):\n",
    "        for i, ul in enumerate(np.random.permutation(unique_lengths)):\n",
    "            data_cur = data[data['len'] == ul]\n",
    "            print('Length:', ul)\n",
    "            X = data_cur.text_normalized.values\n",
    "            y = data_cur.score.values\n",
    "            X_train, X_test, y_train, y_test = train_test_split(X, y, test_size=0.33, random_state=234769)\n",
    "            #print('data shape:', X_train.shape, X_test.shape)\n",
    "            steps += X_train.shape[0] / batch_size\n",
    "            train_loss = train_epoch(model, opt, X_train, y_train)\n",
    "            train_log.extend(train_loss)\n",
    "\n",
    "            val_loss = test(model, X_test, y_test)\n",
    "            val_log.append((steps, np.mean(val_loss)))\n",
    "            clear_output()\n",
    "            plot_history(train_log, val_log)\n",
    "            #Собственно получение градиентов\n",
    "            grad_ih, grad_hh = model.get_grad_norms()\n",
    "            grads_ih[i * (epoch + 1), :] = grad_ih\n",
    "            grads_hh[i * (epoch + 1), :] = grad_hh\n",
    "    model.grad_ih = grads_ih\n",
    "    model.grad_hh = grads_hh\n",
    "    return train_log, val_log"
   ]
  },
  {
   "cell_type": "markdown",
   "metadata": {},
   "source": [
    "Выбираем максимальную длину предложения. Критерий - должны быть учтены 99% предложений"
   ]
  },
  {
   "cell_type": "code",
   "execution_count": 18,
   "metadata": {},
   "outputs": [
    {
     "data": {
      "text/plain": [
       "32"
      ]
     },
     "execution_count": 18,
     "metadata": {},
     "output_type": "execute_result"
    }
   ],
   "source": [
    "max_length = int(np.percentile(data['len'], 99))\n",
    "max_length"
   ]
  },
  {
   "cell_type": "code",
   "execution_count": 20,
   "metadata": {},
   "outputs": [
    {
     "data": {
      "image/png": "[encoded data removed]",
      "text/plain": [
       "<matplotlib.figure.Figure at 0x1a1d7f2438>"
      ]
     },
     "metadata": {},
     "output_type": "display_data"
    },
    {
     "name": "stderr",
     "output_type": "stream",
     "text": [
      "\r",
      "  0%|          | 0/20 [00:00<?, ?it/s]"
     ]
    },
    {
     "name": "stdout",
     "output_type": "stream",
     "text": [
      "Length: 8\n"
     ]
    },
    {
     "name": "stderr",
     "output_type": "stream",
     "text": [
      " 90%|█████████ | 18/20 [00:12<00:01,  1.41it/s]"
     ]
    },
    {
     "ename": "KeyboardInterrupt",
     "evalue": "",
     "output_type": "error",
     "traceback": [
      "\u001b[0;31m---------------------------------------------------------------------------\u001b[0m",
      "\u001b[0;31mKeyboardInterrupt\u001b[0m                         Traceback (most recent call last)",
      "\u001b[0;32m<timed exec>\u001b[0m in \u001b[0;36m<module>\u001b[0;34m()\u001b[0m\n",
      "\u001b[0;32m<ipython-input-17-f099c74ca906>\u001b[0m in \u001b[0;36mtrain\u001b[0;34m(model, opt, n_epochs)\u001b[0m\n\u001b[1;32m    101\u001b[0m             \u001b[0;31m#print('data shape:', X_train.shape, X_test.shape)\u001b[0m\u001b[0;34m\u001b[0m\u001b[0;34m\u001b[0m\u001b[0m\n\u001b[1;32m    102\u001b[0m             \u001b[0msteps\u001b[0m \u001b[0;34m+=\u001b[0m \u001b[0mX_train\u001b[0m\u001b[0;34m.\u001b[0m\u001b[0mshape\u001b[0m\u001b[0;34m[\u001b[0m\u001b[0;36m0\u001b[0m\u001b[0;34m]\u001b[0m \u001b[0;34m/\u001b[0m \u001b[0mbatch_size\u001b[0m\u001b[0;34m\u001b[0m\u001b[0m\n\u001b[0;32m--> 103\u001b[0;31m             \u001b[0mtrain_loss\u001b[0m \u001b[0;34m=\u001b[0m \u001b[0mtrain_epoch\u001b[0m\u001b[0;34m(\u001b[0m\u001b[0mmodel\u001b[0m\u001b[0;34m,\u001b[0m \u001b[0mopt\u001b[0m\u001b[0;34m,\u001b[0m \u001b[0mX_train\u001b[0m\u001b[0;34m,\u001b[0m \u001b[0my_train\u001b[0m\u001b[0;34m)\u001b[0m\u001b[0;34m\u001b[0m\u001b[0m\n\u001b[0m\u001b[1;32m    104\u001b[0m             \u001b[0mtrain_log\u001b[0m\u001b[0;34m.\u001b[0m\u001b[0mextend\u001b[0m\u001b[0;34m(\u001b[0m\u001b[0mtrain_loss\u001b[0m\u001b[0;34m)\u001b[0m\u001b[0;34m\u001b[0m\u001b[0m\n\u001b[1;32m    105\u001b[0m \u001b[0;34m\u001b[0m\u001b[0m\n",
      "\u001b[0;32m<ipython-input-17-f099c74ca906>\u001b[0m in \u001b[0;36mtrain_epoch\u001b[0;34m(model, optimizer, inputs, targets)\u001b[0m\n\u001b[1;32m     34\u001b[0m         \u001b[0;31m#print('Time to forward propagation:', datetime.now() - t_start)\u001b[0m\u001b[0;34m\u001b[0m\u001b[0;34m\u001b[0m\u001b[0m\n\u001b[1;32m     35\u001b[0m         \u001b[0mt_start\u001b[0m \u001b[0;34m=\u001b[0m \u001b[0mdatetime\u001b[0m\u001b[0;34m.\u001b[0m\u001b[0mnow\u001b[0m\u001b[0;34m(\u001b[0m\u001b[0;34m)\u001b[0m\u001b[0;34m\u001b[0m\u001b[0m\n\u001b[0;32m---> 36\u001b[0;31m         \u001b[0mloss\u001b[0m\u001b[0;34m.\u001b[0m\u001b[0mbackward\u001b[0m\u001b[0;34m(\u001b[0m\u001b[0;34m)\u001b[0m\u001b[0;34m\u001b[0m\u001b[0m\n\u001b[0m\u001b[1;32m     37\u001b[0m         \u001b[0;31m#print('Time to backprop:', datetime.now() - t_start)\u001b[0m\u001b[0;34m\u001b[0m\u001b[0;34m\u001b[0m\u001b[0m\n\u001b[1;32m     38\u001b[0m         \u001b[0mt_start\u001b[0m \u001b[0;34m=\u001b[0m \u001b[0mdatetime\u001b[0m\u001b[0;34m.\u001b[0m\u001b[0mnow\u001b[0m\u001b[0;34m(\u001b[0m\u001b[0;34m)\u001b[0m\u001b[0;34m\u001b[0m\u001b[0m\n",
      "\u001b[0;32m~/anaconda3/lib/python3.6/site-packages/torch/autograd/variable.py\u001b[0m in \u001b[0;36mbackward\u001b[0;34m(self, gradient, retain_graph, create_graph, retain_variables)\u001b[0m\n\u001b[1;32m    165\u001b[0m                 \u001b[0mVariable\u001b[0m\u001b[0;34m.\u001b[0m\u001b[0;34m\u001b[0m\u001b[0m\n\u001b[1;32m    166\u001b[0m         \"\"\"\n\u001b[0;32m--> 167\u001b[0;31m         \u001b[0mtorch\u001b[0m\u001b[0;34m.\u001b[0m\u001b[0mautograd\u001b[0m\u001b[0;34m.\u001b[0m\u001b[0mbackward\u001b[0m\u001b[0;34m(\u001b[0m\u001b[0mself\u001b[0m\u001b[0;34m,\u001b[0m \u001b[0mgradient\u001b[0m\u001b[0;34m,\u001b[0m \u001b[0mretain_graph\u001b[0m\u001b[0;34m,\u001b[0m \u001b[0mcreate_graph\u001b[0m\u001b[0;34m,\u001b[0m \u001b[0mretain_variables\u001b[0m\u001b[0;34m)\u001b[0m\u001b[0;34m\u001b[0m\u001b[0m\n\u001b[0m\u001b[1;32m    168\u001b[0m \u001b[0;34m\u001b[0m\u001b[0m\n\u001b[1;32m    169\u001b[0m     \u001b[0;32mdef\u001b[0m \u001b[0mregister_hook\u001b[0m\u001b[0;34m(\u001b[0m\u001b[0mself\u001b[0m\u001b[0;34m,\u001b[0m \u001b[0mhook\u001b[0m\u001b[0;34m)\u001b[0m\u001b[0;34m:\u001b[0m\u001b[0;34m\u001b[0m\u001b[0m\n",
      "\u001b[0;32m~/anaconda3/lib/python3.6/site-packages/torch/autograd/__init__.py\u001b[0m in \u001b[0;36mbackward\u001b[0;34m(variables, grad_variables, retain_graph, create_graph, retain_variables)\u001b[0m\n\u001b[1;32m     97\u001b[0m \u001b[0;34m\u001b[0m\u001b[0m\n\u001b[1;32m     98\u001b[0m     Variable._execution_engine.run_backward(\n\u001b[0;32m---> 99\u001b[0;31m         variables, grad_variables, retain_graph)\n\u001b[0m\u001b[1;32m    100\u001b[0m \u001b[0;34m\u001b[0m\u001b[0m\n\u001b[1;32m    101\u001b[0m \u001b[0;34m\u001b[0m\u001b[0m\n",
      "\u001b[0;31mKeyboardInterrupt\u001b[0m: "
     ]
    }
   ],
   "source": [
    "%%time\n",
    "CUTOFF = int(1e4)\n",
    "lengths = data['len'].values[:CUTOFF]\n",
    "n_layers = 2\n",
    "batch_size = 1024\n",
    "hidden_size = 250\n",
    "output_size = 3\n",
    "embedding_size = embedding_model.wv.vector_size\n",
    "n_epochs = 1\n",
    "ver = 5\n",
    "\n",
    "model = SentimentRNN(embedding_size, hidden_size, output_size, n_layers, cell='gru')\n",
    "if use_gpu:\n",
    "    model = model.cuda()\n",
    "\n",
    "opt = torch.optim.Adam(model.parameters(), lr=1e-4)\n",
    "train_log, val_log = train(model, opt, n_epochs)\n",
    "torch.save(model.state_dict(), 'sentiment_clf_%i.pth'%ver)"
   ]
  },
  {
   "cell_type": "code",
   "execution_count": 23,
   "metadata": {
    "scrolled": true
   },
   "outputs": [
    {
     "data": {
      "text/plain": [
       "[(2.2578125, 1.0504193305969238),\n",
       " (3.232421875, 1.035680890083313),\n",
       " (25.8388671875, 0.8663371751705805),\n",
       " (51.037109375, 0.8360663193922776),\n",
       " (65.591796875, 0.8119993358850479),\n",
       " (68.751953125, 0.7846154570579529),\n",
       " (71.6025390625, 0.7901772856712341),\n",
       " (82.1767578125, 0.7972152928511301),\n",
       " (109.333984375, 0.8266998529434204),\n",
       " (139.66796875, 0.8331708192825318),\n",
       " (146.158203125, 0.8033146411180496),\n",
       " (158.4248046875, 0.8157366343906948),\n",
       " (159.287109375, 0.7027980089187622),\n",
       " (161.1982421875, 0.7443920373916626),\n",
       " (161.8935546875, 0.6804352402687073),\n",
       " (178.58984375, 0.7948596080144247),\n",
       " (208.427734375, 0.8132509032885233),\n",
       " (216.07421875, 0.7872837483882904),\n",
       " (217.234375, 0.7638715505599976),\n",
       " (217.669921875, 0.743122935295105),\n",
       " (226.8251953125, 0.7678628206253052),\n",
       " (247.69921875, 0.9235202344981107),\n",
       " (248.259765625, 0.7711009383201599),\n",
       " (253.9404296875, 0.7771064837773641),\n",
       " (255.2734375, 0.8176019191741943),\n",
       " (256.8623046875, 0.7924030423164368),\n",
       " (257.5185546875, 0.7876284718513489),\n",
       " (286.4716796875, 0.8529151360193888),\n",
       " (291.0537109375, 0.7420196135838827),\n",
       " (294.966796875, 0.794755756855011),\n",
       " (314.623046875, 0.7893056035041809),\n",
       " (315.0078125, 0.7652707099914551)]"
      ]
     },
     "execution_count": 23,
     "metadata": {},
     "output_type": "execute_result"
    }
   ],
   "source": [
    "val_log"
   ]
  },
  {
   "cell_type": "code",
   "execution_count": 24,
   "metadata": {},
   "outputs": [
    {
     "data": {
      "text/plain": [
       "array([619, 615, 611, 610, 608, 604, 601, 599, 598, 595, 591, 590, 589,\n",
       "       588, 585, 583, 582, 576, 575, 574, 572, 571, 568, 563, 330, 319,\n",
       "       216, 200, 182, 181, 176, 159, 155, 151, 150, 142, 141, 136, 132,\n",
       "       130, 129, 125, 123, 122, 121, 116, 115, 114, 112, 111, 110, 108,\n",
       "       107, 105, 103, 101,  98,  97,  95,  94,  93,  92,  91,  90,  89,\n",
       "        88,  87,  86,  85,  84,  83,  82,  81,  80,  79,  78,  77,  76,\n",
       "        75,  74,  73,  72,  71,  70,  69,  68,  67,  66,  65,  64,  63,\n",
       "        62,  61,  60,  59,  58,  57,  56,  55,  54,  53,  52,  51,  50,\n",
       "        49,  48,  47,  46,  45,  44,  43,  42,  41,  40,  39,  38,  37,\n",
       "        36,  35,  34,  33,  32,  31,  30,  29,  28,  27,  26,  25,  24,\n",
       "        23,  22,  21,  20,  19,  18,  17,  16,  15,  14,  13,  12,  11,\n",
       "        10,   9,   8,   7,   6,   5,   4,   3,   2,   1])"
      ]
     },
     "execution_count": 24,
     "metadata": {},
     "output_type": "execute_result"
    }
   ],
   "source": [
    "data['len'].unique()"
   ]
  },
  {
   "cell_type": "code",
   "execution_count": 130,
   "metadata": {},
   "outputs": [
    {
     "data": {
      "text/plain": [
       "895"
      ]
     },
     "execution_count": 130,
     "metadata": {},
     "output_type": "execute_result"
    }
   ],
   "source": [
    "21375 % batch_size"
   ]
  },
  {
   "cell_type": "markdown",
   "metadata": {},
   "source": [
    "Отрисовка градиентов"
   ]
  },
  {
   "cell_type": "code",
   "execution_count": 48,
   "metadata": {},
   "outputs": [
    {
     "data": {
      "image/png": "[encoded data removed]",
      "text/plain": [
       "<matplotlib.figure.Figure at 0x1a2aab0940>"
      ]
     },
     "metadata": {},
     "output_type": "display_data"
    },
    {
     "data": {
      "image/png": "[encoded data removed]",
      "text/plain": [
       "<matplotlib.figure.Figure at 0x1a2db68e80>"
      ]
     },
     "metadata": {},
     "output_type": "display_data"
    },
    {
     "data": {
      "image/png": "[encoded data removed]",
      "text/plain": [
       "<matplotlib.figure.Figure at 0x1a37cdb748>"
      ]
     },
     "metadata": {},
     "output_type": "display_data"
    },
    {
     "data": {
      "image/png": "[encoded data removed]",
      "text/plain": [
       "<matplotlib.figure.Figure at 0x1a2dba2518>"
      ]
     },
     "metadata": {},
     "output_type": "display_data"
    }
   ],
   "source": [
    "\n",
    "legend_g = [str(i + 1) for i in range(model.n_layers)]\n",
    "# absc = np.array(range(1, n_epochs + 1)) * steps\n",
    "steps = 0.67 * len(data) / batch_size\n",
    "absc = np.array([xx[0] for xx in val_log]) \n",
    "\n",
    "plt.figure()\n",
    "plt.grid()\n",
    "plt.title('Gradient norm input to hidden vs train steps')\n",
    "for i in range(model.n_layers):\n",
    "    plt.plot(absc, model.grad_ih[:, i])\n",
    "plt.legend(legend_g)\n",
    "plt.xlabel('train steps')\n",
    "plt.gca().set_yscale('log')\n",
    "\n",
    "plt.figure()\n",
    "plt.grid()\n",
    "plt.title('Gradient norm hidden to hidden vs train steps')\n",
    "for i in range(model.n_layers):\n",
    "    plt.plot(absc, model.grad_hh[:, i])\n",
    "plt.legend(legend_g)\n",
    "plt.xlabel('train steps')\n",
    "plt.gca().set_yscale('log')\n",
    "\n",
    "\n",
    "absc = np.arange(0, model.n_layers, 1) + 1\n",
    "legend_g = [str(i + 1) for i in range(n_epochs)]\n",
    "plt.figure()\n",
    "plt.grid()\n",
    "plt.title('Gradient norm input to hidden vs layer num')\n",
    "for i in range(n_epochs):\n",
    "    plt.plot(absc, model.grad_ih[i, :])\n",
    "plt.legend(legend_g)\n",
    "plt.xlabel('layer num')\n",
    "plt.gca().set_yscale('log')\n",
    "\n",
    "plt.figure()\n",
    "plt.grid()\n",
    "plt.title('Gradient norm hidden to hidden vs layer num')\n",
    "for i in range(n_epochs):\n",
    "    plt.plot(absc, model.grad_hh[i, :])\n",
    "plt.legend(legend_g)\n",
    "plt.xlabel('layer num')\n",
    "plt.gca().set_yscale('log')"
   ]
  },
  {
   "cell_type": "code",
   "execution_count": 41,
   "metadata": {},
   "outputs": [
    {
     "data": {
      "text/plain": [
       "(32, 15)"
      ]
     },
     "execution_count": 41,
     "metadata": {},
     "output_type": "execute_result"
    }
   ],
   "source": [
    "model.grad_ih.shape"
   ]
  },
  {
   "cell_type": "code",
   "execution_count": 43,
   "metadata": {},
   "outputs": [
    {
     "data": {
      "text/plain": [
       "array([[0.00776709, 0.00614966, 0.00533769, 0.0051375 , 0.00527796,\n",
       "        0.00564234, 0.00618414, 0.00656164, 0.0075489 , 0.00845764,\n",
       "        0.00971156, 0.01413176, 0.01815981, 0.02888547, 0.04507037],\n",
       "       [0.01069363, 0.0075207 , 0.0066351 , 0.00739427, 0.0079042 ,\n",
       "        0.00871113, 0.01099456, 0.01233189, 0.01362918, 0.01371307,\n",
       "        0.01556285, 0.02066151, 0.02482995, 0.03593459, 0.04551143],\n",
       "       [0.01643763, 0.01423986, 0.01286488, 0.01471453, 0.01719578,\n",
       "        0.01975705, 0.02439385, 0.02855885, 0.03801537, 0.04563944,\n",
       "        0.05973064, 0.08218362, 0.09359465, 0.13042019, 0.17438531],\n",
       "       [0.0233119 , 0.0197799 , 0.01940049, 0.02290015, 0.02587589,\n",
       "        0.0291173 , 0.03372117, 0.03754961, 0.04497916, 0.04748746,\n",
       "        0.05787867, 0.07782836, 0.07911009, 0.09819482, 0.12994996],\n",
       "       [0.16348851, 0.10013679, 0.06001681, 0.0391818 , 0.02808731,\n",
       "        0.0208284 , 0.020048  , 0.01868237, 0.02302104, 0.02618696,\n",
       "        0.03243009, 0.04299824, 0.04928184, 0.06597318, 0.08567952],\n",
       "       [0.4346835 , 0.2507512 , 0.13517974, 0.09299019, 0.07045022,\n",
       "        0.06670298, 0.06729678, 0.06580356, 0.06543849, 0.06277715,\n",
       "        0.06158749, 0.06076673, 0.05998655, 0.07834025, 0.10248934],\n",
       "       [0.2236217 , 0.14963122, 0.08375643, 0.0567597 , 0.04347037,\n",
       "        0.03499484, 0.03416203, 0.03253524, 0.03447174, 0.0320847 ,\n",
       "        0.0309427 , 0.03218056, 0.03624184, 0.04911073, 0.06602129],\n",
       "       [0.29106271, 0.18637234, 0.08566074, 0.05253268, 0.02960711,\n",
       "        0.01783834, 0.01175957, 0.00760447, 0.00609252, 0.00604312,\n",
       "        0.00747307, 0.01009912, 0.01570159, 0.02937091, 0.05128279],\n",
       "       [0.31350362, 0.20409933, 0.12671286, 0.10145789, 0.09385637,\n",
       "        0.08423169, 0.07741553, 0.08084019, 0.08780012, 0.08532273,\n",
       "        0.0792215 , 0.07999134, 0.08201565, 0.10321853, 0.13809845],\n",
       "       [0.45919272, 0.31393936, 0.14207098, 0.09001834, 0.06590572,\n",
       "        0.05726874, 0.06142842, 0.06377217, 0.06544702, 0.06141015,\n",
       "        0.0584822 , 0.05613646, 0.04821765, 0.05569413, 0.08119827],\n",
       "       [0.21773033, 0.1246327 , 0.06546761, 0.04728147, 0.04168016,\n",
       "        0.03793696, 0.03883524, 0.03997738, 0.04285876, 0.04134856,\n",
       "        0.04390697, 0.04127067, 0.03630115, 0.03515055, 0.04118114],\n",
       "       [0.38569903, 0.28800252, 0.14386663, 0.1096964 , 0.09042983,\n",
       "        0.08253927, 0.0876628 , 0.09007972, 0.09699232, 0.09231661,\n",
       "        0.08460265, 0.08236802, 0.08325873, 0.10677536, 0.1341081 ],\n",
       "       [0.25220555, 0.12947583, 0.06007248, 0.03473191, 0.02308959,\n",
       "        0.01730067, 0.01401112, 0.01166542, 0.01083453, 0.01013404,\n",
       "        0.01074989, 0.01268678, 0.01657407, 0.0319557 , 0.0548373 ],\n",
       "       [0.28011021, 0.16175874, 0.06799077, 0.04039728, 0.03104152,\n",
       "        0.02953057, 0.02991695, 0.02989395, 0.03094726, 0.03190069,\n",
       "        0.03330182, 0.03543821, 0.03048806, 0.02956759, 0.04056466],\n",
       "       [0.30805922, 0.23603775, 0.10952175, 0.07405737, 0.06180065,\n",
       "        0.05119093, 0.04552175, 0.04209499, 0.04422891, 0.04387929,\n",
       "        0.04129374, 0.04038958, 0.04477844, 0.0634155 , 0.08607502],\n",
       "       [0.36719587, 0.26517263, 0.10895186, 0.07253224, 0.05475575,\n",
       "        0.04915714, 0.04457362, 0.03901635, 0.03857641, 0.03830938,\n",
       "        0.03710952, 0.03780603, 0.04050297, 0.05225818, 0.07051522],\n",
       "       [0.35087138, 0.18377925, 0.08132625, 0.05521413, 0.04085334,\n",
       "        0.03532359, 0.03470194, 0.03297872, 0.03548327, 0.03466329,\n",
       "        0.03196104, 0.02845458, 0.02882843, 0.0305968 , 0.04661744],\n",
       "       [0.11617352, 0.09469698, 0.0500148 , 0.02807584, 0.01875595,\n",
       "        0.01551133, 0.01619567, 0.01590606, 0.01691764, 0.01781861,\n",
       "        0.01825724, 0.01975497, 0.02084958, 0.02359584, 0.02946352],\n",
       "       [0.22642343, 0.12477362, 0.05576366, 0.03634747, 0.0317644 ,\n",
       "        0.02833657, 0.02687594, 0.02496387, 0.02660488, 0.03203645,\n",
       "        0.03549595, 0.03790458, 0.03386668, 0.03664621, 0.04449092],\n",
       "       [0.34574786, 0.27896667, 0.10847501, 0.07437214, 0.05942787,\n",
       "        0.05354188, 0.04987049, 0.04750298, 0.05090642, 0.05290565,\n",
       "        0.04772081, 0.04508224, 0.04361701, 0.0542072 , 0.06090026],\n",
       "       [0.32213652, 0.21822268, 0.08823007, 0.05940121, 0.04734785,\n",
       "        0.04214505, 0.0436606 , 0.03931663, 0.04079435, 0.03915323,\n",
       "        0.03418465, 0.02803876, 0.03129785, 0.03344422, 0.04850104],\n",
       "       [0.36068422, 0.21720047, 0.10499649, 0.09372813, 0.0941362 ,\n",
       "        0.09378269, 0.0938333 , 0.09568489, 0.10231113, 0.11172561,\n",
       "        0.11626124, 0.11616904, 0.11916932, 0.13801469, 0.16593596],\n",
       "       [0.34281373, 0.19772255, 0.09358599, 0.05939948, 0.04309493,\n",
       "        0.03101864, 0.02718892, 0.02539706, 0.02657114, 0.02600217,\n",
       "        0.02617637, 0.02715618, 0.02597951, 0.02968421, 0.03445493],\n",
       "       [0.14570774, 0.09002732, 0.0469828 , 0.03323242, 0.02912259,\n",
       "        0.02802256, 0.03087905, 0.03100578, 0.03319628, 0.03487091,\n",
       "        0.03508502, 0.03784761, 0.03820862, 0.04156422, 0.05004999],\n",
       "       [0.76869595, 0.45450369, 0.28746113, 0.26336268, 0.26172331,\n",
       "        0.24202435, 0.26168627, 0.25638825, 0.28580594, 0.29101336,\n",
       "        0.25440815, 0.23003487, 0.21821286, 0.25851703, 0.34329966],\n",
       "       [0.54324853, 0.57228702, 0.24933894, 0.16359086, 0.13839595,\n",
       "        0.14171079, 0.16156976, 0.17539249, 0.20442639, 0.23703954,\n",
       "        0.24148603, 0.22061689, 0.2037556 , 0.18210548, 0.1874928 ],\n",
       "       [0.31699482, 0.1813969 , 0.08105256, 0.0561705 , 0.04291526,\n",
       "        0.0449996 , 0.04345729, 0.04071243, 0.04033286, 0.0508371 ,\n",
       "        0.04555753, 0.03987793, 0.03211335, 0.02814638, 0.02639606],\n",
       "       [0.27683643, 0.16075191, 0.08296928, 0.05848596, 0.04615892,\n",
       "        0.04388154, 0.04311131, 0.04005947, 0.03869961, 0.03678025,\n",
       "        0.04205887, 0.03575376, 0.02887755, 0.02641279, 0.03172946],\n",
       "       [0.32905588, 0.26602551, 0.10222287, 0.05874558, 0.04424727,\n",
       "        0.04172902, 0.04412881, 0.04704181, 0.0478112 , 0.04845218,\n",
       "        0.05054285, 0.04887492, 0.04532906, 0.04677091, 0.05766897],\n",
       "       [0.24843718, 0.17241819, 0.08086128, 0.0621322 , 0.04786257,\n",
       "        0.04390732, 0.04350417, 0.04100374, 0.04019125, 0.03675692,\n",
       "        0.03399324, 0.03195239, 0.02850224, 0.03106621, 0.03526072],\n",
       "       [0.73303556, 0.43881911, 0.24259889, 0.19246468, 0.15528224,\n",
       "        0.14047964, 0.13695462, 0.12390995, 0.12378512, 0.12175122,\n",
       "        0.11457998, 0.09741269, 0.08753114, 0.09641723, 0.12386463],\n",
       "       [0.25453228, 0.1617173 , 0.07339962, 0.04806203, 0.04611314,\n",
       "        0.05090486, 0.05342237, 0.05634691, 0.05456755, 0.05732454,\n",
       "        0.06106728, 0.05726605, 0.04799616, 0.04236324, 0.04716517]])"
      ]
     },
     "execution_count": 43,
     "metadata": {},
     "output_type": "execute_result"
    }
   ],
   "source": [
    "model.grad_ih"
   ]
  },
  {
   "cell_type": "code",
   "execution_count": null,
   "metadata": {},
   "outputs": [],
   "source": []
  }
 ],
 "metadata": {
  "kernelspec": {
   "display_name": "Python 2",
   "language": "python",
   "name": "python2"
  },
  "language_info": {
   "codemirror_mode": {
    "name": "ipython",
    "version": 2
   },
   "file_extension": ".py",
   "mimetype": "text/x-python",
   "name": "python",
   "nbconvert_exporter": "python",
   "pygments_lexer": "ipython2",
   "version": "2.7.12"
  }
 },
 "nbformat": 4,
 "nbformat_minor": 2
}
